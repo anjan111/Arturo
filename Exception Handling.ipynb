{
 "cells": [
  {
   "cell_type": "code",
   "execution_count": 1,
   "metadata": {},
   "outputs": [
    {
     "ename": "SyntaxError",
     "evalue": "EOL while scanning string literal (<ipython-input-1-6a86cb85ffa0>, line 2)",
     "output_type": "error",
     "traceback": [
      "\u001b[1;36m  File \u001b[1;32m\"<ipython-input-1-6a86cb85ffa0>\"\u001b[1;36m, line \u001b[1;32m2\u001b[0m\n\u001b[1;33m    print\"hi\u001b[0m\n\u001b[1;37m            ^\u001b[0m\n\u001b[1;31mSyntaxError\u001b[0m\u001b[1;31m:\u001b[0m EOL while scanning string literal\n"
     ]
    }
   ],
   "source": [
    "print(\"hello\")\n",
    "print\"hi"
   ]
  },
  {
   "cell_type": "code",
   "execution_count": 2,
   "metadata": {},
   "outputs": [
    {
     "name": "stdout",
     "output_type": "stream",
     "text": [
      "hello\n",
      "hi\n"
     ]
    },
    {
     "ename": "ZeroDivisionError",
     "evalue": "division by zero",
     "output_type": "error",
     "traceback": [
      "\u001b[1;31m---------------------------------------------------------------------------\u001b[0m",
      "\u001b[1;31mZeroDivisionError\u001b[0m                         Traceback (most recent call last)",
      "\u001b[1;32m<ipython-input-2-e1d7bb310e33>\u001b[0m in \u001b[0;36m<module>\u001b[1;34m\u001b[0m\n\u001b[0;32m      1\u001b[0m \u001b[0mprint\u001b[0m\u001b[1;33m(\u001b[0m\u001b[1;34m\"hello\"\u001b[0m\u001b[1;33m)\u001b[0m\u001b[1;33m\u001b[0m\u001b[1;33m\u001b[0m\u001b[0m\n\u001b[0;32m      2\u001b[0m \u001b[0mprint\u001b[0m\u001b[1;33m(\u001b[0m\u001b[1;34m\"hi\"\u001b[0m\u001b[1;33m)\u001b[0m\u001b[1;33m\u001b[0m\u001b[1;33m\u001b[0m\u001b[0m\n\u001b[1;32m----> 3\u001b[1;33m \u001b[0mprint\u001b[0m\u001b[1;33m(\u001b[0m\u001b[1;36m10\u001b[0m\u001b[1;33m/\u001b[0m\u001b[1;36m0\u001b[0m\u001b[1;33m)\u001b[0m \u001b[1;31m# Zero Devision Error\u001b[0m\u001b[1;33m\u001b[0m\u001b[1;33m\u001b[0m\u001b[0m\n\u001b[0m\u001b[0;32m      4\u001b[0m \u001b[0mprint\u001b[0m\u001b[1;33m(\u001b[0m\u001b[1;34m\"bye\"\u001b[0m\u001b[1;33m)\u001b[0m\u001b[1;33m\u001b[0m\u001b[1;33m\u001b[0m\u001b[0m\n",
      "\u001b[1;31mZeroDivisionError\u001b[0m: division by zero"
     ]
    }
   ],
   "source": [
    "# exception\n",
    "print(\"hello\")\n",
    "print(\"hi\")\n",
    "print(10/0) # Zero Division Error\n",
    "print(\"bye\")"
   ]
  },
  {
   "cell_type": "code",
   "execution_count": 3,
   "metadata": {},
   "outputs": [
    {
     "name": "stdout",
     "output_type": "stream",
     "text": [
      "hello\n",
      "hi\n"
     ]
    },
    {
     "ename": "TypeError",
     "evalue": "can't convert complex to int",
     "output_type": "error",
     "traceback": [
      "\u001b[1;31m---------------------------------------------------------------------------\u001b[0m",
      "\u001b[1;31mTypeError\u001b[0m                                 Traceback (most recent call last)",
      "\u001b[1;32m<ipython-input-3-acef2b07b3bf>\u001b[0m in \u001b[0;36m<module>\u001b[1;34m\u001b[0m\n\u001b[0;32m      2\u001b[0m \u001b[0mprint\u001b[0m\u001b[1;33m(\u001b[0m\u001b[1;34m\"hello\"\u001b[0m\u001b[1;33m)\u001b[0m\u001b[1;33m\u001b[0m\u001b[1;33m\u001b[0m\u001b[0m\n\u001b[0;32m      3\u001b[0m \u001b[0mprint\u001b[0m\u001b[1;33m(\u001b[0m\u001b[1;34m\"hi\"\u001b[0m\u001b[1;33m)\u001b[0m\u001b[1;33m\u001b[0m\u001b[1;33m\u001b[0m\u001b[0m\n\u001b[1;32m----> 4\u001b[1;33m \u001b[0mint\u001b[0m\u001b[1;33m(\u001b[0m\u001b[1;36m2\u001b[0m\u001b[1;33m+\u001b[0m\u001b[1;36m4j\u001b[0m\u001b[1;33m)\u001b[0m\u001b[1;33m\u001b[0m\u001b[1;33m\u001b[0m\u001b[0m\n\u001b[0m\u001b[0;32m      5\u001b[0m \u001b[0mprint\u001b[0m\u001b[1;33m(\u001b[0m\u001b[1;34m\"bye\"\u001b[0m\u001b[1;33m)\u001b[0m\u001b[1;33m\u001b[0m\u001b[1;33m\u001b[0m\u001b[0m\n",
      "\u001b[1;31mTypeError\u001b[0m: can't convert complex to int"
     ]
    }
   ],
   "source": [
    "# exception\n",
    "print(\"hello\")\n",
    "print(\"hi\")\n",
    "int(2+4j)\n",
    "print(\"bye\")"
   ]
  },
  {
   "cell_type": "code",
   "execution_count": 4,
   "metadata": {},
   "outputs": [
    {
     "name": "stdout",
     "output_type": "stream",
     "text": [
      "hello\n",
      "hi\n"
     ]
    },
    {
     "ename": "ValueError",
     "evalue": "invalid literal for int() with base 10: '12.909873'",
     "output_type": "error",
     "traceback": [
      "\u001b[1;31m---------------------------------------------------------------------------\u001b[0m",
      "\u001b[1;31mValueError\u001b[0m                                Traceback (most recent call last)",
      "\u001b[1;32m<ipython-input-4-67d6d615be42>\u001b[0m in \u001b[0;36m<module>\u001b[1;34m\u001b[0m\n\u001b[0;32m      2\u001b[0m \u001b[0mprint\u001b[0m\u001b[1;33m(\u001b[0m\u001b[1;34m\"hello\"\u001b[0m\u001b[1;33m)\u001b[0m\u001b[1;33m\u001b[0m\u001b[1;33m\u001b[0m\u001b[0m\n\u001b[0;32m      3\u001b[0m \u001b[0mprint\u001b[0m\u001b[1;33m(\u001b[0m\u001b[1;34m\"hi\"\u001b[0m\u001b[1;33m)\u001b[0m\u001b[1;33m\u001b[0m\u001b[1;33m\u001b[0m\u001b[0m\n\u001b[1;32m----> 4\u001b[1;33m \u001b[0mint\u001b[0m\u001b[1;33m(\u001b[0m\u001b[1;34m\"12.909873\"\u001b[0m\u001b[1;33m)\u001b[0m\u001b[1;33m\u001b[0m\u001b[1;33m\u001b[0m\u001b[0m\n\u001b[0m\u001b[0;32m      5\u001b[0m \u001b[0mprint\u001b[0m\u001b[1;33m(\u001b[0m\u001b[1;34m\"bye\"\u001b[0m\u001b[1;33m)\u001b[0m\u001b[1;33m\u001b[0m\u001b[1;33m\u001b[0m\u001b[0m\n",
      "\u001b[1;31mValueError\u001b[0m: invalid literal for int() with base 10: '12.909873'"
     ]
    }
   ],
   "source": [
    "# exception\n",
    "print(\"hello\")\n",
    "print(\"hi\")\n",
    "int(\"12.909873\")\n",
    "print(\"bye\")"
   ]
  },
  {
   "cell_type": "code",
   "execution_count": 5,
   "metadata": {},
   "outputs": [
    {
     "name": "stdout",
     "output_type": "stream",
     "text": [
      "hello\n",
      "hi\n"
     ]
    },
    {
     "ename": "FileNotFoundError",
     "evalue": "[Errno 2] No such file or directory: 'kjhdsfjkdgfjdfhkd.txt'",
     "output_type": "error",
     "traceback": [
      "\u001b[1;31m---------------------------------------------------------------------------\u001b[0m",
      "\u001b[1;31mFileNotFoundError\u001b[0m                         Traceback (most recent call last)",
      "\u001b[1;32m<ipython-input-5-dc8e2cffa209>\u001b[0m in \u001b[0;36m<module>\u001b[1;34m\u001b[0m\n\u001b[0;32m      2\u001b[0m \u001b[0mprint\u001b[0m\u001b[1;33m(\u001b[0m\u001b[1;34m\"hello\"\u001b[0m\u001b[1;33m)\u001b[0m\u001b[1;33m\u001b[0m\u001b[1;33m\u001b[0m\u001b[0m\n\u001b[0;32m      3\u001b[0m \u001b[0mprint\u001b[0m\u001b[1;33m(\u001b[0m\u001b[1;34m\"hi\"\u001b[0m\u001b[1;33m)\u001b[0m\u001b[1;33m\u001b[0m\u001b[1;33m\u001b[0m\u001b[0m\n\u001b[1;32m----> 4\u001b[1;33m \u001b[0mopen\u001b[0m\u001b[1;33m(\u001b[0m\u001b[1;34m\"kjhdsfjkdgfjdfhkd.txt\"\u001b[0m\u001b[1;33m,\u001b[0m\u001b[1;34m\"r\"\u001b[0m\u001b[1;33m)\u001b[0m\u001b[1;33m\u001b[0m\u001b[1;33m\u001b[0m\u001b[0m\n\u001b[0m\u001b[0;32m      5\u001b[0m \u001b[0mprint\u001b[0m\u001b[1;33m(\u001b[0m\u001b[1;34m\"bye\"\u001b[0m\u001b[1;33m)\u001b[0m\u001b[1;33m\u001b[0m\u001b[1;33m\u001b[0m\u001b[0m\n",
      "\u001b[1;31mFileNotFoundError\u001b[0m: [Errno 2] No such file or directory: 'kjhdsfjkdgfjdfhkd.txt'"
     ]
    }
   ],
   "source": [
    "# exception\n",
    "print(\"hello\")\n",
    "print(\"hi\")\n",
    "open(\"kjhdsfjkdgfjdfhkd.txt\",\"r\")\n",
    "print(\"bye\")"
   ]
  },
  {
   "cell_type": "code",
   "execution_count": 6,
   "metadata": {},
   "outputs": [
    {
     "name": "stdout",
     "output_type": "stream",
     "text": [
      "hello\n",
      "hi\n"
     ]
    },
    {
     "ename": "ModuleNotFoundError",
     "evalue": "No module named 'kjdhajkfhdfjkhdsfkjd'",
     "output_type": "error",
     "traceback": [
      "\u001b[1;31m---------------------------------------------------------------------------\u001b[0m",
      "\u001b[1;31mModuleNotFoundError\u001b[0m                       Traceback (most recent call last)",
      "\u001b[1;32m<ipython-input-6-91ad0e7bc58e>\u001b[0m in \u001b[0;36m<module>\u001b[1;34m\u001b[0m\n\u001b[0;32m      2\u001b[0m \u001b[0mprint\u001b[0m\u001b[1;33m(\u001b[0m\u001b[1;34m\"hello\"\u001b[0m\u001b[1;33m)\u001b[0m\u001b[1;33m\u001b[0m\u001b[1;33m\u001b[0m\u001b[0m\n\u001b[0;32m      3\u001b[0m \u001b[0mprint\u001b[0m\u001b[1;33m(\u001b[0m\u001b[1;34m\"hi\"\u001b[0m\u001b[1;33m)\u001b[0m\u001b[1;33m\u001b[0m\u001b[1;33m\u001b[0m\u001b[0m\n\u001b[1;32m----> 4\u001b[1;33m \u001b[1;32mimport\u001b[0m \u001b[0mkjdhajkfhdfjkhdsfkjd\u001b[0m\u001b[1;33m\u001b[0m\u001b[1;33m\u001b[0m\u001b[0m\n\u001b[0m\u001b[0;32m      5\u001b[0m \u001b[0mprint\u001b[0m\u001b[1;33m(\u001b[0m\u001b[1;34m\"bye\"\u001b[0m\u001b[1;33m)\u001b[0m\u001b[1;33m\u001b[0m\u001b[1;33m\u001b[0m\u001b[0m\n",
      "\u001b[1;31mModuleNotFoundError\u001b[0m: No module named 'kjdhajkfhdfjkhdsfkjd'"
     ]
    }
   ],
   "source": [
    "# exception\n",
    "print(\"hello\")\n",
    "print(\"hi\")\n",
    "import kjdhajkfhdfjkhdsfkjd\n",
    "print(\"bye\")"
   ]
  },
  {
   "cell_type": "code",
   "execution_count": null,
   "metadata": {},
   "outputs": [],
   "source": [
    "# exception handling\n",
    "\n",
    "try : \n",
    "    '''\n",
    "    program logic \n",
    "    '''\n",
    "\n",
    "except:\n",
    "    '''\n",
    "    When the run time error we got \n",
    "    '''\n",
    "else:\n",
    "    '''\n",
    "    when we couldn't get any exception\n",
    "    '''\n",
    "finally:\n",
    "    '''\n",
    "    Default\n",
    "    '''"
   ]
  },
  {
   "cell_type": "code",
   "execution_count": 7,
   "metadata": {},
   "outputs": [
    {
     "name": "stdout",
     "output_type": "stream",
     "text": [
      "hello\n",
      "hai\n",
      "I am from else block\n",
      "I am at finally block\n"
     ]
    }
   ],
   "source": [
    "# exception handling\n",
    "\n",
    "try : \n",
    "    print(\"hello\")\n",
    "    print(\"hai\")\n",
    "\n",
    "except:\n",
    "    print(\"I am at except block\")\n",
    "else:\n",
    "    print(\"I am from else block\")\n",
    "finally:\n",
    "    print(\"I am at finally block\")"
   ]
  },
  {
   "cell_type": "code",
   "execution_count": 8,
   "metadata": {},
   "outputs": [
    {
     "name": "stdout",
     "output_type": "stream",
     "text": [
      "hello\n",
      "I am at except block\n",
      "I am at finally block\n"
     ]
    }
   ],
   "source": [
    "# exception handling\n",
    "\n",
    "try : \n",
    "    print(\"hello\")\n",
    "    print(10/0)\n",
    "    print(\"hai\")\n",
    "\n",
    "except:\n",
    "    print(\"I am at except block\")\n",
    "else:\n",
    "    print(\"I am from else block\")\n",
    "finally:\n",
    "    print(\"I am at finally block\")"
   ]
  },
  {
   "cell_type": "code",
   "execution_count": 9,
   "metadata": {},
   "outputs": [
    {
     "name": "stdout",
     "output_type": "stream",
     "text": [
      "hello\n",
      "I am at Zero Division Exception Handler\n",
      "I am at finally block\n"
     ]
    }
   ],
   "source": [
    "# exception handling\n",
    "\n",
    "try : \n",
    "    print(\"hello\")\n",
    "    print(10/0)\n",
    "    print(\"hai\")\n",
    "except ZeroDivisionError:\n",
    "    print(\"I am at Zero Division Exception Handler\")\n",
    "except:\n",
    "    print(\"I am at except block\")\n",
    "else:\n",
    "    print(\"I am from else block\")\n",
    "finally:\n",
    "    print(\"I am at finally block\")"
   ]
  },
  {
   "cell_type": "code",
   "execution_count": 10,
   "metadata": {},
   "outputs": [
    {
     "name": "stdout",
     "output_type": "stream",
     "text": [
      "hello\n",
      "I am at except block\n",
      "I am at finally block\n"
     ]
    }
   ],
   "source": [
    "# exception handling\n",
    "\n",
    "try : \n",
    "    print(\"hello\")\n",
    "    int(12+4j)\n",
    "    print(\"hai\")\n",
    "except ZeroDivisionError:\n",
    "    print(\"I am at Zero Division Exception Handler\")\n",
    "except:\n",
    "    print(\"I am at except block\")\n",
    "else:\n",
    "    print(\"I am from else block\")\n",
    "finally:\n",
    "    print(\"I am at finally block\")"
   ]
  },
  {
   "cell_type": "code",
   "execution_count": 11,
   "metadata": {},
   "outputs": [
    {
     "name": "stdout",
     "output_type": "stream",
     "text": [
      "hello\n",
      "I am At Type Error ExceptionHandlwer\n",
      "I am at finally block\n"
     ]
    }
   ],
   "source": [
    "# exception handling\n",
    "\n",
    "try : \n",
    "    print(\"hello\")\n",
    "    int(12+4j)\n",
    "    print(\"hai\")\n",
    "except ZeroDivisionError:\n",
    "    print(\"I am at Zero Division Exception Handler\")\n",
    "except TypeError:\n",
    "    print(\"I am At Type Error ExceptionHandlwer\")\n",
    "except:\n",
    "    print(\"I am at except block\")\n",
    "else:\n",
    "    print(\"I am from else block\")\n",
    "finally:\n",
    "    print(\"I am at finally block\")"
   ]
  },
  {
   "cell_type": "code",
   "execution_count": 12,
   "metadata": {},
   "outputs": [
    {
     "name": "stdout",
     "output_type": "stream",
     "text": [
      "hello\n",
      "I am At Type Error ExceptionHandlwer\n",
      "I am at finally block\n"
     ]
    }
   ],
   "source": [
    "# exception handling\n",
    "\n",
    "try : \n",
    "    print(\"hello\")\n",
    "    int(12+4j)\n",
    "    print(\"hai\")\n",
    "except ZeroDivisionError:\n",
    "    print(\"I am at Zero Division Exception Handler\")\n",
    "except TypeError:\n",
    "    print(\"I am At Type Error ExceptionHandlwer\")\n",
    "except FileNotFoundError:\n",
    "    print(\"I am At File Not Error ExceptionHandlwer\")\n",
    "except ModuleNotFoundError:\n",
    "    print(\"I am At Module Not Found Error ExceptionHandlwer\")\n",
    "    \n",
    "except:\n",
    "    print(\"I am at except block\")\n",
    "else:\n",
    "    print(\"I am from else block\")\n",
    "finally:\n",
    "    print(\"I am at finally block\")"
   ]
  },
  {
   "cell_type": "code",
   "execution_count": 13,
   "metadata": {},
   "outputs": [
    {
     "name": "stdout",
     "output_type": "stream",
     "text": [
      "hello\n",
      "I am At File Not Error ExceptionHandlwer\n",
      "I am at finally block\n"
     ]
    }
   ],
   "source": [
    "# exception handling\n",
    "\n",
    "try : \n",
    "    print(\"hello\")\n",
    "    open(\"akhdkjdfhdkjf\")\n",
    "    print(\"hai\")\n",
    "except ZeroDivisionError:\n",
    "    print(\"I am at Zero Division Exception Handler\")\n",
    "except TypeError:\n",
    "    print(\"I am At Type Error ExceptionHandlwer\")\n",
    "except FileNotFoundError:\n",
    "    print(\"I am At File Not Error ExceptionHandlwer\")\n",
    "except ModuleNotFoundError:\n",
    "    print(\"I am At Module Not Found Error ExceptionHandlwer\")\n",
    "    \n",
    "except:\n",
    "    print(\"I am at except block\")\n",
    "else:\n",
    "    print(\"I am from else block\")\n",
    "finally:\n",
    "    print(\"I am at finally block\")"
   ]
  },
  {
   "cell_type": "code",
   "execution_count": 14,
   "metadata": {},
   "outputs": [
    {
     "name": "stdout",
     "output_type": "stream",
     "text": [
      "hello\n",
      "I am At Type Error ExceptionHandlwer\n",
      "I am at finally block\n"
     ]
    }
   ],
   "source": [
    "# exception handling\n",
    "\n",
    "try : \n",
    "    print(\"hello\")\n",
    "    raise TypeError\n",
    "    print(\"hai\")\n",
    "except ZeroDivisionError:\n",
    "    print(\"I am at Zero Division Exception Handler\")\n",
    "except TypeError:\n",
    "    print(\"I am At Type Error ExceptionHandlwer\")\n",
    "except FileNotFoundError:\n",
    "    print(\"I am At File Not Error ExceptionHandlwer\")\n",
    "except ModuleNotFoundError:\n",
    "    print(\"I am At Module Not Found Error ExceptionHandlwer\")\n",
    "    \n",
    "except:\n",
    "    print(\"I am at except block\")\n",
    "else:\n",
    "    print(\"I am from else block\")\n",
    "finally:\n",
    "    print(\"I am at finally block\")"
   ]
  },
  {
   "cell_type": "code",
   "execution_count": null,
   "metadata": {},
   "outputs": [],
   "source": []
  }
 ],
 "metadata": {
  "kernelspec": {
   "display_name": "Python 3",
   "language": "python",
   "name": "python3"
  },
  "language_info": {
   "codemirror_mode": {
    "name": "ipython",
    "version": 3
   },
   "file_extension": ".py",
   "mimetype": "text/x-python",
   "name": "python",
   "nbconvert_exporter": "python",
   "pygments_lexer": "ipython3",
   "version": "3.8.3"
  }
 },
 "nbformat": 4,
 "nbformat_minor": 4
}
