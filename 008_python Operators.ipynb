{
 "cells": [
  {
   "cell_type": "code",
   "execution_count": 1,
   "metadata": {},
   "outputs": [
    {
     "name": "stdout",
     "output_type": "stream",
     "text": [
      "enter a : 123\n",
      "enter b : 11\n",
      "123  +  11  ==>>  134\n",
      "123  -  11  ==>>  112\n",
      "123  *  11  ==>>  1353\n",
      "123  /  11  ==>>  11\n",
      "123  %  11  ==>>  2\n"
     ]
    }
   ],
   "source": [
    "# Arithmetic Operators\n",
    "'''\n",
    "--->> Addition         +\n",
    "--->> Subtraction      -\n",
    "--->> Multiplication   *\n",
    "--->> Division         /\n",
    "--->> Modulus          %\n",
    "--->> Exponant         **\n",
    "'''\n",
    "# wap  do all arithmetic Operations\n",
    "a = input(\"enter a : \")\n",
    "b = input(\"enter b : \")\n",
    "print a,\" + \",b,\" ==>> \",a+b\n",
    "print a,\" - \",b,\" ==>> \",a-b\n",
    "print a,\" * \",b,\" ==>> \",a*b\n",
    "print a,\" / \",b,\" ==>> \",a/b\n",
    "print a,\" % \",b,\" ==>> \",a%b\n"
   ]
  },
  {
   "cell_type": "code",
   "execution_count": 2,
   "metadata": {},
   "outputs": [
    {
     "name": "stdout",
     "output_type": "stream",
     "text": [
      "144\n",
      "10000\n",
      "32\n"
     ]
    }
   ],
   "source": [
    "# exponant\n",
    "print 12 ** 2  # 121\n",
    "print 10 ** 4  # 10000\n",
    "print 2 ** 5   # 32"
   ]
  },
  {
   "cell_type": "code",
   "execution_count": 3,
   "metadata": {},
   "outputs": [
    {
     "name": "stdout",
     "output_type": "stream",
     "text": [
      "11\n",
      "11\n",
      "********\n",
      "11.0\n",
      "11.1818181818\n"
     ]
    }
   ],
   "source": [
    "# floor division  //\n",
    "print 123 / 11  # 11\n",
    "print 123 // 11 # 11\n",
    "print \"********\"\n",
    "print 123.0 // 11 # 11.0\n",
    "print 123.0 /  11 #11.1818"
   ]
  },
  {
   "cell_type": "code",
   "execution_count": 4,
   "metadata": {},
   "outputs": [
    {
     "name": "stdout",
     "output_type": "stream",
     "text": [
      "enter a  : 12\n",
      "enter b  : 45\n",
      "12  <  45 ====>>> True\n",
      "12  >  45 ====>>> False\n",
      "12  ==  45 ====>>> False\n",
      "12  !=  45 ====>>> True\n",
      "12  <=  45 ====>>> True\n",
      "12  >=  45 ====>>> False\n"
     ]
    }
   ],
   "source": [
    "# Relational Operator\n",
    "'''\n",
    "1. lessthan               <\n",
    "2. greaterthan            >\n",
    "3. equal too              ==\n",
    "4. lessthan or equal      <=\n",
    "5. greaterthan or equal   >=\n",
    "6. not equal to           !=\n",
    "'''\n",
    "# wap for understanding the relational operators\n",
    "a = input(\"enter a  : \")\n",
    "b = input(\"enter b  : \")\n",
    "print a,\" < \" ,b , \"====>>>\",a < b\n",
    "print a,\" > \" ,b , \"====>>>\",a > b\n",
    "print a,\" == \" ,b , \"====>>>\",a == b\n",
    "print a,\" != \" ,b , \"====>>>\",a != b\n",
    "print a,\" <= \" ,b , \"====>>>\",a <= b\n",
    "print a,\" >= \" ,b , \"====>>>\",a >= b"
   ]
  },
  {
   "cell_type": "code",
   "execution_count": null,
   "metadata": {},
   "outputs": [],
   "source": [
    "# Logical Operators"
   ]
  },
  {
   "cell_type": "code",
   "execution_count": null,
   "metadata": {},
   "outputs": [],
   "source": [
    "# Special Operator"
   ]
  },
  {
   "cell_type": "code",
   "execution_count": 5,
   "metadata": {},
   "outputs": [
    {
     "name": "stdout",
     "output_type": "stream",
     "text": [
      "123\n",
      "123\n",
      "15252\n"
     ]
    }
   ],
   "source": [
    "# Assignment Operators\n",
    "\n",
    "var = 123 # constant to  variable\n",
    "b   = var # variable to variable\n",
    "c   = var + b* 123 # expression to variable\n",
    "print var\n",
    "print b\n",
    "print c"
   ]
  },
  {
   "cell_type": "code",
   "execution_count": 6,
   "metadata": {},
   "outputs": [
    {
     "name": "stdout",
     "output_type": "stream",
     "text": [
      "12\n",
      "22\n",
      "34\n",
      "22\n"
     ]
    }
   ],
   "source": [
    "# compound assignment operators\n",
    "a = 12\n",
    "b = 22\n",
    "print a\n",
    "print b\n",
    "a += b   ####   a =  a+b\n",
    "print a\n",
    "print b"
   ]
  },
  {
   "cell_type": "code",
   "execution_count": 7,
   "metadata": {},
   "outputs": [
    {
     "name": "stdout",
     "output_type": "stream",
     "text": [
      "12\n",
      "22\n",
      "-10\n",
      "22\n"
     ]
    }
   ],
   "source": [
    "# compound assignment operators\n",
    "a = 12\n",
    "b = 22\n",
    "print a\n",
    "print b\n",
    "a -= b   ####   a =  a-b\n",
    "print a\n",
    "print b"
   ]
  },
  {
   "cell_type": "code",
   "execution_count": 8,
   "metadata": {},
   "outputs": [
    {
     "name": "stdout",
     "output_type": "stream",
     "text": [
      "12\n",
      "22\n",
      "264\n",
      "22\n"
     ]
    }
   ],
   "source": [
    "# compound assignment operators\n",
    "a = 12\n",
    "b = 22\n",
    "print a\n",
    "print b\n",
    "a *= b   ####   a =  a*b\n",
    "print a\n",
    "print b"
   ]
  },
  {
   "cell_type": "code",
   "execution_count": null,
   "metadata": {},
   "outputs": [],
   "source": [
    "# combination  of /=   ,  %=   , **=  ,  //="
   ]
  },
  {
   "cell_type": "code",
   "execution_count": null,
   "metadata": {},
   "outputs": [],
   "source": [
    "# Bitwise Operator"
   ]
  },
  {
   "cell_type": "code",
   "execution_count": null,
   "metadata": {},
   "outputs": [],
   "source": []
  }
 ],
 "metadata": {
  "kernelspec": {
   "display_name": "Python 2",
   "language": "python",
   "name": "python2"
  },
  "language_info": {
   "codemirror_mode": {
    "name": "ipython",
    "version": 2
   },
   "file_extension": ".py",
   "mimetype": "text/x-python",
   "name": "python",
   "nbconvert_exporter": "python",
   "pygments_lexer": "ipython2",
   "version": "2.7.16"
  }
 },
 "nbformat": 4,
 "nbformat_minor": 2
}
