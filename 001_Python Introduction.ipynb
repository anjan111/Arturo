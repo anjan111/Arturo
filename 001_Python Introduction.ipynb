{
 "cells": [
  {
   "cell_type": "code",
   "execution_count": 1,
   "metadata": {},
   "outputs": [
    {
     "name": "stdout",
     "output_type": "stream",
     "text": [
      "hello\n"
     ]
    }
   ],
   "source": [
    "print \"hello\""
   ]
  },
  {
   "cell_type": "code",
   "execution_count": 2,
   "metadata": {},
   "outputs": [
    {
     "name": "stdout",
     "output_type": "stream",
     "text": [
      "hai\n",
      "helo\n",
      "hai\n"
     ]
    }
   ],
   "source": [
    "print \"hai\"\n",
    "print \"helo\"\n",
    "print \"hai\""
   ]
  },
  {
   "cell_type": "markdown",
   "metadata": {},
   "source": [
    "### Python Introduction\n",
    "\n",
    "===>> Python Features\n",
    "---------------------------------\n",
    "\n",
    "==>>>  Free\n",
    "\n",
    "==>>>  Open Sourse\n",
    "\n",
    "==>>>  Easy & Simple\n",
    "\n",
    "==>>>  We don't Required any Programming Langauge\n",
    "\n",
    "==>>>  C -> Features  allows  --->> SOP \n",
    "\n",
    "==>>> C++ -> Features allows   -->> OOPs\n",
    "\n",
    "==>>> Java -> Features allows  -->> Platform Indepeded\n",
    "\n",
    "==>>> Perl -> Features allows  -->> Interpreted PL\n",
    "\n",
    "==>>> Matlab ,   .net   , R  , Scala , SAS , Spark  --> Features are allows\n",
    "\n",
    "==>> Scripting Programming Langauge     --> s/w  -> obj  + exe  ( line by  line )\n",
    "\n",
    "==>> Dynamic PL   ---->>  S/w   ---> run  ---> o/p\n",
    "\n",
    "==>> General Purpose    ---> We can use in ANY APPLICATION\n",
    "\n",
    "\n",
    "\n",
    "\n",
    "===>> Python Application\n",
    "-------------------------------------\n",
    "\n",
    "\n",
    "==>> Machine Learning \n",
    "\n",
    "==>> Deep Learning \n",
    "\n",
    "==>> Artificial Intelligence\n",
    "\n",
    "==>> NLP\n",
    "\n",
    "==>> Data Analysis \n",
    "\n",
    "==>> Data Visualization\n",
    "\n",
    "==>> Data Science \n",
    "\n",
    "==>> Desktop Application\n",
    "\n",
    "==>> Mobile Application ( Instagram )\n",
    "\n",
    "==>> Web application  ( Youtube  )\n",
    "\n",
    "==>> Automation --> Testing \n",
    "\n",
    "==>> Automation  -> Networking\n",
    "\n",
    "==>> Automation  -> Data Base\n",
    "\n",
    "==>> Automation  -> Cloud \n",
    "\n",
    "==>> Robotics \n",
    "\n",
    "==>> Embedded Applcation\n",
    "\n",
    "==>> IOT\n",
    "\n",
    "\n",
    "\n",
    "### Python Basic Syntax\n",
    "\n",
    "###### Syntax\n",
    "\n",
    "=====>>>> Set Rules / Structure for writting a program\n",
    "\n",
    "##### Program\n",
    "\n",
    "====>>>> Collections intructions to do any one specific task\n",
    "\n",
    "##### Instructions\n",
    "\n",
    "====>>>> With a program each and every line is a one instructions\n",
    "\n",
    "1. Statements\n",
    "\n",
    "2. Comments\n",
    "\n",
    "##### Statements\n",
    "\n",
    "====>>> An instructions which can be executable \n",
    "\n",
    "====>>> to do any one specific task\n",
    "\n",
    "##### Comments\n",
    "\n",
    "===>>> An instructions which can't be executables\n",
    "\n",
    "===>>> To give brief explanation for each and every statement\n",
    "\n",
    "===>>> For easy to understanding a program\n",
    "\n",
    "1. Singleline comment   #\n",
    "\n",
    "2. Multiplle Line    '''    '''\n",
    "\n",
    "##### Keywords\n",
    "\n",
    "##### Identifiers\n",
    "\n",
    "##### Variable\n",
    "\n",
    "##### Datatypes\n",
    "\n"
   ]
  },
  {
   "cell_type": "code",
   "execution_count": 1,
   "metadata": {},
   "outputs": [
    {
     "name": "stdout",
     "output_type": "stream",
     "text": [
      "hello\n",
      "hai\n",
      "bye\n"
     ]
    }
   ],
   "source": [
    "# wap for understanding the instructions\n",
    "'''\n",
    "This is\n",
    "Multiline comments\n",
    "\n",
    "'''\n",
    "print \"hello\"\n",
    "print \"hai\"\n",
    "print \"bye\""
   ]
  },
  {
   "cell_type": "code",
   "execution_count": 2,
   "metadata": {},
   "outputs": [
    {
     "name": "stdout",
     "output_type": "stream",
     "text": [
      "['and', 'as', 'assert', 'break', 'class', 'continue', 'def', 'del', 'elif', 'else', 'except', 'exec', 'finally', 'for', 'from', 'global', 'if', 'import', 'in', 'is', 'lambda', 'not', 'or', 'pass', 'print', 'raise', 'return', 'try', 'while', 'with', 'yield']\n"
     ]
    }
   ],
   "source": [
    "# keywords\n",
    "'''\n",
    "pre defined wrords\n",
    "\n",
    "keyword lib having all keywords\n",
    "'''\n",
    "import  keyword\n",
    "print keyword.kwlist"
   ]
  },
  {
   "cell_type": "code",
   "execution_count": 3,
   "metadata": {},
   "outputs": [
    {
     "name": "stdout",
     "output_type": "stream",
     "text": [
      "123\n"
     ]
    }
   ],
   "source": [
    "###Idetifier \n",
    "'''\n",
    "==>> User defined words\n",
    "==>> To give the names for variables , functions, classes \n",
    "'''\n",
    "# Rules\n",
    "'''\n",
    "==>> We can use all alphabets \n",
    "==>> We can use all Digits\n",
    "==>> We can use underscore \n",
    "==>> Don't start with digit\n",
    "==>> Don't use  keyword \n",
    "==>> DOn't use special characters\n",
    "\n",
    "'''\n",
    "### variable\n",
    "'''\n",
    "===>> to store data in a memory loc\n",
    "===>> we can access the data from memory loc\n",
    "===>> we Don't need to declare \n",
    "\n",
    "'''\n",
    "var  = 123 # we are holding 123 into a var variable\n",
    "print var # we are printing 123 \n"
   ]
  },
  {
   "cell_type": "code",
   "execution_count": 4,
   "metadata": {},
   "outputs": [
    {
     "name": "stdout",
     "output_type": "stream",
     "text": [
      "67\n"
     ]
    }
   ],
   "source": [
    "VAr_12 = 67\n",
    "print VAr_12"
   ]
  },
  {
   "cell_type": "code",
   "execution_count": 5,
   "metadata": {},
   "outputs": [
    {
     "ename": "SyntaxError",
     "evalue": "invalid syntax (<ipython-input-5-6d5fa8a9d6e1>, line 1)",
     "output_type": "error",
     "traceback": [
      "\u001b[1;36m  File \u001b[1;32m\"<ipython-input-5-6d5fa8a9d6e1>\"\u001b[1;36m, line \u001b[1;32m1\u001b[0m\n\u001b[1;33m    5var =123\u001b[0m\n\u001b[1;37m       ^\u001b[0m\n\u001b[1;31mSyntaxError\u001b[0m\u001b[1;31m:\u001b[0m invalid syntax\n"
     ]
    }
   ],
   "source": [
    "5var =123 # don't start with digit"
   ]
  },
  {
   "cell_type": "code",
   "execution_count": 6,
   "metadata": {},
   "outputs": [
    {
     "ename": "SyntaxError",
     "evalue": "invalid syntax (<ipython-input-6-f59eb22b4bdb>, line 1)",
     "output_type": "error",
     "traceback": [
      "\u001b[1;36m  File \u001b[1;32m\"<ipython-input-6-f59eb22b4bdb>\"\u001b[1;36m, line \u001b[1;32m1\u001b[0m\n\u001b[1;33m    while  = 123 # don't use keyword\u001b[0m\n\u001b[1;37m           ^\u001b[0m\n\u001b[1;31mSyntaxError\u001b[0m\u001b[1;31m:\u001b[0m invalid syntax\n"
     ]
    }
   ],
   "source": [
    "while  = 123 # don't use keyword"
   ]
  },
  {
   "cell_type": "code",
   "execution_count": 7,
   "metadata": {},
   "outputs": [
    {
     "ename": "SyntaxError",
     "evalue": "invalid syntax (<ipython-input-7-9fc6f5411baf>, line 1)",
     "output_type": "error",
     "traceback": [
      "\u001b[1;36m  File \u001b[1;32m\"<ipython-input-7-9fc6f5411baf>\"\u001b[1;36m, line \u001b[1;32m1\u001b[0m\n\u001b[1;33m    v@r  =123 # don't use special character\u001b[0m\n\u001b[1;37m     ^\u001b[0m\n\u001b[1;31mSyntaxError\u001b[0m\u001b[1;31m:\u001b[0m invalid syntax\n"
     ]
    }
   ],
   "source": [
    "v@r  =123 # don't use special character"
   ]
  },
  {
   "cell_type": "code",
   "execution_count": 8,
   "metadata": {},
   "outputs": [
    {
     "ename": "SyntaxError",
     "evalue": "invalid syntax (<ipython-input-8-90d8b2eb1da3>, line 1)",
     "output_type": "error",
     "traceback": [
      "\u001b[1;36m  File \u001b[1;32m\"<ipython-input-8-90d8b2eb1da3>\"\u001b[1;36m, line \u001b[1;32m1\u001b[0m\n\u001b[1;33m    print = 123\u001b[0m\n\u001b[1;37m          ^\u001b[0m\n\u001b[1;31mSyntaxError\u001b[0m\u001b[1;31m:\u001b[0m invalid syntax\n"
     ]
    }
   ],
   "source": [
    "print = 123"
   ]
  },
  {
   "cell_type": "code",
   "execution_count": 9,
   "metadata": {},
   "outputs": [
    {
     "name": "stdout",
     "output_type": "stream",
     "text": [
      "123\n"
     ]
    }
   ],
   "source": [
    "print 123"
   ]
  },
  {
   "cell_type": "code",
   "execution_count": null,
   "metadata": {},
   "outputs": [],
   "source": []
  }
 ],
 "metadata": {
  "kernelspec": {
   "display_name": "Python 2",
   "language": "python",
   "name": "python2"
  },
  "language_info": {
   "codemirror_mode": {
    "name": "ipython",
    "version": 2
   },
   "file_extension": ".py",
   "mimetype": "text/x-python",
   "name": "python",
   "nbconvert_exporter": "python",
   "pygments_lexer": "ipython2",
   "version": "2.7.16"
  }
 },
 "nbformat": 4,
 "nbformat_minor": 2
}
