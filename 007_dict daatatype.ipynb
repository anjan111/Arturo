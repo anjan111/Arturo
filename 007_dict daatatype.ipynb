{
 "cells": [
  {
   "cell_type": "code",
   "execution_count": 1,
   "metadata": {},
   "outputs": [
    {
     "name": "stdout",
     "output_type": "stream",
     "text": [
      "{12: '34', 90.23: (78+4j)}\n",
      "<type 'dict'>\n"
     ]
    }
   ],
   "source": [
    "# dict datatype\n",
    "'''\n",
    "===>> Collections of items with in  {}\n",
    "===>> Item is a pair of key & values    key : value\n",
    "'''\n",
    "var = {12 : \"34\" ,90.23 : 78+4j}\n",
    "print var\n",
    "print type(var)"
   ]
  },
  {
   "cell_type": "code",
   "execution_count": 2,
   "metadata": {},
   "outputs": [
    {
     "name": "stdout",
     "output_type": "stream",
     "text": [
      "{True: 56, 34: 'soc', 'soft': 45, (4+2j): 234, None: 456}\n"
     ]
    }
   ],
   "source": [
    "# dict is also unorder datatype\n",
    "a = {34:\"soc\" ,\"soft\" :45 , 4+2j : 234 ,True :56 , None : 456}\n",
    "print a"
   ]
  },
  {
   "cell_type": "code",
   "execution_count": 3,
   "metadata": {},
   "outputs": [
    {
     "name": "stdout",
     "output_type": "stream",
     "text": [
      "{True: 56, 34: 234, 'soft': 45, None: 456}\n"
     ]
    }
   ],
   "source": [
    "# duplicate keys of items are not allowed\n",
    "a = {34:\"soc\" ,\"soft\" :45 , 34 : 234 ,True :56 , None : 456}\n",
    "print a"
   ]
  },
  {
   "cell_type": "code",
   "execution_count": 4,
   "metadata": {},
   "outputs": [
    {
     "name": "stdout",
     "output_type": "stream",
     "text": [
      "{(1, 2): 567, True: 56, 34: 'soc', 3.2: 234, None: 456, 'soft': 45}\n"
     ]
    }
   ],
   "source": [
    "# keys are only few datatypes( int , float , complex,bool , None , str, tuple)\n",
    "a = {34:\"soc\" ,\"soft\" :45 , 3.2: 234 ,True :56 , None : 456 ,(1,2) :567}\n",
    "print a"
   ]
  },
  {
   "cell_type": "code",
   "execution_count": 5,
   "metadata": {},
   "outputs": [
    {
     "ename": "TypeError",
     "evalue": "unhashable type: 'list'",
     "output_type": "error",
     "traceback": [
      "\u001b[1;31m---------------------------------------------------------------------------\u001b[0m",
      "\u001b[1;31mTypeError\u001b[0m                                 Traceback (most recent call last)",
      "\u001b[1;32m<ipython-input-5-5e37718f975b>\u001b[0m in \u001b[0;36m<module>\u001b[1;34m()\u001b[0m\n\u001b[0;32m      1\u001b[0m \u001b[1;31m# keys are only few datatypes( int , float , complex,bool , None , str, tuple)\u001b[0m\u001b[1;33m\u001b[0m\u001b[1;33m\u001b[0m\u001b[0m\n\u001b[1;32m----> 2\u001b[1;33m \u001b[0ma\u001b[0m \u001b[1;33m=\u001b[0m \u001b[1;33m{\u001b[0m\u001b[1;33m[\u001b[0m\u001b[1;36m3\u001b[0m\u001b[1;33m,\u001b[0m\u001b[1;36m4\u001b[0m\u001b[1;33m]\u001b[0m\u001b[1;33m:\u001b[0m\u001b[1;34m\"soc\"\u001b[0m \u001b[1;33m,\u001b[0m\u001b[1;34m\"soft\"\u001b[0m \u001b[1;33m:\u001b[0m\u001b[1;36m45\u001b[0m \u001b[1;33m,\u001b[0m \u001b[1;36m3.2\u001b[0m\u001b[1;33m:\u001b[0m \u001b[1;36m234\u001b[0m \u001b[1;33m,\u001b[0m\u001b[0mTrue\u001b[0m \u001b[1;33m:\u001b[0m\u001b[1;36m56\u001b[0m \u001b[1;33m,\u001b[0m \u001b[0mNone\u001b[0m \u001b[1;33m:\u001b[0m \u001b[1;36m456\u001b[0m \u001b[1;33m,\u001b[0m\u001b[1;33m(\u001b[0m\u001b[1;36m1\u001b[0m\u001b[1;33m,\u001b[0m\u001b[1;36m2\u001b[0m\u001b[1;33m)\u001b[0m \u001b[1;33m:\u001b[0m\u001b[1;36m567\u001b[0m\u001b[1;33m}\u001b[0m\u001b[1;33m\u001b[0m\u001b[0m\n\u001b[0m\u001b[0;32m      3\u001b[0m \u001b[1;32mprint\u001b[0m \u001b[0ma\u001b[0m\u001b[1;33m\u001b[0m\u001b[0m\n",
      "\u001b[1;31mTypeError\u001b[0m: unhashable type: 'list'"
     ]
    }
   ],
   "source": [
    "# keys are only few datatypes( int , float , complex,bool , None , str, tuple)\n",
    "a = {[3,4]:\"soc\" ,\"soft\" :45 , 3.2: 234 ,True :56 , None : 456 ,(1,2) :567}\n",
    "print a"
   ]
  },
  {
   "cell_type": "code",
   "execution_count": 6,
   "metadata": {},
   "outputs": [
    {
     "ename": "TypeError",
     "evalue": "unhashable type: 'set'",
     "output_type": "error",
     "traceback": [
      "\u001b[1;31m---------------------------------------------------------------------------\u001b[0m",
      "\u001b[1;31mTypeError\u001b[0m                                 Traceback (most recent call last)",
      "\u001b[1;32m<ipython-input-6-6eec700d0e2a>\u001b[0m in \u001b[0;36m<module>\u001b[1;34m()\u001b[0m\n\u001b[0;32m      1\u001b[0m \u001b[1;31m# keys are only few datatypes( int , float , complex,bool , None , str, tuple)\u001b[0m\u001b[1;33m\u001b[0m\u001b[1;33m\u001b[0m\u001b[0m\n\u001b[1;32m----> 2\u001b[1;33m \u001b[0ma\u001b[0m \u001b[1;33m=\u001b[0m \u001b[1;33m{\u001b[0m\u001b[1;33m{\u001b[0m\u001b[1;36m3\u001b[0m\u001b[1;33m,\u001b[0m\u001b[1;36m4\u001b[0m\u001b[1;33m}\u001b[0m\u001b[1;33m:\u001b[0m\u001b[1;34m\"soc\"\u001b[0m \u001b[1;33m,\u001b[0m\u001b[1;34m\"soft\"\u001b[0m \u001b[1;33m:\u001b[0m\u001b[1;36m45\u001b[0m \u001b[1;33m,\u001b[0m \u001b[1;36m3.2\u001b[0m\u001b[1;33m:\u001b[0m \u001b[1;36m234\u001b[0m \u001b[1;33m,\u001b[0m\u001b[0mTrue\u001b[0m \u001b[1;33m:\u001b[0m\u001b[1;36m56\u001b[0m \u001b[1;33m,\u001b[0m \u001b[0mNone\u001b[0m \u001b[1;33m:\u001b[0m \u001b[1;36m456\u001b[0m \u001b[1;33m,\u001b[0m\u001b[1;33m(\u001b[0m\u001b[1;36m1\u001b[0m\u001b[1;33m,\u001b[0m\u001b[1;36m2\u001b[0m\u001b[1;33m)\u001b[0m \u001b[1;33m:\u001b[0m\u001b[1;36m567\u001b[0m\u001b[1;33m}\u001b[0m\u001b[1;33m\u001b[0m\u001b[0m\n\u001b[0m\u001b[0;32m      3\u001b[0m \u001b[1;32mprint\u001b[0m \u001b[0ma\u001b[0m\u001b[1;33m\u001b[0m\u001b[0m\n",
      "\u001b[1;31mTypeError\u001b[0m: unhashable type: 'set'"
     ]
    }
   ],
   "source": [
    "# keys are only few datatypes( int , float , complex,bool , None , str, tuple)\n",
    "a = {{3,4}:\"soc\" ,\"soft\" :45 , 3.2: 234 ,True :56 , None : 456 ,(1,2) :567}\n",
    "print a"
   ]
  },
  {
   "cell_type": "code",
   "execution_count": 7,
   "metadata": {},
   "outputs": [
    {
     "ename": "TypeError",
     "evalue": "unhashable type: 'dict'",
     "output_type": "error",
     "traceback": [
      "\u001b[1;31m---------------------------------------------------------------------------\u001b[0m",
      "\u001b[1;31mTypeError\u001b[0m                                 Traceback (most recent call last)",
      "\u001b[1;32m<ipython-input-7-c9099e487dbb>\u001b[0m in \u001b[0;36m<module>\u001b[1;34m()\u001b[0m\n\u001b[0;32m      1\u001b[0m \u001b[1;31m# keys are only few datatypes( int , float , complex,bool , None , str, tuple)\u001b[0m\u001b[1;33m\u001b[0m\u001b[1;33m\u001b[0m\u001b[0m\n\u001b[1;32m----> 2\u001b[1;33m \u001b[0ma\u001b[0m \u001b[1;33m=\u001b[0m \u001b[1;33m{\u001b[0m\u001b[1;33m{\u001b[0m\u001b[1;36m3\u001b[0m\u001b[1;33m:\u001b[0m\u001b[1;36m4\u001b[0m\u001b[1;33m}\u001b[0m\u001b[1;33m:\u001b[0m\u001b[1;34m\"soc\"\u001b[0m \u001b[1;33m,\u001b[0m\u001b[1;34m\"soft\"\u001b[0m \u001b[1;33m:\u001b[0m\u001b[1;36m45\u001b[0m \u001b[1;33m,\u001b[0m \u001b[1;36m3.2\u001b[0m\u001b[1;33m:\u001b[0m \u001b[1;36m234\u001b[0m \u001b[1;33m,\u001b[0m\u001b[0mTrue\u001b[0m \u001b[1;33m:\u001b[0m\u001b[1;36m56\u001b[0m \u001b[1;33m,\u001b[0m \u001b[0mNone\u001b[0m \u001b[1;33m:\u001b[0m \u001b[1;36m456\u001b[0m \u001b[1;33m,\u001b[0m\u001b[1;33m(\u001b[0m\u001b[1;36m1\u001b[0m\u001b[1;33m,\u001b[0m\u001b[1;36m2\u001b[0m\u001b[1;33m)\u001b[0m \u001b[1;33m:\u001b[0m\u001b[1;36m567\u001b[0m\u001b[1;33m}\u001b[0m\u001b[1;33m\u001b[0m\u001b[0m\n\u001b[0m\u001b[0;32m      3\u001b[0m \u001b[1;32mprint\u001b[0m \u001b[0ma\u001b[0m\u001b[1;33m\u001b[0m\u001b[0m\n",
      "\u001b[1;31mTypeError\u001b[0m: unhashable type: 'dict'"
     ]
    }
   ],
   "source": [
    "# keys are only few datatypes( int , float , complex,bool , None , str, tuple)\n",
    "a = {{3:4}:\"soc\" ,\"soft\" :45 , 3.2: 234 ,True :56 , None : 456 ,(1,2) :567}\n",
    "print a"
   ]
  },
  {
   "cell_type": "code",
   "execution_count": 9,
   "metadata": {},
   "outputs": [
    {
     "name": "stdout",
     "output_type": "stream",
     "text": [
      "{(1, 2): 567, True: 56, 3.2: 234, None: 456, 45: 'soc', 'soft': 45}\n"
     ]
    },
    {
     "ename": "KeyError",
     "evalue": "0",
     "output_type": "error",
     "traceback": [
      "\u001b[1;31m---------------------------------------------------------------------------\u001b[0m",
      "\u001b[1;31mKeyError\u001b[0m                                  Traceback (most recent call last)",
      "\u001b[1;32m<ipython-input-9-8ca418d483b0>\u001b[0m in \u001b[0;36m<module>\u001b[1;34m()\u001b[0m\n\u001b[0;32m      3\u001b[0m \u001b[0ma\u001b[0m \u001b[1;33m=\u001b[0m \u001b[1;33m{\u001b[0m\u001b[1;36m45\u001b[0m\u001b[1;33m:\u001b[0m\u001b[1;34m\"soc\"\u001b[0m \u001b[1;33m,\u001b[0m\u001b[1;34m\"soft\"\u001b[0m \u001b[1;33m:\u001b[0m\u001b[1;36m45\u001b[0m \u001b[1;33m,\u001b[0m \u001b[1;36m3.2\u001b[0m\u001b[1;33m:\u001b[0m \u001b[1;36m234\u001b[0m \u001b[1;33m,\u001b[0m\u001b[0mTrue\u001b[0m \u001b[1;33m:\u001b[0m\u001b[1;36m56\u001b[0m \u001b[1;33m,\u001b[0m \u001b[0mNone\u001b[0m \u001b[1;33m:\u001b[0m \u001b[1;36m456\u001b[0m \u001b[1;33m,\u001b[0m\u001b[1;33m(\u001b[0m\u001b[1;36m1\u001b[0m\u001b[1;33m,\u001b[0m\u001b[1;36m2\u001b[0m\u001b[1;33m)\u001b[0m \u001b[1;33m:\u001b[0m\u001b[1;36m567\u001b[0m\u001b[1;33m}\u001b[0m\u001b[1;33m\u001b[0m\u001b[0m\n\u001b[0;32m      4\u001b[0m \u001b[1;32mprint\u001b[0m \u001b[0ma\u001b[0m\u001b[1;33m\u001b[0m\u001b[0m\n\u001b[1;32m----> 5\u001b[1;33m \u001b[1;32mprint\u001b[0m \u001b[0ma\u001b[0m\u001b[1;33m[\u001b[0m\u001b[1;36m0\u001b[0m\u001b[1;33m]\u001b[0m\u001b[1;33m\u001b[0m\u001b[0m\n\u001b[0m\u001b[0;32m      6\u001b[0m \u001b[1;32mprint\u001b[0m \u001b[0ma\u001b[0m\u001b[1;33m[\u001b[0m\u001b[1;36m1\u001b[0m\u001b[1;33m]\u001b[0m\u001b[1;33m\u001b[0m\u001b[0m\n",
      "\u001b[1;31mKeyError\u001b[0m: 0"
     ]
    }
   ],
   "source": [
    "# but values are any datatype\n",
    "# indexing , slicing , dicing are not supported\n",
    "a = {45:\"soc\" ,\"soft\" :45 , 3.2: 234 ,True :56 , None : 456 ,(1,2) :567}\n",
    "print a\n",
    "print a[0]\n",
    "print a[1]"
   ]
  },
  {
   "cell_type": "code",
   "execution_count": 10,
   "metadata": {},
   "outputs": [
    {
     "name": "stdout",
     "output_type": "stream",
     "text": [
      "{(1, 2): 567, True: 56, 3.2: 234, None: 456, 45: 'soc', 'soft': 45}\n",
      "soc\n",
      "234\n",
      "{(1, 2): 567, True: 56, 3.2: 100, None: 456, 45: 'anjan', 'soft': 45}\n"
     ]
    }
   ],
   "source": [
    "# key index --->> we can access values of keys and modify the values of keys\n",
    "# but values are any datatype\n",
    "# indexing , slicing , dicing are not supported\n",
    "a = {45:\"soc\" ,\"soft\" :45 , 3.2: 234 ,True :56 , None : 456 ,(1,2) :567}\n",
    "print a\n",
    "print a[45]\n",
    "print a[3.2]\n",
    "a[45] =\"anjan\"\n",
    "a[3.2]=100\n",
    "print a"
   ]
  },
  {
   "cell_type": "code",
   "execution_count": 11,
   "metadata": {},
   "outputs": [
    {
     "name": "stdout",
     "output_type": "stream",
     "text": [
      "{(1, 2): 567, True: 56, 3.2: 234, None: 456, 45: 'soc', 'soft': 45}\n",
      "{}\n"
     ]
    }
   ],
   "source": [
    "a = {45:\"soc\" ,\"soft\" :45 , 3.2: 234 ,True :56 , None : 456 ,(1,2) :567}\n",
    "print a\n",
    "a.clear()\n",
    "print a"
   ]
  },
  {
   "cell_type": "code",
   "execution_count": 12,
   "metadata": {},
   "outputs": [
    {
     "name": "stdout",
     "output_type": "stream",
     "text": [
      "{(1, 2): 567, True: 56, 3.2: 234, None: 456, 45: 'soc', 'soft': 45}\n",
      "{(1, 2): 567, True: 56, 3.2: 234, None: 456, 'soft': 45, 45: 'soc'}\n",
      "{(1, 2): 567, True: 56, 2340: 90, 3.2: 234, None: 456, 'soft': 45, 45: 'soc'}\n",
      "{(1, 2): 567, True: 56, 3.2: 234, None: 456, 45: 'soc', 'soft': 45}\n"
     ]
    }
   ],
   "source": [
    "a = {45:\"soc\" ,\"soft\" :45 , 3.2: 234 ,True :56 , None : 456 ,(1,2) :567}\n",
    "print a\n",
    "b = a.copy()\n",
    "print b\n",
    "\n",
    "b[2340]= 90\n",
    "print b\n",
    "print a"
   ]
  },
  {
   "cell_type": "code",
   "execution_count": 13,
   "metadata": {},
   "outputs": [
    {
     "name": "stdout",
     "output_type": "stream",
     "text": [
      "{(1, 2): 567, True: 56, 3.2: 234, None: 456, 45: 'soc', 'soft': 45}\n",
      "{(1, 2): 567, True: 56, 3.2: 234, None: 456, 45: 'soc', 'soft': 45}\n",
      "{(1, 2): 567, True: 56, 2340: 90, 3.2: 234, None: 456, 45: 'soc', 'soft': 45}\n",
      "{(1, 2): 567, True: 56, 2340: 90, 3.2: 234, None: 456, 45: 'soc', 'soft': 45}\n"
     ]
    }
   ],
   "source": [
    "a = {45:\"soc\" ,\"soft\" :45 , 3.2: 234 ,True :56 , None : 456 ,(1,2) :567}\n",
    "print a\n",
    "b = a\n",
    "print b\n",
    "\n",
    "b[2340]= 90\n",
    "print b\n",
    "print a"
   ]
  },
  {
   "cell_type": "code",
   "execution_count": 14,
   "metadata": {},
   "outputs": [
    {
     "name": "stdout",
     "output_type": "stream",
     "text": [
      "{(1, 2): 567, True: 56, 3.2: 234, None: 456, 45: 'soc', 'soft': 45}\n",
      "234\n",
      "{(1, 2): 567, True: 56, None: 456, 45: 'soc', 'soft': 45}\n",
      "56\n",
      "{(1, 2): 567, None: 456, 45: 'soc', 'soft': 45}\n"
     ]
    }
   ],
   "source": [
    "a = {45:\"soc\" ,\"soft\" :45 , 3.2: 234 ,True :56 , None : 456 ,(1,2) :567}\n",
    "print a\n",
    "print a.pop(3.2)\n",
    "print a\n",
    "print a.pop(True)\n",
    "print a\n"
   ]
  },
  {
   "cell_type": "code",
   "execution_count": 15,
   "metadata": {},
   "outputs": [
    {
     "name": "stdout",
     "output_type": "stream",
     "text": [
      "{(1, 2): 567, True: 56, 3.2: 234, None: 456, 45: 'soc', 'soft': 45}\n",
      "((1, 2), 567)\n",
      "{True: 56, 3.2: 234, None: 456, 45: 'soc', 'soft': 45}\n",
      "(True, 56)\n",
      "{3.2: 234, None: 456, 45: 'soc', 'soft': 45}\n"
     ]
    }
   ],
   "source": [
    "a = {45:\"soc\" ,\"soft\" :45 , 3.2: 234 ,True :56 , None : 456 ,(1,2) :567}\n",
    "print a\n",
    "print a.popitem()\n",
    "print a\n",
    "print a.popitem()\n",
    "print a\n"
   ]
  },
  {
   "cell_type": "code",
   "execution_count": 16,
   "metadata": {},
   "outputs": [
    {
     "name": "stdout",
     "output_type": "stream",
     "text": [
      "234\n",
      "456\n"
     ]
    }
   ],
   "source": [
    "a = {45:\"soc\" ,\"soft\" :45 , 3.2: 234 ,True :56 , None : 456 ,(1,2) :567}\n",
    "print a.get(3.2)\n",
    "print a.get(None)\n"
   ]
  },
  {
   "cell_type": "code",
   "execution_count": 17,
   "metadata": {},
   "outputs": [
    {
     "name": "stdout",
     "output_type": "stream",
     "text": [
      "{(1, 2): 567, True: 56, 3.2: 234, None: 456, 45: 'soc', 'soft': 45}\n",
      "{568: 45, 90: 789, 2356: 89}\n",
      "{(1, 2): 567, True: 56, 3.2: 234, None: 456, 45: 'soc', 'soft': 45}\n",
      "{(1, 2): 567, True: 56, 3.2: 234, None: 456, 45: 'soc', 2356: 89, 568: 45, 90: 789, 'soft': 45}\n"
     ]
    }
   ],
   "source": [
    "a = {45:\"soc\" ,\"soft\" :45 , 3.2: 234 ,True :56 , None : 456 ,(1,2) :567}\n",
    "b ={90 :789 , 568 : 45 ,2356 : 89}\n",
    "print a\n",
    "print b\n",
    "b.update(a)\n",
    "print a\n",
    "print b"
   ]
  },
  {
   "cell_type": "code",
   "execution_count": 18,
   "metadata": {},
   "outputs": [
    {
     "name": "stdout",
     "output_type": "stream",
     "text": [
      "[567, 56, 234, 456, 'soc', 45]\n",
      "[(1, 2), True, 3.2, None, 45, 'soft']\n",
      "[((1, 2), 567), (True, 56), (3.2, 234), (None, 456), (45, 'soc'), ('soft', 45)]\n"
     ]
    }
   ],
   "source": [
    "a = {45:\"soc\" ,\"soft\" :45 , 3.2: 234 ,True :56 , None : 456 ,(1,2) :567}\n",
    "print a.values()\n",
    "print a.keys()\n",
    "print a.items()\n"
   ]
  },
  {
   "cell_type": "code",
   "execution_count": 19,
   "metadata": {},
   "outputs": [
    {
     "name": "stdout",
     "output_type": "stream",
     "text": [
      "{45: {67: 23, 12: 78}}\n"
     ]
    }
   ],
   "source": [
    "a = {45 : {12:78,67:23}}\n",
    "print a"
   ]
  },
  {
   "cell_type": "code",
   "execution_count": null,
   "metadata": {},
   "outputs": [],
   "source": []
  }
 ],
 "metadata": {
  "kernelspec": {
   "display_name": "Python 2",
   "language": "python",
   "name": "python2"
  },
  "language_info": {
   "codemirror_mode": {
    "name": "ipython",
    "version": 2
   },
   "file_extension": ".py",
   "mimetype": "text/x-python",
   "name": "python",
   "nbconvert_exporter": "python",
   "pygments_lexer": "ipython2",
   "version": "2.7.16"
  }
 },
 "nbformat": 4,
 "nbformat_minor": 2
}
