{
 "cells": [
  {
   "cell_type": "code",
   "execution_count": 3,
   "metadata": {},
   "outputs": [
    {
     "name": "stdout",
     "output_type": "stream",
     "text": [
      "read the data from keyboard : -1\n",
      "-1\n",
      "Given number is Negative \n"
     ]
    }
   ],
   "source": [
    "# statement\n",
    "'''\n",
    "==>> An instruction which can be executable\n",
    "'''\n",
    "# Program\n",
    "'''\n",
    "==>> Collection of statements to do any one specific task\n",
    "'''\n",
    "# Execution of the program\n",
    "'''\n",
    "==>> The execution of the program is statement by statement\n",
    "'''\n",
    "# control statements\n",
    "'''\n",
    "==>> We can change the flow of the execution of the program\n",
    "'''\n",
    "#1. Conditional Statement\n",
    "#2. Looping statements\n",
    "#3. Control Keywords\n",
    "\n",
    "'''\n",
    "conditional Statement :-\n",
    "\n",
    "==>> The execution of the statements depends on condition\n",
    "\n",
    "1. simple if\n",
    "2. if & else\n",
    "3. elif ladder\n",
    "4. Nested if\n",
    "'''\n",
    "# simple if\n",
    "'''\n",
    "--> if ---> keyword\n",
    "--> if and only if condition is True\n",
    "--> Then only the task can execute\n",
    "--> if the condition is False then Task execution can skip\n",
    "\n",
    "if condition :\n",
    "    Task\n",
    "    ----\n",
    "    ----\n",
    "    ----\n",
    "'''   \n",
    "# wap for given number is positive or negative\n",
    "num = input(\"read the data from keyboard : \")\n",
    "print num\n",
    "if( num < 0):\n",
    "    print \"Given number is Negative \"\n",
    "if(num >= 0):\n",
    "    print \"Given number is Positive \""
   ]
  },
  {
   "cell_type": "code",
   "execution_count": 4,
   "metadata": {},
   "outputs": [
    {
     "name": "stdout",
     "output_type": "stream",
     "text": [
      "read the data from keyboard : 8\n",
      "8\n",
      "Given number is Positive \n"
     ]
    }
   ],
   "source": [
    "# wap for given number is positive or negative\n",
    "num = input(\"read the data from keyboard : \")\n",
    "print num\n",
    "if( num < 0):\n",
    "    print \"Given number is Negative \"\n",
    "if(num >= 0):\n",
    "    print \"Given number is Positive \""
   ]
  },
  {
   "cell_type": "code",
   "execution_count": 6,
   "metadata": {},
   "outputs": [
    {
     "name": "stdout",
     "output_type": "stream",
     "text": [
      "enter a number : 78\n",
      "78  is even\n"
     ]
    }
   ],
   "source": [
    "# wap given number is even number or odd number\n",
    "num = input(\"enter a number : \")\n",
    "rem = num % 2\n",
    "if rem == 0 :\n",
    "    print num,\" is even\"\n",
    "if rem == 1 :\n",
    "    print num , \"is odd\""
   ]
  },
  {
   "cell_type": "code",
   "execution_count": 7,
   "metadata": {},
   "outputs": [
    {
     "name": "stdout",
     "output_type": "stream",
     "text": [
      "enter a number : 17\n",
      "17 is odd\n"
     ]
    }
   ],
   "source": [
    "# wap given number is even number or odd number\n",
    "num = input(\"enter a number : \")\n",
    "rem = num % 2\n",
    "if rem == 0 :\n",
    "    print num,\" is even\"\n",
    "if rem == 1 :\n",
    "    print num , \"is odd\""
   ]
  },
  {
   "cell_type": "code",
   "execution_count": 8,
   "metadata": {},
   "outputs": [
    {
     "name": "stdout",
     "output_type": "stream",
     "text": [
      "enter num : -8\n",
      "-8  is Negative number\n"
     ]
    }
   ],
   "source": [
    "# if and else\n",
    "'''\n",
    "if block ---> Task can executes when condition is True , else block  Task can't be execute\n",
    "\n",
    "else block ---> Task can executes when condition is False , if block Task can't be execute\n",
    "\n",
    "if condition :\n",
    "    Task1\n",
    "    ----\n",
    "    -----\n",
    "else :\n",
    "    Task2\n",
    "    -----\n",
    "    -----\n",
    "'''\n",
    "# wap for given number is positive or negative\n",
    "num = input(\"enter num : \")\n",
    "if  num < 0 :\n",
    "    print num, \" is Negative number\"\n",
    "else:\n",
    "    print num,\" is Positive number\""
   ]
  },
  {
   "cell_type": "code",
   "execution_count": 9,
   "metadata": {},
   "outputs": [
    {
     "name": "stdout",
     "output_type": "stream",
     "text": [
      "enter num : 9\n",
      "9  is Positive number\n"
     ]
    }
   ],
   "source": [
    "# wap for given number is positive or negative\n",
    "num = input(\"enter num : \")\n",
    "if  num < 0 :\n",
    "    print num, \" is Negative number\"\n",
    "else:\n",
    "    print num,\" is Positive number\""
   ]
  },
  {
   "cell_type": "code",
   "execution_count": null,
   "metadata": {},
   "outputs": [],
   "source": [
    "# wap given number is even number or odd number"
   ]
  },
  {
   "cell_type": "code",
   "execution_count": 10,
   "metadata": {},
   "outputs": [
    {
     "name": "stdout",
     "output_type": "stream",
     "text": [
      "enter data  : 78\n",
      "78  is int data \n"
     ]
    }
   ],
   "source": [
    "# wap find the given number is interger  number  or not\n",
    "# isinstance(variable  , datatype_name)\n",
    "var = input(\"enter data  : \")\n",
    "if isinstance(var , int):\n",
    "    print var,\" is int data \"\n",
    "else:\n",
    "    print var, \"is not a int data\""
   ]
  },
  {
   "cell_type": "code",
   "execution_count": 11,
   "metadata": {},
   "outputs": [
    {
     "name": "stdout",
     "output_type": "stream",
     "text": [
      "enter data  : 78.645\n",
      "78.645 is not a int data\n"
     ]
    }
   ],
   "source": [
    "# wap find the given number is interger  number  or not\n",
    "# isinstance(variable  , datatype_name)\n",
    "var = input(\"enter data  : \")\n",
    "if isinstance(var , int):\n",
    "    print var,\" is int data \"\n",
    "else:\n",
    "    print var, \"is not a int data\""
   ]
  },
  {
   "cell_type": "code",
   "execution_count": 1,
   "metadata": {},
   "outputs": [
    {
     "name": "stdout",
     "output_type": "stream",
     "text": [
      "enter exp : 35\n",
      "salary for  35  years of  exp  50LPA\n"
     ]
    }
   ],
   "source": [
    "# elif ladder\n",
    "'''\n",
    "if(cond1):\n",
    "    Task1\n",
    "elif(cond2):\n",
    "    Task2\n",
    "elif(cond3):\n",
    "    Task3\n",
    "elif(cond4):\n",
    "    Task4\n",
    "elif(cond5):\n",
    "    Task5\n",
    "else:\n",
    "    Taskd\n",
    "'''\n",
    "# wap fix the employee salary\n",
    "exp = input(\"enter exp : \")\n",
    "if(exp>25):\n",
    "    print \"salary for \",exp,\" years of  exp  50LPA\"\n",
    "elif(exp>20):\n",
    "    print \"salary for \",exp,\" years of  exp  40LPA\"\n",
    "elif(exp>15):\n",
    "    print \"salary for \",exp,\" years of  exp  35LPA\"\n",
    "elif(exp>10):\n",
    "    print \"salary for \",exp,\" years of  exp  30LPA\"\n",
    "elif(exp>5):\n",
    "    print \"salary for \",exp,\" years of  exp  15LPA\"\n",
    "elif(exp>3):\n",
    "    print \"salary for \",exp,\" years of  exp  7LPA\"\n",
    "elif(exp>0):\n",
    "    print \"salary for \",exp,\" years of  exp  4.5LPA\"\n",
    "else:\n",
    "    print \"Please enter proper exp\""
   ]
  },
  {
   "cell_type": "code",
   "execution_count": 2,
   "metadata": {},
   "outputs": [
    {
     "name": "stdout",
     "output_type": "stream",
     "text": [
      "enter Subject 1 Marks below 100 :78\n",
      "enter Subject 2 Marks below 100 :89\n",
      "enter Subject 3 Marks below 100 :99\n",
      "enter Subject 4 Marks below 100 :56\n",
      "enter Subject 5 Marks below 100 :78\n",
      "enter Subject 6 Marks below 100 :88\n",
      "A+\n"
     ]
    }
   ],
   "source": [
    "# wap for grading system based on student \n",
    "M1 = input(\"enter Subject 1 Marks below 100 :\")\n",
    "M2 = input(\"enter Subject 2 Marks below 100 :\")\n",
    "M3 = input(\"enter Subject 3 Marks below 100 :\")\n",
    "M4 = input(\"enter Subject 4 Marks below 100 :\")\n",
    "M5 = input(\"enter Subject 5 Marks below 100 :\")\n",
    "M6 = input(\"enter Subject 6 Marks below 100 :\")\n",
    "Per = (float(M1+M2+M3+M4+M5+M6)/600)*100\n",
    "if(Per >= 70):\n",
    "    print \"A+\"\n",
    "elif(Per >= 60):\n",
    "    print \"A\"\n",
    "elif(Per >= 50):\n",
    "    print \"B\"\n",
    "elif(Per >= 40):\n",
    "    print \"C\"\n",
    "elif(Per >= 35):\n",
    "    print \"D\"\n",
    "else:\n",
    "    print \"Better LucK next time\""
   ]
  },
  {
   "cell_type": "code",
   "execution_count": 3,
   "metadata": {},
   "outputs": [
    {
     "name": "stdout",
     "output_type": "stream",
     "text": [
      "enter a : 78\n",
      "enter b : 99\n",
      "enter c : 45\n",
      "big  :  99\n"
     ]
    }
   ],
   "source": [
    "# Nested if \n",
    "'''\n",
    "If any conditional block which contain one more conditional block\n",
    "'''\n",
    "# wap find the biggest number from 3 numbers \n",
    "a = input(\"enter a : \")\n",
    "b = input(\"enter b : \")\n",
    "c = input(\"enter c : \")\n",
    "if(a < b ):\n",
    "    big =  b\n",
    "    if(b < c):\n",
    "        big = c\n",
    "else:\n",
    "    big =  a\n",
    "    if(a < c):\n",
    "        big = c\n",
    "print \"big  : \",big"
   ]
  },
  {
   "cell_type": "code",
   "execution_count": null,
   "metadata": {},
   "outputs": [],
   "source": [
    "# wap find the smallest number from 3 numbers\n",
    "# wap given year is Leap Year or not"
   ]
  },
  {
   "cell_type": "code",
   "execution_count": 1,
   "metadata": {},
   "outputs": [
    {
     "name": "stdout",
     "output_type": "stream",
     "text": [
      "hello\n",
      "hello\n",
      "hello\n",
      "hello\n",
      "hello\n",
      "hello\n",
      "hello\n",
      "hello\n",
      "hello\n",
      "hello\n"
     ]
    }
   ],
   "source": [
    "# Looping statement\n",
    "'''\n",
    "==>>Repeat the same Task multiple times \n",
    "==>> We can reduce the code\n",
    "'''\n",
    "# wap print hello 10 times without using loops\n",
    "print \"hello\"\n",
    "print \"hello\"\n",
    "print \"hello\"\n",
    "print \"hello\"\n",
    "print \"hello\"\n",
    "print \"hello\"\n",
    "print \"hello\"\n",
    "print \"hello\"\n",
    "print \"hello\"\n",
    "print \"hello\""
   ]
  },
  {
   "cell_type": "code",
   "execution_count": 2,
   "metadata": {},
   "outputs": [
    {
     "name": "stdout",
     "output_type": "stream",
     "text": [
      "enter no of times  : 10\n",
      "Hello\n",
      "Hello\n",
      "Hello\n",
      "Hello\n",
      "Hello\n",
      "Hello\n",
      "Hello\n",
      "Hello\n",
      "Hello\n",
      "Hello\n",
      "Condition is failed\n"
     ]
    }
   ],
   "source": [
    "# while loop\n",
    "'''\n",
    "Start\n",
    "-----\n",
    "while( cond ) :\n",
    "    Task\n",
    "    ----\n",
    "    -----\n",
    "    -----\n",
    "else:\n",
    "    Task\n",
    "    ----\n",
    "    ----\n",
    "stop\n",
    "---\n",
    "\n",
    "'''\n",
    "# wap print hello 10 times with while\n",
    "\n",
    "N = input(\"enter no of times  : \")\n",
    "i = 1\n",
    "while(i <= N):\n",
    "    print \"Hello\"\n",
    "    i = i + 1\n",
    "else:\n",
    "    print \"Condition is failed\"\n"
   ]
  },
  {
   "cell_type": "code",
   "execution_count": 4,
   "metadata": {},
   "outputs": [
    {
     "name": "stdout",
     "output_type": "stream",
     "text": [
      "enter Last natural number : 15\n",
      "1    2    3    4    5    6    7    8    9    10    11    12    13    14    15   \n"
     ]
    }
   ],
   "source": [
    "# wap print 1st 15 natural numbers  \n",
    "# 1   2   3   4   5   6   7  8  9  10  11   12   13   14   15\n",
    "N = input(\"enter Last natural number : \")\n",
    "i = 1\n",
    "while(i <=  N):\n",
    "    print i, \"  \" ,\n",
    "    i = i +1\n",
    "\n"
   ]
  },
  {
   "cell_type": "code",
   "execution_count": 5,
   "metadata": {},
   "outputs": [
    {
     "name": "stdout",
     "output_type": "stream",
     "text": [
      "enter N : 10\n",
      "10   *   1   =   10\n",
      "10   *   2   =   20\n",
      "10   *   3   =   30\n",
      "10   *   4   =   40\n",
      "10   *   5   =   50\n",
      "10   *   6   =   60\n",
      "10   *   7   =   70\n",
      "10   *   8   =   80\n",
      "10   *   9   =   90\n",
      "10   *   10   =   100\n"
     ]
    }
   ],
   "source": [
    "# wap for multiplication table for any number\n",
    "# 10\n",
    "'''\n",
    "10   *  1   =  10\n",
    "10   *  2   =  20\n",
    "10   *  3   =  30\n",
    "---\n",
    "---\n",
    "10   *  10  =  100\n",
    "\n",
    "'''\n",
    "N = input(\"enter N : \")\n",
    "i = 1\n",
    "while(i <= 10):\n",
    "    print N,\"  *  \",i,\"  =  \", N*i\n",
    "    i = i +1\n",
    "    "
   ]
  },
  {
   "cell_type": "code",
   "execution_count": 6,
   "metadata": {},
   "outputs": [
    {
     "name": "stdout",
     "output_type": "stream",
     "text": [
      "enter a number : 15\n",
      "factor :  1\n",
      "factor :  3\n",
      "factor :  5\n",
      "factor :  15\n",
      "no of factors :  4\n"
     ]
    }
   ],
   "source": [
    "# wap find the no of factor of a number\n",
    "# 15\n",
    "# 1 , 3 ,5, 15\n",
    "num = input(\"enter a number : \")\n",
    "i =  1\n",
    "c = 0\n",
    "while(i<= num):\n",
    "    if(num % i == 0):\n",
    "        print \"factor : \",i\n",
    "        c = c+1\n",
    "    \n",
    "    i= i +1\n",
    "else:\n",
    "    print \"no of factors : \",c\n",
    "    \n",
    "    \n",
    "\n",
    "    "
   ]
  },
  {
   "cell_type": "code",
   "execution_count": 2,
   "metadata": {},
   "outputs": [
    {
     "name": "stdout",
     "output_type": "stream",
     "text": [
      "enter a number : 79\n",
      "79  is prime\n"
     ]
    }
   ],
   "source": [
    "# wap find the given number is prime number or not \n",
    "'''\n",
    "If any number which is having total numbers factors are 2 \n",
    "'''\n",
    "\n",
    "num = input(\"enter a number : \")\n",
    "i =  1\n",
    "c = 0\n",
    "while(i<= num):\n",
    "    if(num % i == 0):\n",
    "        c = c+1\n",
    "    \n",
    "    i= i +1\n",
    "if(c == 2):\n",
    "    print num,\" is prime\"\n",
    "else:\n",
    "    print num,\" is not prime\"\n",
    "    \n",
    "\n"
   ]
  },
  {
   "cell_type": "code",
   "execution_count": 3,
   "metadata": {},
   "outputs": [
    {
     "name": "stdout",
     "output_type": "stream",
     "text": [
      "enter num : 68974\n",
      "no of digits in a  68974  is  5\n"
     ]
    }
   ],
   "source": [
    "# wap find the no of digits in a number   # 67845---->>>  5\n",
    "\n",
    "num  = input(\"enter num : \")\n",
    "temp = num\n",
    "d_c  = 0\n",
    "while(temp != 0 ):\n",
    "    d_c = d_c +1\n",
    "    temp = temp / 10\n",
    "print \"no of digits in a \",num, \" is \",d_c\n",
    "# wap print the even digits  in a number   # 8754774  -->>  8   4   4"
   ]
  },
  {
   "cell_type": "code",
   "execution_count": 4,
   "metadata": {},
   "outputs": [
    {
     "name": "stdout",
     "output_type": "stream",
     "text": [
      "enter num : 7894562378\n",
      "even digit :  8\n",
      "even digit :  2\n",
      "even digit :  6\n",
      "even digit :  4\n",
      "even digit :  8\n"
     ]
    }
   ],
   "source": [
    "# wap print the even digits  in a number   # 8754774 \n",
    "num  = input(\"enter num : \")\n",
    "temp = num\n",
    "while(temp != 0 ):\n",
    "    last_digit = temp % 10  # rem\n",
    "    if(last_digit % 2 ==0 ):\n",
    "        print \"even digit : \",last_digit\n",
    "    temp = temp / 10\n"
   ]
  },
  {
   "cell_type": "code",
   "execution_count": 6,
   "metadata": {},
   "outputs": [
    {
     "name": "stdout",
     "output_type": "stream",
     "text": [
      "enter no of fiboic elements : 10\n",
      "0     1     1     2     3     5     8     13     21     34    \n"
     ]
    }
   ],
   "source": [
    "# wap generae the 11 fibonic series element\n",
    "# 0    1     1     2      3     5      8    13    21     34    55\n",
    "N  = input(\"enter no of fiboic elements : \")\n",
    "a  = 0\n",
    "b  = 1\n",
    "while(N != 0):\n",
    "    print a ,\"   \",\n",
    "    c = a+b\n",
    "    a = b\n",
    "    b = c\n",
    "    N = N -1\n"
   ]
  },
  {
   "cell_type": "code",
   "execution_count": 7,
   "metadata": {},
   "outputs": [
    {
     "name": "stdout",
     "output_type": "stream",
     "text": [
      "enter number : 5\n",
      "5 ! =  120\n"
     ]
    }
   ],
   "source": [
    "# wap find the factorial of a number\n",
    "# 5  --->  1 * 2 *3 *4 *5 ==>> 120\n",
    "num = input(\"enter number : \")\n",
    "i = 1\n",
    "fact = 1\n",
    "while(i <= num):\n",
    "    fact = fact * i\n",
    "    i = i +1\n",
    "print num,\"! = \",fact    "
   ]
  },
  {
   "cell_type": "code",
   "execution_count": null,
   "metadata": {},
   "outputs": [],
   "source": [
    "# wap find the prime numbers in betwwen 10 to 40"
   ]
  },
  {
   "cell_type": "code",
   "execution_count": null,
   "metadata": {},
   "outputs": [],
   "source": [
    "# wap find the prime factorial  numbers in betwwen 10 to 40"
   ]
  }
 ],
 "metadata": {
  "kernelspec": {
   "display_name": "Python 2",
   "language": "python",
   "name": "python2"
  },
  "language_info": {
   "codemirror_mode": {
    "name": "ipython",
    "version": 2
   },
   "file_extension": ".py",
   "mimetype": "text/x-python",
   "name": "python",
   "nbconvert_exporter": "python",
   "pygments_lexer": "ipython2",
   "version": "2.7.16"
  }
 },
 "nbformat": 4,
 "nbformat_minor": 2
}
