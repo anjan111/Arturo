{
 "cells": [
  {
   "cell_type": "code",
   "execution_count": 1,
   "metadata": {},
   "outputs": [
    {
     "name": "stdout",
     "output_type": "stream",
     "text": [
      "<type 'list'>\n"
     ]
    }
   ],
   "source": [
    "# list  ===> collection of elements with in []\n",
    "# we can hold all datatype elements  --> hetrogenious daatatype\n",
    "var = [12 ,23.2 ,1+3j ,True,None, \"soc\" ,[1,2,3],(1,3,4),{1,2,3},{12:34}]\n",
    "print type(var)"
   ]
  },
  {
   "cell_type": "code",
   "execution_count": 2,
   "metadata": {},
   "outputs": [
    {
     "name": "stdout",
     "output_type": "stream",
     "text": [
      "positive indexing\n",
      "12\n",
      "90\n",
      "34\n",
      "90\n",
      "23\n",
      "Negative indexing\n",
      "23\n",
      "90\n",
      "34\n",
      "90\n",
      "12\n"
     ]
    }
   ],
   "source": [
    "# list elements accessing \n",
    "'''\n",
    "==>> List indexing \n",
    "==>> List Slicing\n",
    "==>> List Dicing \n",
    "'''\n",
    "#List indexing \n",
    "a = [12,90,34,90,23]\n",
    "print \"positive indexing\"\n",
    "print a[0] # 12\n",
    "print a[1] # 90\n",
    "print a[2] # 34\n",
    "print a[3] # 90\n",
    "print a[4] # 23\n",
    "print \"Negative indexing\"\n",
    "print a[-1]#23\n",
    "print a[-2]#90\n",
    "print a[-3]# 34\n",
    "print a[-4] # 90\n",
    "print a[-5]# 12"
   ]
  },
  {
   "cell_type": "code",
   "execution_count": 3,
   "metadata": {},
   "outputs": [
    {
     "name": "stdout",
     "output_type": "stream",
     "text": [
      "[23, 89, 23, 4, 56]\n",
      "[45, 90, 23, 89, 23, 4, 56]\n",
      "[23, 89, 23, 4, 56, 23]\n",
      "[45, 90, 23, 89, 23, 4, 56, 23]\n"
     ]
    }
   ],
   "source": [
    "# list slicing   var [ start   :  stop]\n",
    "'''\n",
    "start ---> 0\n",
    "stop  ---> len of list\n",
    "'''\n",
    "var = [45,90,23,89,23,4,56,23]\n",
    "print var[2:7]# 2,3,4,5,6\n",
    "print var[:7]# 0,1,2,3,4,5,6\n",
    "print var[2:]# 2,3,4,5,6,7\n",
    "print var[:] # 0 to 7"
   ]
  },
  {
   "cell_type": "code",
   "execution_count": 4,
   "metadata": {},
   "outputs": [
    {
     "name": "stdout",
     "output_type": "stream",
     "text": [
      "[23, 33, 10]\n",
      "[45, 99, 22]\n",
      "[89, 12, 90]\n",
      "[89, 23, 99, 12, 33, 22, 90, 10, 34]\n"
     ]
    }
   ],
   "source": [
    "#list dicing   var[start  : stop   :  step ]\n",
    "var = [45 , 89 , 23 , 99 ,12 , 33 , 22 ,90 , 10 , 34]\n",
    "print var[2:9:3] # 2,5,8\n",
    "print var[:9:3]# 0,3,6\n",
    "print var[1::3]#1,4,7\n",
    "print var[1: : ]# 1,2,3,4,5,6,7,8,9"
   ]
  },
  {
   "cell_type": "code",
   "execution_count": 1,
   "metadata": {},
   "outputs": [
    {
     "name": "stdout",
     "output_type": "stream",
     "text": [
      "[12, 90, 34, 78, 22]\n",
      "[12, 90, 100, 78, 22]\n"
     ]
    }
   ],
   "source": [
    "# List is a mutable datatype\n",
    "a = [12,90,34,78,22]\n",
    "print a\n",
    "a[2] = 100\n",
    "print a"
   ]
  },
  {
   "cell_type": "code",
   "execution_count": 2,
   "metadata": {},
   "outputs": [
    {
     "name": "stdout",
     "output_type": "stream",
     "text": [
      "[12, 90, 34, 12, 90, 34, 12, 90, 34, 12, 90, 34]\n",
      "[12, 90, 34, 12, 90, 34, 12, 90, 34, 12, 90, 34]\n",
      "[12, 90, 34, 4, 5, 7]\n",
      "[12, 90, 34, 4, 5, 7]\n",
      "True\n",
      "True\n",
      "False\n",
      "False\n",
      "False\n",
      "False\n"
     ]
    }
   ],
   "source": [
    "a = [12,90,34]\n",
    "print a * 4\n",
    "print a.__mul__(4)\n",
    "b = [4,5,7]\n",
    "print a+b\n",
    "print a.__add__(b)\n",
    "print a > b\n",
    "print a.__gt__(b)\n",
    "print a < b\n",
    "print a.__lt__(b)\n",
    "print a == b\n",
    "print a.__eq__(b)\n"
   ]
  },
  {
   "cell_type": "code",
   "execution_count": 5,
   "metadata": {},
   "outputs": [
    {
     "name": "stdout",
     "output_type": "stream",
     "text": [
      "[12, 67, 44]\n",
      "[12, 67, 44, 34]\n"
     ]
    }
   ],
   "source": [
    "# list manipulation methods \n",
    "a = [12,67,44]\n",
    "print a\n",
    "a.append(34)\n",
    "print a"
   ]
  },
  {
   "cell_type": "code",
   "execution_count": 7,
   "metadata": {},
   "outputs": [
    {
     "name": "stdout",
     "output_type": "stream",
     "text": [
      "['__add__', '__class__', '__contains__', '__delattr__', '__delitem__', '__delslice__', '__doc__', '__eq__', '__format__', '__ge__', '__getattribute__', '__getitem__', '__getslice__', '__gt__', '__hash__', '__iadd__', '__imul__', '__init__', '__iter__', '__le__', '__len__', '__lt__', '__mul__', '__ne__', '__new__', '__reduce__', '__reduce_ex__', '__repr__', '__reversed__', '__rmul__', '__setattr__', '__setitem__', '__setslice__', '__sizeof__', '__str__', '__subclasshook__', 'append', 'count', 'extend', 'index', 'insert', 'pop', 'remove', 'reverse', 'sort']\n"
     ]
    }
   ],
   "source": [
    "print dir(list)"
   ]
  },
  {
   "cell_type": "code",
   "execution_count": 8,
   "metadata": {},
   "outputs": [
    {
     "name": "stdout",
     "output_type": "stream",
     "text": [
      "[12, 90, 12, 9, 12, 90, 12]\n",
      "4\n",
      "0\n",
      "2\n"
     ]
    }
   ],
   "source": [
    "a = [12,90,12,9,12,90,12]\n",
    "print a\n",
    "print a.count(12)\n",
    "print a.count(10)\n",
    "print a.count(90)"
   ]
  },
  {
   "cell_type": "code",
   "execution_count": 9,
   "metadata": {},
   "outputs": [
    {
     "name": "stdout",
     "output_type": "stream",
     "text": [
      "[34, 90, 56, 23]\n",
      "[4, 5, 7]\n",
      "[34, 90, 56, 23, 4, 5, 7]\n",
      "[4, 5, 7]\n"
     ]
    }
   ],
   "source": [
    "a = [34,90,56,23]\n",
    "b = [4,5,7]\n",
    "print a\n",
    "print b\n",
    "a.extend(b) #   a = a + b\n",
    "print a\n",
    "print b"
   ]
  },
  {
   "cell_type": "code",
   "execution_count": 10,
   "metadata": {},
   "outputs": [
    {
     "name": "stdout",
     "output_type": "stream",
     "text": [
      "1\n",
      "0\n"
     ]
    },
    {
     "ename": "ValueError",
     "evalue": "340 is not in list",
     "output_type": "error",
     "traceback": [
      "\u001b[1;31m---------------------------------------------------------------------------\u001b[0m",
      "\u001b[1;31mValueError\u001b[0m                                Traceback (most recent call last)",
      "\u001b[1;32m<ipython-input-10-1a9e1fe789d6>\u001b[0m in \u001b[0;36m<module>\u001b[1;34m()\u001b[0m\n\u001b[0;32m      2\u001b[0m \u001b[1;32mprint\u001b[0m \u001b[0ma\u001b[0m\u001b[1;33m.\u001b[0m\u001b[0mindex\u001b[0m\u001b[1;33m(\u001b[0m\u001b[1;36m90\u001b[0m\u001b[1;33m)\u001b[0m\u001b[1;33m\u001b[0m\u001b[0m\n\u001b[0;32m      3\u001b[0m \u001b[1;32mprint\u001b[0m \u001b[0ma\u001b[0m\u001b[1;33m.\u001b[0m\u001b[0mindex\u001b[0m\u001b[1;33m(\u001b[0m\u001b[1;36m12\u001b[0m\u001b[1;33m)\u001b[0m\u001b[1;33m\u001b[0m\u001b[0m\n\u001b[1;32m----> 4\u001b[1;33m \u001b[1;32mprint\u001b[0m \u001b[0ma\u001b[0m\u001b[1;33m.\u001b[0m\u001b[0mindex\u001b[0m\u001b[1;33m(\u001b[0m\u001b[1;36m340\u001b[0m\u001b[1;33m)\u001b[0m\u001b[1;33m\u001b[0m\u001b[0m\n\u001b[0m",
      "\u001b[1;31mValueError\u001b[0m: 340 is not in list"
     ]
    }
   ],
   "source": [
    "a = [12,90,34]\n",
    "print a.index(90)\n",
    "print a.index(12)\n",
    "print a.index(340)"
   ]
  },
  {
   "cell_type": "code",
   "execution_count": 12,
   "metadata": {},
   "outputs": [
    {
     "name": "stdout",
     "output_type": "stream",
     "text": [
      "[12, 90, 34, 89, 23]\n",
      "[12, 90, 200, 34, 89, 23]\n"
     ]
    }
   ],
   "source": [
    "a = [12,90,34,89,23]\n",
    "print a\n",
    "a.insert(2 , 200)\n",
    "print a"
   ]
  },
  {
   "cell_type": "code",
   "execution_count": 13,
   "metadata": {},
   "outputs": [
    {
     "name": "stdout",
     "output_type": "stream",
     "text": [
      "[12, 90, 34, 90, 23]\n",
      "23\n",
      "[12, 90, 34, 90]\n",
      "34\n",
      "[12, 90, 90]\n"
     ]
    }
   ],
   "source": [
    "a = [12,90,34,90,23]\n",
    "print a\n",
    "print a.pop()\n",
    "print a\n",
    "print a.pop(2)\n",
    "print a"
   ]
  },
  {
   "cell_type": "code",
   "execution_count": 15,
   "metadata": {},
   "outputs": [
    {
     "name": "stdout",
     "output_type": "stream",
     "text": [
      "[12, 90, 34, 90, 23, 5]\n",
      "[5, 23, 90, 34, 90, 12]\n"
     ]
    }
   ],
   "source": [
    "a = [12,90,34,90,23,5]\n",
    "print a\n",
    "a.reverse()\n",
    "print a"
   ]
  },
  {
   "cell_type": "code",
   "execution_count": 16,
   "metadata": {},
   "outputs": [
    {
     "name": "stdout",
     "output_type": "stream",
     "text": [
      "[12, 90, 34, 90, 23, 5]\n",
      "[5, 12, 23, 34, 90, 90]\n"
     ]
    }
   ],
   "source": [
    "a = [12,90,34,90,23,5]\n",
    "print a\n",
    "a.sort()\n",
    "print a"
   ]
  },
  {
   "cell_type": "code",
   "execution_count": null,
   "metadata": {},
   "outputs": [],
   "source": []
  }
 ],
 "metadata": {
  "kernelspec": {
   "display_name": "Python 2",
   "language": "python",
   "name": "python2"
  },
  "language_info": {
   "codemirror_mode": {
    "name": "ipython",
    "version": 2
   },
   "file_extension": ".py",
   "mimetype": "text/x-python",
   "name": "python",
   "nbconvert_exporter": "python",
   "pygments_lexer": "ipython2",
   "version": "2.7.16"
  }
 },
 "nbformat": 4,
 "nbformat_minor": 2
}
