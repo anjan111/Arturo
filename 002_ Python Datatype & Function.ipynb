{
 "cells": [
  {
   "cell_type": "markdown",
   "metadata": {},
   "source": [
    "##### Datatype\n",
    "\n",
    "==>>> Variables are used for to hold the data\n",
    "\n",
    "==>>> Datatypes are used for to specify the what type of data holded by variable\n",
    "\n",
    "==>>> In Python programming we have 2 types \n",
    "\n",
    "1. Fundamental Datatype\n",
    "\n",
    "---->>> A single Variable can hold the single daata element\n",
    "\n",
    "       1. int  ----->> any real number -->  -45 , 0 , 45 \n",
    "       \n",
    "       2. float ---->> any real floting point number --->  -12.4234 , 0.0 , 34.5343\n",
    "       \n",
    "       3. complex -->> combination of real + imginary   --->   X + Yj\n",
    "       \n",
    "       4. bool   ---->> True  , False\n",
    "       \n",
    "       5. NoneType --->>  None\n",
    "\n",
    "2. Seqencial Datatype\n",
    "\n",
    "\n",
    "type()  ---->> to know the daatatype of any variable"
   ]
  },
  {
   "cell_type": "code",
   "execution_count": 1,
   "metadata": {},
   "outputs": [
    {
     "name": "stdout",
     "output_type": "stream",
     "text": [
      "data in variable var :  8934\n",
      "Memory loc of var    :  75823272\n",
      "<type 'int'>\n",
      "*************\n",
      "data in variable var :  -893\n",
      "Memory loc of var    :  75823176\n",
      "<type 'int'>\n",
      "*****************\n",
      "data in variable var :  0\n",
      "Memory loc of var    :  17070832\n",
      "<type 'int'>\n"
     ]
    }
   ],
   "source": [
    "# int \n",
    "var = 8934\n",
    "print \"data in variable var : \", var\n",
    "print \"Memory loc of var    : \", id(var)\n",
    "print type(var)\n",
    "\n",
    "print \"*************\"\n",
    "var = -893\n",
    "print \"data in variable var : \", var\n",
    "print \"Memory loc of var    : \", id(var)\n",
    "print type(var)\n",
    "\n",
    "print \"*****************\"\n",
    "var = 0\n",
    "print \"data in variable var : \", var\n",
    "print \"Memory loc of var    : \", id(var)\n",
    "print type(var)\n"
   ]
  },
  {
   "cell_type": "code",
   "execution_count": 2,
   "metadata": {},
   "outputs": [
    {
     "name": "stdout",
     "output_type": "stream",
     "text": [
      "data in variable var :  893.654\n",
      "Memory loc of var    :  75820872\n",
      "<type 'float'>\n",
      "*************\n",
      "data in variable var :  -89.3\n",
      "Memory loc of var    :  75816696\n",
      "<type 'float'>\n",
      "*****************\n",
      "data in variable var :  0.0\n",
      "Memory loc of var    :  75816672\n",
      "<type 'float'>\n"
     ]
    }
   ],
   "source": [
    "# float \n",
    "var = 893.654\n",
    "print \"data in variable var : \", var\n",
    "print \"Memory loc of var    : \", id(var)\n",
    "print type(var)\n",
    "\n",
    "print \"*************\"\n",
    "var = -89.3\n",
    "print \"data in variable var : \", var\n",
    "print \"Memory loc of var    : \", id(var)\n",
    "print type(var)\n",
    "\n",
    "print \"*****************\"\n",
    "var = 0.000\n",
    "print \"data in variable var : \", var\n",
    "print \"Memory loc of var    : \", id(var)\n",
    "print type(var)\n"
   ]
  },
  {
   "cell_type": "code",
   "execution_count": 3,
   "metadata": {},
   "outputs": [
    {
     "name": "stdout",
     "output_type": "stream",
     "text": [
      "data in variable var :  (89+34j)\n",
      "Memory loc of var    :  77273872\n",
      "<type 'complex'>\n",
      "*************\n",
      "data in variable var :  (-89.3+0j)\n",
      "Memory loc of var    :  77273584\n",
      "<type 'complex'>\n",
      "*****************\n",
      "data in variable var :  0j\n",
      "Memory loc of var    :  77273904\n",
      "<type 'complex'>\n"
     ]
    }
   ],
   "source": [
    "# complex ---> real  + imgj\n",
    "var = 89 + 34j\n",
    "print \"data in variable var : \", var\n",
    "print \"Memory loc of var    : \", id(var)\n",
    "print type(var)\n",
    "\n",
    "print \"*************\"\n",
    "var = -89.3 +0j\n",
    "print \"data in variable var : \", var\n",
    "print \"Memory loc of var    : \", id(var)\n",
    "print type(var)\n",
    "\n",
    "print \"*****************\"\n",
    "var = 0+0j\n",
    "print \"data in variable var : \", var\n",
    "print \"Memory loc of var    : \", id(var)\n",
    "print type(var)\n",
    "\n",
    "# +91 9640 987 960  \n",
    "# opython999@gmail.com"
   ]
  },
  {
   "cell_type": "code",
   "execution_count": 4,
   "metadata": {},
   "outputs": [
    {
     "name": "stdout",
     "output_type": "stream",
     "text": [
      "<type 'bool'>\n",
      "True\n",
      "<type 'bool'>\n",
      "False\n"
     ]
    }
   ],
   "source": [
    "# Bool  ---> if any variable hold True / False\n",
    "var =  True\n",
    "print type(var)\n",
    "print var\n",
    "var = False\n",
    "print type(var)\n",
    "print var"
   ]
  },
  {
   "cell_type": "code",
   "execution_count": 5,
   "metadata": {},
   "outputs": [
    {
     "name": "stdout",
     "output_type": "stream",
     "text": [
      "<type 'NoneType'>\n"
     ]
    }
   ],
   "source": [
    "# None Type\n",
    "var = None\n",
    "\n",
    "print type(var)"
   ]
  },
  {
   "cell_type": "code",
   "execution_count": 6,
   "metadata": {},
   "outputs": [
    {
     "name": "stdout",
     "output_type": "stream",
     "text": [
      "123\n",
      "None\n"
     ]
    }
   ],
   "source": [
    "def fun(var = None):\n",
    "    print var\n",
    "fun(123)\n",
    "fun()"
   ]
  },
  {
   "cell_type": "code",
   "execution_count": 7,
   "metadata": {},
   "outputs": [
    {
     "name": "stdout",
     "output_type": "stream",
     "text": [
      "pyt12$%\n",
      "<type 'str'>\n"
     ]
    }
   ],
   "source": [
    "# sequencial datatype\n",
    "'''\n",
    "==>> A single variable can hold the  multiple data elements\n",
    "\n",
    "1. str ---> group of characters\n",
    "2. list --> []\n",
    "3. tuple --> ()\n",
    "4. set  ---> {}\n",
    "5. dict ---> {}\n",
    "'''\n",
    "# str\n",
    "var = \"pyt12$%\"\n",
    "print var\n",
    "print type(var)"
   ]
  },
  {
   "cell_type": "code",
   "execution_count": 8,
   "metadata": {},
   "outputs": [
    {
     "name": "stdout",
     "output_type": "stream",
     "text": [
      "<type 'list'>\n",
      "[]\n",
      "***********\n",
      "<type 'list'>\n",
      "[12, 3.423, (3+4j), True]\n"
     ]
    }
   ],
   "source": [
    "# list ---[]\n",
    "var = []\n",
    "print type(var)\n",
    "print var\n",
    "print \"***********\"\n",
    "var = [12,3.423 ,3+4j , True]\n",
    "print type(var)\n",
    "print var"
   ]
  },
  {
   "cell_type": "code",
   "execution_count": 9,
   "metadata": {},
   "outputs": [
    {
     "name": "stdout",
     "output_type": "stream",
     "text": [
      "<type 'tuple'>\n",
      "()\n",
      "***********\n",
      "<type 'tuple'>\n",
      "(12, 3.423, (3+4j), True)\n"
     ]
    }
   ],
   "source": [
    "# tuple ---()\n",
    "var = ()\n",
    "print type(var)\n",
    "print var\n",
    "print \"***********\"\n",
    "var = (12,3.423 ,3+4j , True)\n",
    "print type(var)\n",
    "print var"
   ]
  },
  {
   "cell_type": "code",
   "execution_count": 10,
   "metadata": {},
   "outputs": [
    {
     "name": "stdout",
     "output_type": "stream",
     "text": [
      "<type 'set'>\n",
      "set([True, 3.423, 12, (3+4j)])\n"
     ]
    }
   ],
   "source": [
    "# set --- {}\n",
    "var = {12,3.423 ,3+4j , True}\n",
    "print type(var)\n",
    "print var"
   ]
  },
  {
   "cell_type": "code",
   "execution_count": 11,
   "metadata": {},
   "outputs": [
    {
     "name": "stdout",
     "output_type": "stream",
     "text": [
      "{}\n",
      "<type 'dict'>\n",
      "*******\n",
      "{90: 234, 12: 'soc'}\n",
      "<type 'dict'>\n"
     ]
    }
   ],
   "source": [
    "#dict  --- {k1 : v1 ,  k2 : v2 }  #####\n",
    "var = {}\n",
    "print var\n",
    "print type(var)\n",
    "print \"*******\"\n",
    "var = {12 : \"soc\" , 90 :234}\n",
    "print var\n",
    "print type(var)"
   ]
  },
  {
   "cell_type": "code",
   "execution_count": null,
   "metadata": {},
   "outputs": [],
   "source": []
  }
 ],
 "metadata": {
  "kernelspec": {
   "display_name": "Python 2",
   "language": "python",
   "name": "python2"
  },
  "language_info": {
   "codemirror_mode": {
    "name": "ipython",
    "version": 2
   },
   "file_extension": ".py",
   "mimetype": "text/x-python",
   "name": "python",
   "nbconvert_exporter": "python",
   "pygments_lexer": "ipython2",
   "version": "2.7.16"
  }
 },
 "nbformat": 4,
 "nbformat_minor": 2
}
