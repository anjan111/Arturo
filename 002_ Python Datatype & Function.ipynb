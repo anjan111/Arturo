{
 "cells": [
  {
   "cell_type": "markdown",
   "metadata": {},
   "source": [
    "##### Datatype\n",
    "\n",
    "==>>> Variables are used for to hold the data\n",
    "\n",
    "==>>> Datatypes are used for to specify the what type of data holded by variable\n",
    "\n",
    "==>>> In Python programming we have 2 types \n",
    "\n",
    "1. Fundamental Datatype\n",
    "\n",
    "---->>> A single Variable can hold the single daata element\n",
    "\n",
    "       1. int  ----->> any real number -->  -45 , 0 , 45 \n",
    "       \n",
    "       2. float ---->> any real floting point number --->  -12.4234 , 0.0 , 34.5343\n",
    "       \n",
    "       3. complex -->> combination of real + imginary   --->   X + Yj\n",
    "       \n",
    "       4. bool   ---->> True  , False\n",
    "       \n",
    "       5. NoneType --->>  None\n",
    "\n",
    "2. Seqencial Datatype\n",
    "\n",
    "\n",
    "type()  ---->> to know the daatatype of any variable"
   ]
  },
  {
   "cell_type": "code",
   "execution_count": 1,
   "metadata": {},
   "outputs": [
    {
     "name": "stdout",
     "output_type": "stream",
     "text": [
      "data in variable var :  8934\n",
      "Memory loc of var    :  75823272\n",
      "<type 'int'>\n",
      "*************\n",
      "data in variable var :  -893\n",
      "Memory loc of var    :  75823176\n",
      "<type 'int'>\n",
      "*****************\n",
      "data in variable var :  0\n",
      "Memory loc of var    :  17070832\n",
      "<type 'int'>\n"
     ]
    }
   ],
   "source": [
    "# int \n",
    "var = 8934\n",
    "print \"data in variable var : \", var\n",
    "print \"Memory loc of var    : \", id(var)\n",
    "print type(var)\n",
    "\n",
    "print \"*************\"\n",
    "var = -893\n",
    "print \"data in variable var : \", var\n",
    "print \"Memory loc of var    : \", id(var)\n",
    "print type(var)\n",
    "\n",
    "print \"*****************\"\n",
    "var = 0\n",
    "print \"data in variable var : \", var\n",
    "print \"Memory loc of var    : \", id(var)\n",
    "print type(var)\n"
   ]
  },
  {
   "cell_type": "code",
   "execution_count": 2,
   "metadata": {},
   "outputs": [
    {
     "name": "stdout",
     "output_type": "stream",
     "text": [
      "data in variable var :  893.654\n",
      "Memory loc of var    :  75820872\n",
      "<type 'float'>\n",
      "*************\n",
      "data in variable var :  -89.3\n",
      "Memory loc of var    :  75816696\n",
      "<type 'float'>\n",
      "*****************\n",
      "data in variable var :  0.0\n",
      "Memory loc of var    :  75816672\n",
      "<type 'float'>\n"
     ]
    }
   ],
   "source": [
    "# float \n",
    "var = 893.654\n",
    "print \"data in variable var : \", var\n",
    "print \"Memory loc of var    : \", id(var)\n",
    "print type(var)\n",
    "\n",
    "print \"*************\"\n",
    "var = -89.3\n",
    "print \"data in variable var : \", var\n",
    "print \"Memory loc of var    : \", id(var)\n",
    "print type(var)\n",
    "\n",
    "print \"*****************\"\n",
    "var = 0.000\n",
    "print \"data in variable var : \", var\n",
    "print \"Memory loc of var    : \", id(var)\n",
    "print type(var)\n"
   ]
  },
  {
   "cell_type": "code",
   "execution_count": 3,
   "metadata": {},
   "outputs": [
    {
     "name": "stdout",
     "output_type": "stream",
     "text": [
      "data in variable var :  (89+34j)\n",
      "Memory loc of var    :  77273872\n",
      "<type 'complex'>\n",
      "*************\n",
      "data in variable var :  (-89.3+0j)\n",
      "Memory loc of var    :  77273584\n",
      "<type 'complex'>\n",
      "*****************\n",
      "data in variable var :  0j\n",
      "Memory loc of var    :  77273904\n",
      "<type 'complex'>\n"
     ]
    }
   ],
   "source": [
    "# complex ---> real  + imgj\n",
    "var = 89 + 34j\n",
    "print \"data in variable var : \", var\n",
    "print \"Memory loc of var    : \", id(var)\n",
    "print type(var)\n",
    "\n",
    "print \"*************\"\n",
    "var = -89.3 +0j\n",
    "print \"data in variable var : \", var\n",
    "print \"Memory loc of var    : \", id(var)\n",
    "print type(var)\n",
    "\n",
    "print \"*****************\"\n",
    "var = 0+0j\n",
    "print \"data in variable var : \", var\n",
    "print \"Memory loc of var    : \", id(var)\n",
    "print type(var)\n",
    "\n",
    "# +91 9640 987 960  \n",
    "# opython999@gmail.com"
   ]
  },
  {
   "cell_type": "code",
   "execution_count": 4,
   "metadata": {},
   "outputs": [
    {
     "name": "stdout",
     "output_type": "stream",
     "text": [
      "<type 'bool'>\n",
      "True\n",
      "<type 'bool'>\n",
      "False\n"
     ]
    }
   ],
   "source": [
    "# Bool  ---> if any variable hold True / False\n",
    "var =  True\n",
    "print type(var)\n",
    "print var\n",
    "var = False\n",
    "print type(var)\n",
    "print var"
   ]
  },
  {
   "cell_type": "code",
   "execution_count": 5,
   "metadata": {},
   "outputs": [
    {
     "name": "stdout",
     "output_type": "stream",
     "text": [
      "<type 'NoneType'>\n"
     ]
    }
   ],
   "source": [
    "# None Type\n",
    "var = None\n",
    "\n",
    "print type(var)"
   ]
  },
  {
   "cell_type": "code",
   "execution_count": 6,
   "metadata": {},
   "outputs": [
    {
     "name": "stdout",
     "output_type": "stream",
     "text": [
      "123\n",
      "None\n"
     ]
    }
   ],
   "source": [
    "def fun(var = None):\n",
    "    print var\n",
    "fun(123)\n",
    "fun()"
   ]
  },
  {
   "cell_type": "code",
   "execution_count": 7,
   "metadata": {},
   "outputs": [
    {
     "name": "stdout",
     "output_type": "stream",
     "text": [
      "pyt12$%\n",
      "<type 'str'>\n"
     ]
    }
   ],
   "source": [
    "# sequencial datatype\n",
    "'''\n",
    "==>> A single variable can hold the  multiple data elements\n",
    "\n",
    "1. str ---> group of characters\n",
    "2. list --> []\n",
    "3. tuple --> ()\n",
    "4. set  ---> {}\n",
    "5. dict ---> {}\n",
    "'''\n",
    "# str\n",
    "var = \"pyt12$%\"\n",
    "print var\n",
    "print type(var)"
   ]
  },
  {
   "cell_type": "code",
   "execution_count": 8,
   "metadata": {},
   "outputs": [
    {
     "name": "stdout",
     "output_type": "stream",
     "text": [
      "<type 'list'>\n",
      "[]\n",
      "***********\n",
      "<type 'list'>\n",
      "[12, 3.423, (3+4j), True]\n"
     ]
    }
   ],
   "source": [
    "# list ---[]\n",
    "var = []\n",
    "print type(var)\n",
    "print var\n",
    "print \"***********\"\n",
    "var = [12,3.423 ,3+4j , True]\n",
    "print type(var)\n",
    "print var"
   ]
  },
  {
   "cell_type": "code",
   "execution_count": 9,
   "metadata": {},
   "outputs": [
    {
     "name": "stdout",
     "output_type": "stream",
     "text": [
      "<type 'tuple'>\n",
      "()\n",
      "***********\n",
      "<type 'tuple'>\n",
      "(12, 3.423, (3+4j), True)\n"
     ]
    }
   ],
   "source": [
    "# tuple ---()\n",
    "var = ()\n",
    "print type(var)\n",
    "print var\n",
    "print \"***********\"\n",
    "var = (12,3.423 ,3+4j , True)\n",
    "print type(var)\n",
    "print var"
   ]
  },
  {
   "cell_type": "code",
   "execution_count": 10,
   "metadata": {},
   "outputs": [
    {
     "name": "stdout",
     "output_type": "stream",
     "text": [
      "<type 'set'>\n",
      "set([True, 3.423, 12, (3+4j)])\n"
     ]
    }
   ],
   "source": [
    "# set --- {}\n",
    "var = {12,3.423 ,3+4j , True}\n",
    "print type(var)\n",
    "print var"
   ]
  },
  {
   "cell_type": "code",
   "execution_count": 11,
   "metadata": {},
   "outputs": [
    {
     "name": "stdout",
     "output_type": "stream",
     "text": [
      "{}\n",
      "<type 'dict'>\n",
      "*******\n",
      "{90: 234, 12: 'soc'}\n",
      "<type 'dict'>\n"
     ]
    }
   ],
   "source": [
    "#dict  --- {k1 : v1 ,  k2 : v2 }  #####\n",
    "var = {}\n",
    "print var\n",
    "print type(var)\n",
    "print \"*******\"\n",
    "var = {12 : \"soc\" , 90 :234}\n",
    "print var\n",
    "print type(var)"
   ]
  },
  {
   "cell_type": "markdown",
   "metadata": {},
   "source": [
    "# Functions\n",
    "\n",
    "==>> Collection of statements to do any one specific task with in the program\n",
    "\n",
    "1. User Defined Functions --->> Programmer can define some functions\n",
    "\n",
    "2. Pre defined function\n",
    "\n",
    " ---->>> These are the funtions are already available with in python\n",
    " \n",
    " 1. raw_input()  --->> to read the data from keyboard\n",
    " \n",
    " 2. print ---------->> to display the data on monitor\n",
    " \n",
    " 3. type()  -------->> to know the datatype any variable\n",
    " \n",
    " 4. id()    -------->> to know the memory loc"
   ]
  },
  {
   "cell_type": "code",
   "execution_count": 1,
   "metadata": {},
   "outputs": [
    {
     "name": "stdout",
     "output_type": "stream",
     "text": [
      "enter int : 123\n",
      "data in var :  123\n",
      "memory loc  :  78151432\n",
      "<type 'str'>\n"
     ]
    }
   ],
   "source": [
    "# wap read int data and display data, memory , datatype\n",
    "var = raw_input(\"enter int : \")\n",
    "print \"data in var : \",var\n",
    "print \"memory loc  : \",id(var)\n",
    "print type(var)"
   ]
  },
  {
   "cell_type": "code",
   "execution_count": 2,
   "metadata": {},
   "outputs": [
    {
     "name": "stdout",
     "output_type": "stream",
     "text": [
      "enter float : 123.3534\n",
      "data in var :  123.3534\n",
      "memory loc  :  84761648\n",
      "<type 'str'>\n"
     ]
    }
   ],
   "source": [
    "# wap read float data and display data, memory , datatype\n",
    "var = raw_input(\"enter float : \")\n",
    "print \"data in var : \",var\n",
    "print \"memory loc  : \",id(var)\n",
    "print type(var)"
   ]
  },
  {
   "cell_type": "code",
   "execution_count": 3,
   "metadata": {},
   "outputs": [
    {
     "name": "stdout",
     "output_type": "stream",
     "text": [
      "enter list : [12, 34.234,3+4j,True]\n",
      "data in var :  [12, 34.234,3+4j,True]\n",
      "memory loc  :  84695224\n",
      "<type 'str'>\n"
     ]
    }
   ],
   "source": [
    "# wap read list data and display data, memory , datatype\n",
    "var = raw_input(\"enter list : \")\n",
    "print \"data in var : \",var\n",
    "print \"memory loc  : \",id(var)\n",
    "print type(var)"
   ]
  },
  {
   "cell_type": "code",
   "execution_count": null,
   "metadata": {},
   "outputs": [],
   "source": [
    "# raw_input ---> any data type of element ---> return str formate"
   ]
  },
  {
   "cell_type": "code",
   "execution_count": 4,
   "metadata": {},
   "outputs": [
    {
     "name": "stdout",
     "output_type": "stream",
     "text": [
      "enter int : 456\n",
      "data in var :  456\n",
      "memory loc  :  77462768\n",
      "<type 'int'>\n"
     ]
    }
   ],
   "source": [
    "var = input(\"enter int : \")\n",
    "print \"data in var : \",var\n",
    "print \"memory loc  : \",id(var)\n",
    "print type(var)"
   ]
  },
  {
   "cell_type": "code",
   "execution_count": 5,
   "metadata": {},
   "outputs": [
    {
     "name": "stdout",
     "output_type": "stream",
     "text": [
      "enter float : 45.655\n",
      "data in var :  45.655\n",
      "memory loc  :  77455280\n",
      "<type 'float'>\n"
     ]
    }
   ],
   "source": [
    "var = input(\"enter float : \")\n",
    "print \"data in var : \",var\n",
    "print \"memory loc  : \",id(var)\n",
    "print type(var)"
   ]
  },
  {
   "cell_type": "code",
   "execution_count": null,
   "metadata": {},
   "outputs": [],
   "source": [
    "# input () ---> any datatype of elements ---> result datatype is depending on entered data"
   ]
  },
  {
   "cell_type": "code",
   "execution_count": 8,
   "metadata": {},
   "outputs": [
    {
     "name": "stdout",
     "output_type": "stream",
     "text": [
      "enter bool dataTrue\n",
      "Now i am displaying data in var :  True\n"
     ]
    }
   ],
   "source": [
    "var = raw_input(\"enter bool data\")\n",
    "print \"Now i am displaying data in var : \",var"
   ]
  },
  {
   "cell_type": "code",
   "execution_count": 11,
   "metadata": {},
   "outputs": [
    {
     "name": "stdout",
     "output_type": "stream",
     "text": [
      "123\n",
      "enter int : 567\n",
      "567\n"
     ]
    }
   ],
   "source": [
    "var = 123\n",
    "print var\n",
    "var = raw_input(\"enter int : \")\n",
    "print var\n"
   ]
  },
  {
   "cell_type": "code",
   "execution_count": null,
   "metadata": {},
   "outputs": [],
   "source": [
    "# wap read complex with inputfunction   and display data , datatype , memory  "
   ]
  },
  {
   "cell_type": "code",
   "execution_count": null,
   "metadata": {},
   "outputs": [],
   "source": [
    "# wap read complex with raw_inputfunction   and display data , datatype , memory  "
   ]
  },
  {
   "cell_type": "code",
   "execution_count": 1,
   "metadata": {},
   "outputs": [
    {
     "name": "stdout",
     "output_type": "stream",
     "text": [
      "enter float : 123.9999\n",
      "123.9999\n",
      "<type 'float'>\n",
      "123\n",
      "<type 'int'>\n"
     ]
    }
   ],
   "source": [
    "# data type conversion function\n",
    "'''\n",
    "With help datatype conversion function\n",
    "we can convert one datatype to another datatype\n",
    "\n",
    "===>>   int()  --->> any datatype  --->>> int\n",
    "===>>   float() -->> any datatype  --->>> float\n",
    "===>>   complex() --> any datatype --->>> complex\n",
    "===>>   bool()   ---> any datatype ---->>> bool\n",
    "===>>   str()   --->>> any datatyoe --->>> str\n",
    "===>>   list() ---->> any datatype  ---->> list\n",
    "===>>   tuple() ---->> any daatatype --->> tuple\n",
    "===>>   set()\n",
    "===>>   dict()\n",
    "'''\n",
    "# int()\n",
    "'''\n",
    "float -->\n",
    "complex ->\n",
    "bool  --->\n",
    "None --->\n",
    "str --->\n",
    "list -->\n",
    "tuple-->\n",
    "set --->\n",
    "dict -->\n",
    "'''\n",
    "# float ---> int() --->success\n",
    "var = input(\"enter float : \")\n",
    "print var\n",
    "print type(var)\n",
    "var = int(var)\n",
    "print var\n",
    "print type(var)"
   ]
  },
  {
   "cell_type": "code",
   "execution_count": 2,
   "metadata": {},
   "outputs": [
    {
     "name": "stdout",
     "output_type": "stream",
     "text": [
      "enter complex : 7+6j\n",
      "(7+6j)\n",
      "<type 'complex'>\n"
     ]
    },
    {
     "ename": "TypeError",
     "evalue": "can't convert complex to int",
     "output_type": "error",
     "traceback": [
      "\u001b[1;31m---------------------------------------------------------------------------\u001b[0m",
      "\u001b[1;31mTypeError\u001b[0m                                 Traceback (most recent call last)",
      "\u001b[1;32m<ipython-input-2-b34537c2711f>\u001b[0m in \u001b[0;36m<module>\u001b[1;34m()\u001b[0m\n\u001b[0;32m      3\u001b[0m \u001b[1;32mprint\u001b[0m \u001b[0mvar\u001b[0m\u001b[1;33m\u001b[0m\u001b[0m\n\u001b[0;32m      4\u001b[0m \u001b[1;32mprint\u001b[0m \u001b[0mtype\u001b[0m\u001b[1;33m(\u001b[0m\u001b[0mvar\u001b[0m\u001b[1;33m)\u001b[0m\u001b[1;33m\u001b[0m\u001b[0m\n\u001b[1;32m----> 5\u001b[1;33m \u001b[0mvar\u001b[0m \u001b[1;33m=\u001b[0m \u001b[0mint\u001b[0m\u001b[1;33m(\u001b[0m\u001b[0mvar\u001b[0m\u001b[1;33m)\u001b[0m\u001b[1;33m\u001b[0m\u001b[0m\n\u001b[0m\u001b[0;32m      6\u001b[0m \u001b[1;32mprint\u001b[0m \u001b[0mvar\u001b[0m\u001b[1;33m\u001b[0m\u001b[0m\n\u001b[0;32m      7\u001b[0m \u001b[1;32mprint\u001b[0m \u001b[0mtype\u001b[0m\u001b[1;33m(\u001b[0m\u001b[0mvar\u001b[0m\u001b[1;33m)\u001b[0m\u001b[1;33m\u001b[0m\u001b[0m\n",
      "\u001b[1;31mTypeError\u001b[0m: can't convert complex to int"
     ]
    }
   ],
   "source": [
    "# complex---> int() --->TypeError: can't convert complex to int\n",
    "var = input(\"enter complex : \")\n",
    "print var\n",
    "print type(var)\n",
    "var = int(var) # complex to int \n",
    "print var\n",
    "print type(var)"
   ]
  },
  {
   "cell_type": "code",
   "execution_count": 3,
   "metadata": {},
   "outputs": [
    {
     "name": "stdout",
     "output_type": "stream",
     "text": [
      "enter bool : True\n",
      "True\n",
      "<type 'bool'>\n",
      "1\n",
      "<type 'int'>\n"
     ]
    }
   ],
   "source": [
    "# bool ---> int() --->success\n",
    "var = input(\"enter bool : \")\n",
    "print var\n",
    "print type(var)\n",
    "var = int(var) # bool --->  int\n",
    "print var\n",
    "print type(var)"
   ]
  },
  {
   "cell_type": "code",
   "execution_count": 5,
   "metadata": {},
   "outputs": [
    {
     "name": "stdout",
     "output_type": "stream",
     "text": [
      "enter None ===>>>> None\n",
      "None\n",
      "<type 'NoneType'>\n"
     ]
    },
    {
     "ename": "TypeError",
     "evalue": "int() argument must be a string or a number, not 'NoneType'",
     "output_type": "error",
     "traceback": [
      "\u001b[1;31m---------------------------------------------------------------------------\u001b[0m",
      "\u001b[1;31mTypeError\u001b[0m                                 Traceback (most recent call last)",
      "\u001b[1;32m<ipython-input-5-af2ceb76b97f>\u001b[0m in \u001b[0;36m<module>\u001b[1;34m()\u001b[0m\n\u001b[0;32m      3\u001b[0m \u001b[1;32mprint\u001b[0m \u001b[0mvar\u001b[0m\u001b[1;33m\u001b[0m\u001b[0m\n\u001b[0;32m      4\u001b[0m \u001b[1;32mprint\u001b[0m \u001b[0mtype\u001b[0m\u001b[1;33m(\u001b[0m\u001b[0mvar\u001b[0m\u001b[1;33m)\u001b[0m\u001b[1;33m\u001b[0m\u001b[0m\n\u001b[1;32m----> 5\u001b[1;33m \u001b[0mvar\u001b[0m \u001b[1;33m=\u001b[0m \u001b[0mint\u001b[0m\u001b[1;33m(\u001b[0m\u001b[0mvar\u001b[0m\u001b[1;33m)\u001b[0m \u001b[1;31m# None  ---> int\u001b[0m\u001b[1;33m\u001b[0m\u001b[0m\n\u001b[0m\u001b[0;32m      6\u001b[0m \u001b[1;32mprint\u001b[0m \u001b[0mvar\u001b[0m\u001b[1;33m\u001b[0m\u001b[0m\n\u001b[0;32m      7\u001b[0m \u001b[1;32mprint\u001b[0m \u001b[0mtype\u001b[0m\u001b[1;33m(\u001b[0m\u001b[0mvar\u001b[0m\u001b[1;33m)\u001b[0m\u001b[1;33m\u001b[0m\u001b[0m\n",
      "\u001b[1;31mTypeError\u001b[0m: int() argument must be a string or a number, not 'NoneType'"
     ]
    }
   ],
   "source": [
    "# None ---> int() --->TypeError: int() argument must be a string or a number, not 'NoneType'\n",
    "var = input(\"enter None ===>>>> \")\n",
    "print var\n",
    "print type(var)\n",
    "var = int(var) # None  ---> int\n",
    "print var\n",
    "print type(var)"
   ]
  },
  {
   "cell_type": "code",
   "execution_count": 6,
   "metadata": {},
   "outputs": [
    {
     "name": "stdout",
     "output_type": "stream",
     "text": [
      "enter str ===>>>> \"123452\"\n",
      "123452\n",
      "<type 'str'>\n",
      "123452\n",
      "<type 'int'>\n"
     ]
    }
   ],
   "source": [
    "# str---> int() \n",
    "var = input(\"enter str ===>>>> \")\n",
    "print var\n",
    "print type(var)\n",
    "var = int(var) # None  ---> int\n",
    "print var\n",
    "print type(var)"
   ]
  },
  {
   "cell_type": "code",
   "execution_count": 7,
   "metadata": {},
   "outputs": [
    {
     "name": "stdout",
     "output_type": "stream",
     "text": [
      "enter str ===>>>> \"13.435\"\n",
      "13.435\n",
      "<type 'str'>\n"
     ]
    },
    {
     "ename": "ValueError",
     "evalue": "invalid literal for int() with base 10: '13.435'",
     "output_type": "error",
     "traceback": [
      "\u001b[1;31m---------------------------------------------------------------------------\u001b[0m",
      "\u001b[1;31mValueError\u001b[0m                                Traceback (most recent call last)",
      "\u001b[1;32m<ipython-input-7-4d297962f264>\u001b[0m in \u001b[0;36m<module>\u001b[1;34m()\u001b[0m\n\u001b[0;32m      3\u001b[0m \u001b[1;32mprint\u001b[0m \u001b[0mvar\u001b[0m\u001b[1;33m\u001b[0m\u001b[0m\n\u001b[0;32m      4\u001b[0m \u001b[1;32mprint\u001b[0m \u001b[0mtype\u001b[0m\u001b[1;33m(\u001b[0m\u001b[0mvar\u001b[0m\u001b[1;33m)\u001b[0m\u001b[1;33m\u001b[0m\u001b[0m\n\u001b[1;32m----> 5\u001b[1;33m \u001b[0mvar\u001b[0m \u001b[1;33m=\u001b[0m \u001b[0mint\u001b[0m\u001b[1;33m(\u001b[0m\u001b[0mvar\u001b[0m\u001b[1;33m)\u001b[0m \u001b[1;31m# None  ---> int\u001b[0m\u001b[1;33m\u001b[0m\u001b[0m\n\u001b[0m\u001b[0;32m      6\u001b[0m \u001b[1;32mprint\u001b[0m \u001b[0mvar\u001b[0m\u001b[1;33m\u001b[0m\u001b[0m\n\u001b[0;32m      7\u001b[0m \u001b[1;32mprint\u001b[0m \u001b[0mtype\u001b[0m\u001b[1;33m(\u001b[0m\u001b[0mvar\u001b[0m\u001b[1;33m)\u001b[0m\u001b[1;33m\u001b[0m\u001b[0m\n",
      "\u001b[1;31mValueError\u001b[0m: invalid literal for int() with base 10: '13.435'"
     ]
    }
   ],
   "source": [
    "# str---> int()  ---> only str digits  can convert\n",
    "var = input(\"enter str ===>>>> \")\n",
    "print var\n",
    "print type(var)\n",
    "var = int(var) # None  ---> int\n",
    "print var\n",
    "print type(var)"
   ]
  },
  {
   "cell_type": "code",
   "execution_count": 8,
   "metadata": {},
   "outputs": [
    {
     "name": "stdout",
     "output_type": "stream",
     "text": [
      "enter list ===>>>> [12,345]\n",
      "[12, 345]\n",
      "<type 'list'>\n"
     ]
    },
    {
     "ename": "TypeError",
     "evalue": "int() argument must be a string or a number, not 'list'",
     "output_type": "error",
     "traceback": [
      "\u001b[1;31m---------------------------------------------------------------------------\u001b[0m",
      "\u001b[1;31mTypeError\u001b[0m                                 Traceback (most recent call last)",
      "\u001b[1;32m<ipython-input-8-c4c92ac10b76>\u001b[0m in \u001b[0;36m<module>\u001b[1;34m()\u001b[0m\n\u001b[0;32m      3\u001b[0m \u001b[1;32mprint\u001b[0m \u001b[0mvar\u001b[0m\u001b[1;33m\u001b[0m\u001b[0m\n\u001b[0;32m      4\u001b[0m \u001b[1;32mprint\u001b[0m \u001b[0mtype\u001b[0m\u001b[1;33m(\u001b[0m\u001b[0mvar\u001b[0m\u001b[1;33m)\u001b[0m\u001b[1;33m\u001b[0m\u001b[0m\n\u001b[1;32m----> 5\u001b[1;33m \u001b[0mvar\u001b[0m \u001b[1;33m=\u001b[0m \u001b[0mint\u001b[0m\u001b[1;33m(\u001b[0m\u001b[0mvar\u001b[0m\u001b[1;33m)\u001b[0m \u001b[1;31m# list  ---> int\u001b[0m\u001b[1;33m\u001b[0m\u001b[0m\n\u001b[0m\u001b[0;32m      6\u001b[0m \u001b[1;32mprint\u001b[0m \u001b[0mvar\u001b[0m\u001b[1;33m\u001b[0m\u001b[0m\n\u001b[0;32m      7\u001b[0m \u001b[1;32mprint\u001b[0m \u001b[0mtype\u001b[0m\u001b[1;33m(\u001b[0m\u001b[0mvar\u001b[0m\u001b[1;33m)\u001b[0m\u001b[1;33m\u001b[0m\u001b[0m\n",
      "\u001b[1;31mTypeError\u001b[0m: int() argument must be a string or a number, not 'list'"
     ]
    }
   ],
   "source": [
    "# list---> int() \n",
    "var = input(\"enter list ===>>>> \")\n",
    "print var\n",
    "print type(var)\n",
    "var = int(var) # list  ---> int\n",
    "print var\n",
    "print type(var)"
   ]
  },
  {
   "cell_type": "code",
   "execution_count": 9,
   "metadata": {},
   "outputs": [
    {
     "name": "stdout",
     "output_type": "stream",
     "text": [
      "enter tuple ===>>>> (1,2,3)\n",
      "(1, 2, 3)\n",
      "<type 'tuple'>\n"
     ]
    },
    {
     "ename": "TypeError",
     "evalue": "int() argument must be a string or a number, not 'tuple'",
     "output_type": "error",
     "traceback": [
      "\u001b[1;31m---------------------------------------------------------------------------\u001b[0m",
      "\u001b[1;31mTypeError\u001b[0m                                 Traceback (most recent call last)",
      "\u001b[1;32m<ipython-input-9-c2f3b2eb430e>\u001b[0m in \u001b[0;36m<module>\u001b[1;34m()\u001b[0m\n\u001b[0;32m      3\u001b[0m \u001b[1;32mprint\u001b[0m \u001b[0mvar\u001b[0m\u001b[1;33m\u001b[0m\u001b[0m\n\u001b[0;32m      4\u001b[0m \u001b[1;32mprint\u001b[0m \u001b[0mtype\u001b[0m\u001b[1;33m(\u001b[0m\u001b[0mvar\u001b[0m\u001b[1;33m)\u001b[0m\u001b[1;33m\u001b[0m\u001b[0m\n\u001b[1;32m----> 5\u001b[1;33m \u001b[0mvar\u001b[0m \u001b[1;33m=\u001b[0m \u001b[0mint\u001b[0m\u001b[1;33m(\u001b[0m\u001b[0mvar\u001b[0m\u001b[1;33m)\u001b[0m \u001b[1;31m# tuple  ---> int\u001b[0m\u001b[1;33m\u001b[0m\u001b[0m\n\u001b[0m\u001b[0;32m      6\u001b[0m \u001b[1;32mprint\u001b[0m \u001b[0mvar\u001b[0m\u001b[1;33m\u001b[0m\u001b[0m\n\u001b[0;32m      7\u001b[0m \u001b[1;32mprint\u001b[0m \u001b[0mtype\u001b[0m\u001b[1;33m(\u001b[0m\u001b[0mvar\u001b[0m\u001b[1;33m)\u001b[0m\u001b[1;33m\u001b[0m\u001b[0m\n",
      "\u001b[1;31mTypeError\u001b[0m: int() argument must be a string or a number, not 'tuple'"
     ]
    }
   ],
   "source": [
    "# tuple---> int() \n",
    "var = input(\"enter tuple ===>>>> \")\n",
    "print var\n",
    "print type(var)\n",
    "var = int(var) # tuple  ---> int\n",
    "print var\n",
    "print type(var)"
   ]
  },
  {
   "cell_type": "code",
   "execution_count": 10,
   "metadata": {},
   "outputs": [
    {
     "name": "stdout",
     "output_type": "stream",
     "text": [
      "enter set ===>>>> {12,90}\n",
      "set([90, 12])\n",
      "<type 'set'>\n"
     ]
    },
    {
     "ename": "TypeError",
     "evalue": "int() argument must be a string or a number, not 'set'",
     "output_type": "error",
     "traceback": [
      "\u001b[1;31m---------------------------------------------------------------------------\u001b[0m",
      "\u001b[1;31mTypeError\u001b[0m                                 Traceback (most recent call last)",
      "\u001b[1;32m<ipython-input-10-7aaf7abfa7de>\u001b[0m in \u001b[0;36m<module>\u001b[1;34m()\u001b[0m\n\u001b[0;32m      3\u001b[0m \u001b[1;32mprint\u001b[0m \u001b[0mvar\u001b[0m\u001b[1;33m\u001b[0m\u001b[0m\n\u001b[0;32m      4\u001b[0m \u001b[1;32mprint\u001b[0m \u001b[0mtype\u001b[0m\u001b[1;33m(\u001b[0m\u001b[0mvar\u001b[0m\u001b[1;33m)\u001b[0m\u001b[1;33m\u001b[0m\u001b[0m\n\u001b[1;32m----> 5\u001b[1;33m \u001b[0mvar\u001b[0m \u001b[1;33m=\u001b[0m \u001b[0mint\u001b[0m\u001b[1;33m(\u001b[0m\u001b[0mvar\u001b[0m\u001b[1;33m)\u001b[0m \u001b[1;31m# set  ---> int\u001b[0m\u001b[1;33m\u001b[0m\u001b[0m\n\u001b[0m\u001b[0;32m      6\u001b[0m \u001b[1;32mprint\u001b[0m \u001b[0mvar\u001b[0m\u001b[1;33m\u001b[0m\u001b[0m\n\u001b[0;32m      7\u001b[0m \u001b[1;32mprint\u001b[0m \u001b[0mtype\u001b[0m\u001b[1;33m(\u001b[0m\u001b[0mvar\u001b[0m\u001b[1;33m)\u001b[0m\u001b[1;33m\u001b[0m\u001b[0m\n",
      "\u001b[1;31mTypeError\u001b[0m: int() argument must be a string or a number, not 'set'"
     ]
    }
   ],
   "source": [
    "# set---> int() \n",
    "var = input(\"enter set ===>>>> \")\n",
    "print var\n",
    "print type(var)\n",
    "var = int(var) # set  ---> int\n",
    "print var\n",
    "print type(var)"
   ]
  },
  {
   "cell_type": "code",
   "execution_count": 1,
   "metadata": {},
   "outputs": [
    {
     "name": "stdout",
     "output_type": "stream",
     "text": [
      "enter dict ===>>>> {12:34}\n",
      "{12: 34}\n",
      "<type 'dict'>\n"
     ]
    },
    {
     "ename": "TypeError",
     "evalue": "int() argument must be a string or a number, not 'dict'",
     "output_type": "error",
     "traceback": [
      "\u001b[1;31m---------------------------------------------------------------------------\u001b[0m",
      "\u001b[1;31mTypeError\u001b[0m                                 Traceback (most recent call last)",
      "\u001b[1;32m<ipython-input-1-685cd425cb60>\u001b[0m in \u001b[0;36m<module>\u001b[1;34m()\u001b[0m\n\u001b[0;32m      3\u001b[0m \u001b[1;32mprint\u001b[0m \u001b[0mvar\u001b[0m\u001b[1;33m\u001b[0m\u001b[0m\n\u001b[0;32m      4\u001b[0m \u001b[1;32mprint\u001b[0m\u001b[1;33m(\u001b[0m\u001b[0mtype\u001b[0m\u001b[1;33m(\u001b[0m\u001b[0mvar\u001b[0m\u001b[1;33m)\u001b[0m\u001b[1;33m)\u001b[0m\u001b[1;33m\u001b[0m\u001b[0m\n\u001b[1;32m----> 5\u001b[1;33m \u001b[0mvar\u001b[0m \u001b[1;33m=\u001b[0m \u001b[0mint\u001b[0m\u001b[1;33m(\u001b[0m\u001b[0mvar\u001b[0m\u001b[1;33m)\u001b[0m \u001b[1;31m# dict  ---> int\u001b[0m\u001b[1;33m\u001b[0m\u001b[0m\n\u001b[0m\u001b[0;32m      6\u001b[0m \u001b[1;32mprint\u001b[0m \u001b[0mvar\u001b[0m\u001b[1;33m\u001b[0m\u001b[0m\n\u001b[0;32m      7\u001b[0m \u001b[1;32mprint\u001b[0m \u001b[0mtype\u001b[0m\u001b[1;33m(\u001b[0m\u001b[0mvar\u001b[0m\u001b[1;33m)\u001b[0m\u001b[1;33m\u001b[0m\u001b[0m\n",
      "\u001b[1;31mTypeError\u001b[0m: int() argument must be a string or a number, not 'dict'"
     ]
    }
   ],
   "source": [
    "# dict---> int() \n",
    "var = input(\"enter dict ===>>>> \")\n",
    "print var\n",
    "print(type(var))\n",
    "var = int(var) # dict  ---> int\n",
    "print var\n",
    "print type(var)"
   ]
  },
  {
   "cell_type": "code",
   "execution_count": 2,
   "metadata": {},
   "outputs": [
    {
     "name": "stdout",
     "output_type": "stream",
     "text": [
      "enter int ===>>>> 123\n",
      "123\n",
      "<type 'int'>\n",
      "123.0\n",
      "<type 'float'>\n"
     ]
    }
   ],
   "source": [
    "# int ---> float\n",
    "var = input(\"enter int ===>>>> \")\n",
    "print var\n",
    "print(type(var))\n",
    "var = float(var)\n",
    "print var\n",
    "print(type(var))"
   ]
  },
  {
   "cell_type": "code",
   "execution_count": 3,
   "metadata": {},
   "outputs": [
    {
     "name": "stdout",
     "output_type": "stream",
     "text": [
      "enter bool  :  True\n",
      "True\n",
      "<type 'bool'>\n",
      "1.0\n",
      "<type 'float'>\n"
     ]
    }
   ],
   "source": [
    "# bool ---> float\n",
    "var = input(\"enter bool  :  \")\n",
    "print var\n",
    "print(type(var))\n",
    "var = float(var)\n",
    "print var\n",
    "print(type(var))"
   ]
  },
  {
   "cell_type": "code",
   "execution_count": 4,
   "metadata": {},
   "outputs": [
    {
     "name": "stdout",
     "output_type": "stream",
     "text": [
      "enter float  :  12+4j\n",
      "(12+4j)\n",
      "<type 'complex'>\n"
     ]
    },
    {
     "ename": "TypeError",
     "evalue": "can't convert complex to float",
     "output_type": "error",
     "traceback": [
      "\u001b[1;31m---------------------------------------------------------------------------\u001b[0m",
      "\u001b[1;31mTypeError\u001b[0m                                 Traceback (most recent call last)",
      "\u001b[1;32m<ipython-input-4-260862121655>\u001b[0m in \u001b[0;36m<module>\u001b[1;34m()\u001b[0m\n\u001b[0;32m      3\u001b[0m \u001b[1;32mprint\u001b[0m \u001b[0mvar\u001b[0m\u001b[1;33m\u001b[0m\u001b[0m\n\u001b[0;32m      4\u001b[0m \u001b[1;32mprint\u001b[0m\u001b[1;33m(\u001b[0m\u001b[0mtype\u001b[0m\u001b[1;33m(\u001b[0m\u001b[0mvar\u001b[0m\u001b[1;33m)\u001b[0m\u001b[1;33m)\u001b[0m\u001b[1;33m\u001b[0m\u001b[0m\n\u001b[1;32m----> 5\u001b[1;33m \u001b[0mvar\u001b[0m \u001b[1;33m=\u001b[0m \u001b[0mfloat\u001b[0m\u001b[1;33m(\u001b[0m\u001b[0mvar\u001b[0m\u001b[1;33m)\u001b[0m\u001b[1;33m\u001b[0m\u001b[0m\n\u001b[0m\u001b[0;32m      6\u001b[0m \u001b[1;32mprint\u001b[0m \u001b[0mvar\u001b[0m\u001b[1;33m\u001b[0m\u001b[0m\n\u001b[0;32m      7\u001b[0m \u001b[1;32mprint\u001b[0m\u001b[1;33m(\u001b[0m\u001b[0mtype\u001b[0m\u001b[1;33m(\u001b[0m\u001b[0mvar\u001b[0m\u001b[1;33m)\u001b[0m\u001b[1;33m)\u001b[0m\u001b[1;33m\u001b[0m\u001b[0m\n",
      "\u001b[1;31mTypeError\u001b[0m: can't convert complex to float"
     ]
    }
   ],
   "source": [
    "# complex ---> float\n",
    "var = input(\"enter float  :  \")\n",
    "print var\n",
    "print(type(var))\n",
    "var = float(var)\n",
    "print var\n",
    "print(type(var))"
   ]
  },
  {
   "cell_type": "code",
   "execution_count": 5,
   "metadata": {},
   "outputs": [
    {
     "name": "stdout",
     "output_type": "stream",
     "text": [
      "enter None  :  None\n",
      "None\n",
      "<type 'NoneType'>\n"
     ]
    },
    {
     "ename": "TypeError",
     "evalue": "float() argument must be a string or a number",
     "output_type": "error",
     "traceback": [
      "\u001b[1;31m---------------------------------------------------------------------------\u001b[0m",
      "\u001b[1;31mTypeError\u001b[0m                                 Traceback (most recent call last)",
      "\u001b[1;32m<ipython-input-5-2a13a4e06d48>\u001b[0m in \u001b[0;36m<module>\u001b[1;34m()\u001b[0m\n\u001b[0;32m      3\u001b[0m \u001b[1;32mprint\u001b[0m \u001b[0mvar\u001b[0m\u001b[1;33m\u001b[0m\u001b[0m\n\u001b[0;32m      4\u001b[0m \u001b[1;32mprint\u001b[0m\u001b[1;33m(\u001b[0m\u001b[0mtype\u001b[0m\u001b[1;33m(\u001b[0m\u001b[0mvar\u001b[0m\u001b[1;33m)\u001b[0m\u001b[1;33m)\u001b[0m\u001b[1;33m\u001b[0m\u001b[0m\n\u001b[1;32m----> 5\u001b[1;33m \u001b[0mvar\u001b[0m \u001b[1;33m=\u001b[0m \u001b[0mfloat\u001b[0m\u001b[1;33m(\u001b[0m\u001b[0mvar\u001b[0m\u001b[1;33m)\u001b[0m\u001b[1;33m\u001b[0m\u001b[0m\n\u001b[0m\u001b[0;32m      6\u001b[0m \u001b[1;32mprint\u001b[0m \u001b[0mvar\u001b[0m\u001b[1;33m\u001b[0m\u001b[0m\n\u001b[0;32m      7\u001b[0m \u001b[1;32mprint\u001b[0m\u001b[1;33m(\u001b[0m\u001b[0mtype\u001b[0m\u001b[1;33m(\u001b[0m\u001b[0mvar\u001b[0m\u001b[1;33m)\u001b[0m\u001b[1;33m)\u001b[0m\u001b[1;33m\u001b[0m\u001b[0m\n",
      "\u001b[1;31mTypeError\u001b[0m: float() argument must be a string or a number"
     ]
    }
   ],
   "source": [
    "# None ---> float\n",
    "var = input(\"enter None  :  \")\n",
    "print var\n",
    "print(type(var))\n",
    "var = float(var)\n",
    "print var\n",
    "print(type(var))"
   ]
  },
  {
   "cell_type": "code",
   "execution_count": 6,
   "metadata": {},
   "outputs": [
    {
     "name": "stdout",
     "output_type": "stream",
     "text": [
      "enter str  :  \"123\"\n",
      "123\n",
      "<type 'str'>\n",
      "123.0\n",
      "<type 'float'>\n"
     ]
    }
   ],
   "source": [
    "# str ---> float\n",
    "var = input(\"enter str  :  \")\n",
    "print var\n",
    "print(type(var))\n",
    "var = float(var)\n",
    "print var\n",
    "print(type(var))"
   ]
  },
  {
   "cell_type": "code",
   "execution_count": 7,
   "metadata": {},
   "outputs": [
    {
     "name": "stdout",
     "output_type": "stream",
     "text": [
      "enter 'str'  :  \"123.23\"\n",
      "123.23\n",
      "<type 'str'>\n",
      "123.23\n",
      "<type 'float'>\n"
     ]
    }
   ],
   "source": [
    "# str ---> float\n",
    "var = input(\"enter 'str'  :  \")\n",
    "print var\n",
    "print(type(var))\n",
    "var = float(var)\n",
    "print var\n",
    "print(type(var))"
   ]
  },
  {
   "cell_type": "code",
   "execution_count": 8,
   "metadata": {},
   "outputs": [
    {
     "name": "stdout",
     "output_type": "stream",
     "text": [
      "enter str  :  \"123d\"\n",
      "123d\n",
      "<type 'str'>\n"
     ]
    },
    {
     "ename": "ValueError",
     "evalue": "invalid literal for float(): 123d",
     "output_type": "error",
     "traceback": [
      "\u001b[1;31m---------------------------------------------------------------------------\u001b[0m",
      "\u001b[1;31mValueError\u001b[0m                                Traceback (most recent call last)",
      "\u001b[1;32m<ipython-input-8-ebb152f7e69c>\u001b[0m in \u001b[0;36m<module>\u001b[1;34m()\u001b[0m\n\u001b[0;32m      3\u001b[0m \u001b[1;32mprint\u001b[0m \u001b[0mvar\u001b[0m\u001b[1;33m\u001b[0m\u001b[0m\n\u001b[0;32m      4\u001b[0m \u001b[1;32mprint\u001b[0m\u001b[1;33m(\u001b[0m\u001b[0mtype\u001b[0m\u001b[1;33m(\u001b[0m\u001b[0mvar\u001b[0m\u001b[1;33m)\u001b[0m\u001b[1;33m)\u001b[0m\u001b[1;33m\u001b[0m\u001b[0m\n\u001b[1;32m----> 5\u001b[1;33m \u001b[0mvar\u001b[0m \u001b[1;33m=\u001b[0m \u001b[0mfloat\u001b[0m\u001b[1;33m(\u001b[0m\u001b[0mvar\u001b[0m\u001b[1;33m)\u001b[0m\u001b[1;33m\u001b[0m\u001b[0m\n\u001b[0m\u001b[0;32m      6\u001b[0m \u001b[1;32mprint\u001b[0m \u001b[0mvar\u001b[0m\u001b[1;33m\u001b[0m\u001b[0m\n\u001b[0;32m      7\u001b[0m \u001b[1;32mprint\u001b[0m\u001b[1;33m(\u001b[0m\u001b[0mtype\u001b[0m\u001b[1;33m(\u001b[0m\u001b[0mvar\u001b[0m\u001b[1;33m)\u001b[0m\u001b[1;33m)\u001b[0m\u001b[1;33m\u001b[0m\u001b[0m\n",
      "\u001b[1;31mValueError\u001b[0m: invalid literal for float(): 123d"
     ]
    }
   ],
   "source": [
    "# str ---> float\n",
    "var = input(\"enter str  :  \")\n",
    "print var\n",
    "print(type(var))\n",
    "var = float(var)\n",
    "print var\n",
    "print(type(var))"
   ]
  },
  {
   "cell_type": "code",
   "execution_count": 9,
   "metadata": {},
   "outputs": [
    {
     "name": "stdout",
     "output_type": "stream",
     "text": [
      "enter list  :  [12,45]\n",
      "[12, 45]\n",
      "<type 'list'>\n"
     ]
    },
    {
     "ename": "TypeError",
     "evalue": "float() argument must be a string or a number",
     "output_type": "error",
     "traceback": [
      "\u001b[1;31m---------------------------------------------------------------------------\u001b[0m",
      "\u001b[1;31mTypeError\u001b[0m                                 Traceback (most recent call last)",
      "\u001b[1;32m<ipython-input-9-c08c7c9208b5>\u001b[0m in \u001b[0;36m<module>\u001b[1;34m()\u001b[0m\n\u001b[0;32m      3\u001b[0m \u001b[1;32mprint\u001b[0m \u001b[0mvar\u001b[0m\u001b[1;33m\u001b[0m\u001b[0m\n\u001b[0;32m      4\u001b[0m \u001b[1;32mprint\u001b[0m\u001b[1;33m(\u001b[0m\u001b[0mtype\u001b[0m\u001b[1;33m(\u001b[0m\u001b[0mvar\u001b[0m\u001b[1;33m)\u001b[0m\u001b[1;33m)\u001b[0m\u001b[1;33m\u001b[0m\u001b[0m\n\u001b[1;32m----> 5\u001b[1;33m \u001b[0mvar\u001b[0m \u001b[1;33m=\u001b[0m \u001b[0mfloat\u001b[0m\u001b[1;33m(\u001b[0m\u001b[0mvar\u001b[0m\u001b[1;33m)\u001b[0m\u001b[1;33m\u001b[0m\u001b[0m\n\u001b[0m\u001b[0;32m      6\u001b[0m \u001b[1;32mprint\u001b[0m \u001b[0mvar\u001b[0m\u001b[1;33m\u001b[0m\u001b[0m\n\u001b[0;32m      7\u001b[0m \u001b[1;32mprint\u001b[0m\u001b[1;33m(\u001b[0m\u001b[0mtype\u001b[0m\u001b[1;33m(\u001b[0m\u001b[0mvar\u001b[0m\u001b[1;33m)\u001b[0m\u001b[1;33m)\u001b[0m\u001b[1;33m\u001b[0m\u001b[0m\n",
      "\u001b[1;31mTypeError\u001b[0m: float() argument must be a string or a number"
     ]
    }
   ],
   "source": [
    "# list ---> float\n",
    "var = input(\"enter list  :  \")\n",
    "print var\n",
    "print(type(var))\n",
    "var = float(var)\n",
    "print var\n",
    "print(type(var))"
   ]
  },
  {
   "cell_type": "code",
   "execution_count": 10,
   "metadata": {},
   "outputs": [
    {
     "name": "stdout",
     "output_type": "stream",
     "text": [
      "enter tuple  :  (12,35)\n",
      "(12, 35)\n",
      "<type 'tuple'>\n"
     ]
    },
    {
     "ename": "TypeError",
     "evalue": "float() argument must be a string or a number",
     "output_type": "error",
     "traceback": [
      "\u001b[1;31m---------------------------------------------------------------------------\u001b[0m",
      "\u001b[1;31mTypeError\u001b[0m                                 Traceback (most recent call last)",
      "\u001b[1;32m<ipython-input-10-1af63d5bcfbc>\u001b[0m in \u001b[0;36m<module>\u001b[1;34m()\u001b[0m\n\u001b[0;32m      3\u001b[0m \u001b[1;32mprint\u001b[0m \u001b[0mvar\u001b[0m\u001b[1;33m\u001b[0m\u001b[0m\n\u001b[0;32m      4\u001b[0m \u001b[1;32mprint\u001b[0m\u001b[1;33m(\u001b[0m\u001b[0mtype\u001b[0m\u001b[1;33m(\u001b[0m\u001b[0mvar\u001b[0m\u001b[1;33m)\u001b[0m\u001b[1;33m)\u001b[0m\u001b[1;33m\u001b[0m\u001b[0m\n\u001b[1;32m----> 5\u001b[1;33m \u001b[0mvar\u001b[0m \u001b[1;33m=\u001b[0m \u001b[0mfloat\u001b[0m\u001b[1;33m(\u001b[0m\u001b[0mvar\u001b[0m\u001b[1;33m)\u001b[0m\u001b[1;33m\u001b[0m\u001b[0m\n\u001b[0m\u001b[0;32m      6\u001b[0m \u001b[1;32mprint\u001b[0m \u001b[0mvar\u001b[0m\u001b[1;33m\u001b[0m\u001b[0m\n\u001b[0;32m      7\u001b[0m \u001b[1;32mprint\u001b[0m\u001b[1;33m(\u001b[0m\u001b[0mtype\u001b[0m\u001b[1;33m(\u001b[0m\u001b[0mvar\u001b[0m\u001b[1;33m)\u001b[0m\u001b[1;33m)\u001b[0m\u001b[1;33m\u001b[0m\u001b[0m\n",
      "\u001b[1;31mTypeError\u001b[0m: float() argument must be a string or a number"
     ]
    }
   ],
   "source": [
    "# tuple ---> float\n",
    "var = input(\"enter tuple  :  \")\n",
    "print var\n",
    "print(type(var))\n",
    "var = float(var)\n",
    "print var\n",
    "print(type(var))"
   ]
  },
  {
   "cell_type": "code",
   "execution_count": 11,
   "metadata": {},
   "outputs": [
    {
     "name": "stdout",
     "output_type": "stream",
     "text": [
      "enter set  :  {12,34}\n",
      "set([34, 12])\n",
      "<type 'set'>\n"
     ]
    },
    {
     "ename": "TypeError",
     "evalue": "float() argument must be a string or a number",
     "output_type": "error",
     "traceback": [
      "\u001b[1;31m---------------------------------------------------------------------------\u001b[0m",
      "\u001b[1;31mTypeError\u001b[0m                                 Traceback (most recent call last)",
      "\u001b[1;32m<ipython-input-11-88a3c990c343>\u001b[0m in \u001b[0;36m<module>\u001b[1;34m()\u001b[0m\n\u001b[0;32m      3\u001b[0m \u001b[1;32mprint\u001b[0m \u001b[0mvar\u001b[0m\u001b[1;33m\u001b[0m\u001b[0m\n\u001b[0;32m      4\u001b[0m \u001b[1;32mprint\u001b[0m\u001b[1;33m(\u001b[0m\u001b[0mtype\u001b[0m\u001b[1;33m(\u001b[0m\u001b[0mvar\u001b[0m\u001b[1;33m)\u001b[0m\u001b[1;33m)\u001b[0m\u001b[1;33m\u001b[0m\u001b[0m\n\u001b[1;32m----> 5\u001b[1;33m \u001b[0mvar\u001b[0m \u001b[1;33m=\u001b[0m \u001b[0mfloat\u001b[0m\u001b[1;33m(\u001b[0m\u001b[0mvar\u001b[0m\u001b[1;33m)\u001b[0m\u001b[1;33m\u001b[0m\u001b[0m\n\u001b[0m\u001b[0;32m      6\u001b[0m \u001b[1;32mprint\u001b[0m \u001b[0mvar\u001b[0m\u001b[1;33m\u001b[0m\u001b[0m\n\u001b[0;32m      7\u001b[0m \u001b[1;32mprint\u001b[0m\u001b[1;33m(\u001b[0m\u001b[0mtype\u001b[0m\u001b[1;33m(\u001b[0m\u001b[0mvar\u001b[0m\u001b[1;33m)\u001b[0m\u001b[1;33m)\u001b[0m\u001b[1;33m\u001b[0m\u001b[0m\n",
      "\u001b[1;31mTypeError\u001b[0m: float() argument must be a string or a number"
     ]
    }
   ],
   "source": [
    "# set ---> float\n",
    "var = input(\"enter set  :  \")\n",
    "print var\n",
    "print(type(var))\n",
    "var = float(var)\n",
    "print var\n",
    "print(type(var))"
   ]
  },
  {
   "cell_type": "code",
   "execution_count": 12,
   "metadata": {},
   "outputs": [
    {
     "name": "stdout",
     "output_type": "stream",
     "text": [
      "enter dict  :  {12:244}\n",
      "{12: 244}\n",
      "<type 'dict'>\n"
     ]
    },
    {
     "ename": "TypeError",
     "evalue": "float() argument must be a string or a number",
     "output_type": "error",
     "traceback": [
      "\u001b[1;31m---------------------------------------------------------------------------\u001b[0m",
      "\u001b[1;31mTypeError\u001b[0m                                 Traceback (most recent call last)",
      "\u001b[1;32m<ipython-input-12-9a189ea34b6a>\u001b[0m in \u001b[0;36m<module>\u001b[1;34m()\u001b[0m\n\u001b[0;32m      3\u001b[0m \u001b[1;32mprint\u001b[0m \u001b[0mvar\u001b[0m\u001b[1;33m\u001b[0m\u001b[0m\n\u001b[0;32m      4\u001b[0m \u001b[1;32mprint\u001b[0m\u001b[1;33m(\u001b[0m\u001b[0mtype\u001b[0m\u001b[1;33m(\u001b[0m\u001b[0mvar\u001b[0m\u001b[1;33m)\u001b[0m\u001b[1;33m)\u001b[0m\u001b[1;33m\u001b[0m\u001b[0m\n\u001b[1;32m----> 5\u001b[1;33m \u001b[0mvar\u001b[0m \u001b[1;33m=\u001b[0m \u001b[0mfloat\u001b[0m\u001b[1;33m(\u001b[0m\u001b[0mvar\u001b[0m\u001b[1;33m)\u001b[0m\u001b[1;33m\u001b[0m\u001b[0m\n\u001b[0m\u001b[0;32m      6\u001b[0m \u001b[1;32mprint\u001b[0m \u001b[0mvar\u001b[0m\u001b[1;33m\u001b[0m\u001b[0m\n\u001b[0;32m      7\u001b[0m \u001b[1;32mprint\u001b[0m\u001b[1;33m(\u001b[0m\u001b[0mtype\u001b[0m\u001b[1;33m(\u001b[0m\u001b[0mvar\u001b[0m\u001b[1;33m)\u001b[0m\u001b[1;33m)\u001b[0m\u001b[1;33m\u001b[0m\u001b[0m\n",
      "\u001b[1;31mTypeError\u001b[0m: float() argument must be a string or a number"
     ]
    }
   ],
   "source": [
    "# dict ---> float\n",
    "var = input(\"enter dict  :  \")\n",
    "print var\n",
    "print(type(var))\n",
    "var = float(var)\n",
    "print var\n",
    "print(type(var))"
   ]
  },
  {
   "cell_type": "code",
   "execution_count": null,
   "metadata": {},
   "outputs": [],
   "source": []
  },
  {
   "cell_type": "code",
   "execution_count": 13,
   "metadata": {},
   "outputs": [
    {
     "name": "stdout",
     "output_type": "stream",
     "text": [
      "enter int  : 123\n",
      "123\n",
      "<type 'int'>\n",
      "(123+0j)\n",
      "<type 'complex'>\n"
     ]
    }
   ],
   "source": [
    "#  int   - > complex\n",
    "var = input(\"enter int  : \")\n",
    "print var\n",
    "print type(var)\n",
    "var = complex(var)\n",
    "print var\n",
    "print type(var)"
   ]
  },
  {
   "cell_type": "code",
   "execution_count": 14,
   "metadata": {},
   "outputs": [
    {
     "name": "stdout",
     "output_type": "stream",
     "text": [
      "enter float  : 12.344\n",
      "12.344\n",
      "<type 'float'>\n",
      "(12.344+0j)\n",
      "<type 'complex'>\n"
     ]
    }
   ],
   "source": [
    "#  float   - > complex\n",
    "var = input(\"enter float  : \")\n",
    "print var\n",
    "print type(var)\n",
    "var = complex(var)\n",
    "print var\n",
    "print type(var)"
   ]
  },
  {
   "cell_type": "code",
   "execution_count": 15,
   "metadata": {},
   "outputs": [
    {
     "name": "stdout",
     "output_type": "stream",
     "text": [
      "enter bool  : True\n",
      "True\n",
      "<type 'bool'>\n",
      "(1+0j)\n",
      "<type 'complex'>\n"
     ]
    }
   ],
   "source": [
    "#  bool   - > complex\n",
    "var = input(\"enter bool  : \")\n",
    "print var\n",
    "print type(var)\n",
    "var = complex(var)\n",
    "print var\n",
    "print type(var)"
   ]
  },
  {
   "cell_type": "code",
   "execution_count": 1,
   "metadata": {},
   "outputs": [
    {
     "name": "stdout",
     "output_type": "stream",
     "text": [
      "enter int  +ve  : 345\n",
      "345\n",
      "<type 'int'>\n",
      "True\n",
      "<type 'bool'>\n",
      "enter int  -ve  : -34\n",
      "-34\n",
      "<type 'int'>\n",
      "True\n",
      "<type 'bool'>\n",
      "enter int  0 :  0\n",
      "0\n",
      "<type 'int'>\n",
      "False\n",
      "<type 'bool'>\n"
     ]
    }
   ],
   "source": [
    "##### bool()  ###  ( True , False)\n",
    "'''\n",
    "which is used for  to convert any datatype to bool\n",
    "'''\n",
    "# int  --->> bool() ---> True / False\n",
    "var = input(\"enter int  +ve  : \")\n",
    "print var\n",
    "print type(var)\n",
    "\n",
    "var = bool(var)\n",
    "print var\n",
    "print type(var)\n",
    "\n",
    "var = input(\"enter int  -ve  : \")\n",
    "print var\n",
    "print type(var)\n",
    "\n",
    "var = bool(var)\n",
    "print var\n",
    "print type(var)\n",
    "\n",
    "var = input(\"enter int  0 :  \")\n",
    "print var\n",
    "print type(var)\n",
    "\n",
    "var = bool(var)\n",
    "print var\n",
    "print type(var)"
   ]
  },
  {
   "cell_type": "code",
   "execution_count": 2,
   "metadata": {},
   "outputs": [
    {
     "name": "stdout",
     "output_type": "stream",
     "text": [
      "enter float  +ve  : 34.23534\n",
      "34.23534\n",
      "<type 'float'>\n",
      "True\n",
      "<type 'bool'>\n",
      "enter float  -ve  : -34.4345\n",
      "-34.4345\n",
      "<type 'float'>\n",
      "True\n",
      "<type 'bool'>\n",
      "enter float  0.0 :  0.0\n",
      "0.0\n",
      "<type 'float'>\n",
      "False\n",
      "<type 'bool'>\n"
     ]
    }
   ],
   "source": [
    "# float  --->> bool() ---> True / False\n",
    "var = input(\"enter float  +ve  : \")\n",
    "print var\n",
    "print type(var)\n",
    "\n",
    "var = bool(var)\n",
    "print var\n",
    "print type(var)\n",
    "\n",
    "var = input(\"enter float  -ve  : \")\n",
    "print var\n",
    "print type(var)\n",
    "\n",
    "var = bool(var)\n",
    "print var\n",
    "print type(var)\n",
    "\n",
    "var = input(\"enter float  0.0 :  \")\n",
    "print var\n",
    "print type(var)\n",
    "\n",
    "var = bool(var)\n",
    "print var\n",
    "print type(var)"
   ]
  },
  {
   "cell_type": "code",
   "execution_count": 3,
   "metadata": {},
   "outputs": [
    {
     "name": "stdout",
     "output_type": "stream",
     "text": [
      "enter complex  X + Yj   : 23+0j\n",
      "(23+0j)\n",
      "<type 'complex'>\n",
      "True\n",
      "<type 'bool'>\n",
      "enter complex  X+Yj : 0 +34j\n",
      "34j\n",
      "<type 'complex'>\n",
      "True\n",
      "<type 'bool'>\n",
      "enter complex  0+0j :  0 + 0j\n",
      "0j\n",
      "<type 'complex'>\n",
      "False\n",
      "<type 'bool'>\n"
     ]
    }
   ],
   "source": [
    "# complex --->> bool() ---> True / False\n",
    "var = input(\"enter complex  X + Yj   : \")\n",
    "print var\n",
    "print type(var)\n",
    "\n",
    "var = bool(var)\n",
    "print var\n",
    "print type(var)\n",
    "\n",
    "var = input(\"enter complex  X+Yj : \")\n",
    "print var\n",
    "print type(var)\n",
    "\n",
    "var = bool(var)\n",
    "print var\n",
    "print type(var)\n",
    "\n",
    "var = input(\"enter complex  0+0j :  \")\n",
    "print var\n",
    "print type(var)\n",
    "\n",
    "var = bool(var)\n",
    "print var\n",
    "print type(var)"
   ]
  },
  {
   "cell_type": "code",
   "execution_count": 6,
   "metadata": {},
   "outputs": [
    {
     "name": "stdout",
     "output_type": "stream",
     "text": [
      "enter None  : None\n",
      "None\n",
      "<type 'NoneType'>\n",
      "False\n",
      "<type 'bool'>\n"
     ]
    }
   ],
   "source": [
    "# None type --->> bool() ---> True / False\n",
    "var = input(\"enter None  : \")\n",
    "print var\n",
    "print type(var)\n",
    "\n",
    "var = bool(var)\n",
    "print var\n",
    "print type(var)\n",
    "\n"
   ]
  },
  {
   "cell_type": "code",
   "execution_count": 7,
   "metadata": {},
   "outputs": [
    {
     "name": "stdout",
     "output_type": "stream",
     "text": [
      "enter str  : \"fkjbfjk\"\n",
      "fkjbfjk\n",
      "<type 'str'>\n",
      "True\n",
      "<type 'bool'>\n",
      "enter str  : \"\"\n",
      "\n",
      "<type 'str'>\n",
      "False\n",
      "<type 'bool'>\n"
     ]
    }
   ],
   "source": [
    "# str --->> bool() ---> True / False\n",
    "var = input(\"enter str  : \")\n",
    "print var\n",
    "print type(var)\n",
    "\n",
    "var = bool(var)\n",
    "print var\n",
    "print type(var)\n",
    "\n",
    "var = input(\"enter str  : \")\n",
    "print var\n",
    "print type(var)\n",
    "\n",
    "var = bool(var)\n",
    "print var\n",
    "print type(var)"
   ]
  },
  {
   "cell_type": "code",
   "execution_count": 8,
   "metadata": {},
   "outputs": [
    {
     "name": "stdout",
     "output_type": "stream",
     "text": [
      "enter list  : [12,45]\n",
      "[12, 45]\n",
      "<type 'list'>\n",
      "True\n",
      "<type 'bool'>\n",
      "enter list  : []\n",
      "[]\n",
      "<type 'list'>\n",
      "False\n",
      "<type 'bool'>\n"
     ]
    }
   ],
   "source": [
    "# list --->> bool() ---> True / False\n",
    "var = input(\"enter list  : \")\n",
    "print var\n",
    "print type(var)\n",
    "\n",
    "var = bool(var)\n",
    "print var\n",
    "print type(var)\n",
    "\n",
    "var = input(\"enter list  : \")\n",
    "print var\n",
    "print type(var)\n",
    "\n",
    "var = bool(var)\n",
    "print var\n",
    "print type(var)"
   ]
  },
  {
   "cell_type": "code",
   "execution_count": 9,
   "metadata": {},
   "outputs": [
    {
     "name": "stdout",
     "output_type": "stream",
     "text": [
      "enter tuple  : (12,45)\n",
      "(12, 45)\n",
      "<type 'tuple'>\n",
      "True\n",
      "<type 'bool'>\n",
      "enter tuple : ()\n",
      "()\n",
      "<type 'tuple'>\n",
      "False\n",
      "<type 'bool'>\n"
     ]
    }
   ],
   "source": [
    "# tuple --->> bool() ---> True / False\n",
    "var = input(\"enter tuple  : \")\n",
    "print var\n",
    "print type(var)\n",
    "\n",
    "var = bool(var)\n",
    "print var\n",
    "print type(var)\n",
    "\n",
    "var = input(\"enter tuple : \")\n",
    "print var\n",
    "print type(var)\n",
    "\n",
    "var = bool(var)\n",
    "print var\n",
    "print type(var)"
   ]
  },
  {
   "cell_type": "code",
   "execution_count": 10,
   "metadata": {},
   "outputs": [
    {
     "name": "stdout",
     "output_type": "stream",
     "text": [
      "enter set  : {12,3,5}\n",
      "set([3, 12, 5])\n",
      "<type 'set'>\n",
      "True\n",
      "<type 'bool'>\n",
      "enter set  : set()\n",
      "set([])\n",
      "<type 'set'>\n",
      "False\n",
      "<type 'bool'>\n"
     ]
    }
   ],
   "source": [
    "# set --->> bool() ---> True / False\n",
    "var = input(\"enter set  : \")\n",
    "print var\n",
    "print type(var)\n",
    "\n",
    "var = bool(var)\n",
    "print var\n",
    "print type(var)\n",
    "\n",
    "var = input(\"enter set  : \")\n",
    "print var\n",
    "print type(var)\n",
    "\n",
    "var = bool(var)\n",
    "print var\n",
    "print type(var)"
   ]
  },
  {
   "cell_type": "code",
   "execution_count": 11,
   "metadata": {},
   "outputs": [
    {
     "name": "stdout",
     "output_type": "stream",
     "text": [
      "enter dict  : {12:345}\n",
      "{12: 345}\n",
      "<type 'dict'>\n",
      "True\n",
      "<type 'bool'>\n",
      "enter dict  : {}\n",
      "{}\n",
      "<type 'dict'>\n",
      "False\n",
      "<type 'bool'>\n"
     ]
    }
   ],
   "source": [
    "# dict --->> bool() ---> True / False\n",
    "var = input(\"enter dict  : \")\n",
    "print var\n",
    "print type(var)\n",
    "\n",
    "var = bool(var)\n",
    "print var\n",
    "print type(var)\n",
    "\n",
    "var = input(\"enter dict  : \")\n",
    "print var\n",
    "print type(var)\n",
    "\n",
    "var = bool(var)\n",
    "print var\n",
    "print type(var)"
   ]
  },
  {
   "cell_type": "code",
   "execution_count": 12,
   "metadata": {},
   "outputs": [
    {
     "name": "stdout",
     "output_type": "stream",
     "text": [
      "enter int   : 123\n",
      "123\n",
      "<type 'int'>\n",
      "123\n",
      "<type 'str'>\n",
      "enter float  : 12.35\n",
      "12.35\n",
      "<type 'float'>\n",
      "12.35\n",
      "<type 'str'>\n",
      "enter complex  : 12+4j\n",
      "(12+4j)\n",
      "<type 'complex'>\n",
      "(12+4j)\n",
      "<type 'str'>\n",
      "enter bool : True\n",
      "True\n",
      "<type 'bool'>\n",
      "True\n",
      "<type 'str'>\n",
      "enter None  : None\n",
      "None\n",
      "<type 'NoneType'>\n",
      "None\n",
      "<type 'str'>\n"
     ]
    }
   ],
   "source": [
    "# str()\n",
    "'''\n",
    "==>> ANy convert any datatype to str datatype\n",
    "'''\n",
    "# int\n",
    "var = input(\"enter int   : \")\n",
    "print var\n",
    "print type(var)\n",
    "\n",
    "var = str(var)\n",
    "print var\n",
    "print type(var)\n",
    "\n",
    "# float\n",
    "var = input(\"enter float  : \")\n",
    "print var\n",
    "print type(var)\n",
    "\n",
    "var = str(var)\n",
    "print var\n",
    "print type(var)\n",
    "\n",
    "# complex\n",
    "var = input(\"enter complex  : \")\n",
    "print var\n",
    "print type(var)\n",
    "\n",
    "var = str(var)\n",
    "print var\n",
    "print type(var)\n",
    "\n",
    "# bool\n",
    "var = input(\"enter bool : \")\n",
    "print var\n",
    "print type(var)\n",
    "\n",
    "var = str(var)\n",
    "print var\n",
    "print type(var)\n",
    "\n",
    "# None\n",
    "var = input(\"enter None  : \")\n",
    "print var\n",
    "print type(var)\n",
    "\n",
    "var = str(var)\n",
    "print var\n",
    "print type(var)\n"
   ]
  },
  {
   "cell_type": "code",
   "execution_count": 13,
   "metadata": {},
   "outputs": [
    {
     "name": "stdout",
     "output_type": "stream",
     "text": [
      "enter list   : [12,3455]\n",
      "[12, 3455]\n",
      "<type 'list'>\n",
      "[12, 3455]\n",
      "<type 'str'>\n",
      "enter tuple  : (12,4,5)\n",
      "(12, 4, 5)\n",
      "<type 'tuple'>\n",
      "(12, 4, 5)\n",
      "<type 'str'>\n",
      "enter set : {1,2,4}\n",
      "set([1, 2, 4])\n",
      "<type 'set'>\n",
      "set([1, 2, 4])\n",
      "<type 'str'>\n",
      "enter dict : {12: \"sdf\"}\n",
      "{12: 'sdf'}\n",
      "<type 'dict'>\n",
      "{12: 'sdf'}\n",
      "<type 'str'>\n"
     ]
    }
   ],
   "source": [
    "# str()\n",
    "'''\n",
    "==>> ANy convert any datatype to str datatype\n",
    "'''\n",
    "# list\n",
    "var = input(\"enter list   : \")\n",
    "print var\n",
    "print type(var)\n",
    "\n",
    "var = str(var)\n",
    "print var\n",
    "print type(var)\n",
    "\n",
    "# tuple\n",
    "var = input(\"enter tuple  : \")\n",
    "print var\n",
    "print type(var)\n",
    "\n",
    "var = str(var)\n",
    "print var\n",
    "print type(var)\n",
    "\n",
    "# set\n",
    "var = input(\"enter set : \")\n",
    "print var\n",
    "print type(var)\n",
    "\n",
    "var = str(var)\n",
    "print var\n",
    "print type(var)\n",
    "\n",
    "# dict\n",
    "var = input(\"enter dict : \")\n",
    "print var\n",
    "print type(var)\n",
    "\n",
    "var = str(var)\n",
    "print var\n",
    "print type(var)\n"
   ]
  },
  {
   "cell_type": "code",
   "execution_count": null,
   "metadata": {},
   "outputs": [],
   "source": []
  },
  {
   "cell_type": "code",
   "execution_count": null,
   "metadata": {},
   "outputs": [],
   "source": []
  },
  {
   "cell_type": "code",
   "execution_count": 14,
   "metadata": {},
   "outputs": [
    {
     "name": "stdout",
     "output_type": "stream",
     "text": [
      "enter int   : 789\n",
      "789\n",
      "<type 'int'>\n"
     ]
    },
    {
     "ename": "TypeError",
     "evalue": "'int' object is not iterable",
     "output_type": "error",
     "traceback": [
      "\u001b[1;31m---------------------------------------------------------------------------\u001b[0m",
      "\u001b[1;31mTypeError\u001b[0m                                 Traceback (most recent call last)",
      "\u001b[1;32m<ipython-input-14-2c4c542d0d60>\u001b[0m in \u001b[0;36m<module>\u001b[1;34m()\u001b[0m\n\u001b[0;32m      9\u001b[0m \u001b[1;32mprint\u001b[0m \u001b[0mtype\u001b[0m\u001b[1;33m(\u001b[0m\u001b[0mvar\u001b[0m\u001b[1;33m)\u001b[0m\u001b[1;33m\u001b[0m\u001b[0m\n\u001b[0;32m     10\u001b[0m \u001b[1;33m\u001b[0m\u001b[0m\n\u001b[1;32m---> 11\u001b[1;33m \u001b[0mvar\u001b[0m \u001b[1;33m=\u001b[0m \u001b[0mlist\u001b[0m\u001b[1;33m(\u001b[0m\u001b[0mvar\u001b[0m\u001b[1;33m)\u001b[0m \u001b[1;31m# list()\u001b[0m\u001b[1;33m\u001b[0m\u001b[0m\n\u001b[0m\u001b[0;32m     12\u001b[0m \u001b[1;32mprint\u001b[0m \u001b[0mvar\u001b[0m\u001b[1;33m\u001b[0m\u001b[0m\n\u001b[0;32m     13\u001b[0m \u001b[1;32mprint\u001b[0m \u001b[0mtype\u001b[0m\u001b[1;33m(\u001b[0m\u001b[0mvar\u001b[0m\u001b[1;33m)\u001b[0m\u001b[1;33m\u001b[0m\u001b[0m\n",
      "\u001b[1;31mTypeError\u001b[0m: 'int' object is not iterable"
     ]
    }
   ],
   "source": [
    "# list()\n",
    "'''\n",
    "To convert any datatype to list data\n",
    "'''\n",
    "# int  ---> list\n",
    "\n",
    "var = input(\"enter int   : \")\n",
    "print var\n",
    "print type(var)\n",
    "\n",
    "var = list(var) # list()\n",
    "print var\n",
    "print type(var)\n",
    "\n",
    "\n"
   ]
  },
  {
   "cell_type": "code",
   "execution_count": null,
   "metadata": {},
   "outputs": [],
   "source": [
    "# float , Compllex , bool , None  ----> its given an error"
   ]
  },
  {
   "cell_type": "code",
   "execution_count": 15,
   "metadata": {},
   "outputs": [
    {
     "name": "stdout",
     "output_type": "stream",
     "text": [
      "enter str   : \"kjdkjfkdjfkdf\"\n",
      "kjdkjfkdjfkdf\n",
      "<type 'str'>\n",
      "['k', 'j', 'd', 'k', 'j', 'f', 'k', 'd', 'j', 'f', 'k', 'd', 'f']\n",
      "<type 'list'>\n"
     ]
    }
   ],
   "source": [
    "# str ---> list()\n",
    "\n",
    "\n",
    "var = input(\"enter str   : \")\n",
    "print var\n",
    "print type(var)\n",
    "\n",
    "var = list(var) # list()\n",
    "print var\n",
    "print type(var)\n",
    "\n"
   ]
  },
  {
   "cell_type": "code",
   "execution_count": 16,
   "metadata": {},
   "outputs": [
    {
     "name": "stdout",
     "output_type": "stream",
     "text": [
      "enter tupple   : (12,4,5,6)\n",
      "(12, 4, 5, 6)\n",
      "<type 'tuple'>\n",
      "[12, 4, 5, 6]\n",
      "<type 'list'>\n"
     ]
    }
   ],
   "source": [
    "# tuple ---> list()\n",
    "\n",
    "\n",
    "var = input(\"enter tupple   : \")\n",
    "print var\n",
    "print type(var)\n",
    "\n",
    "var = list(var) # list()\n",
    "print var\n",
    "print type(var)\n",
    "\n"
   ]
  },
  {
   "cell_type": "code",
   "execution_count": 17,
   "metadata": {},
   "outputs": [
    {
     "name": "stdout",
     "output_type": "stream",
     "text": [
      "enter set  : {12,3,4,5}\n",
      "set([4, 3, 12, 5])\n",
      "<type 'set'>\n",
      "[4, 3, 12, 5]\n",
      "<type 'list'>\n"
     ]
    }
   ],
   "source": [
    "# set---> list()\n",
    "\n",
    "\n",
    "var = input(\"enter set  : \")\n",
    "print var\n",
    "print type(var)\n",
    "\n",
    "var = list(var) # list()\n",
    "print var\n",
    "print type(var)\n",
    "\n"
   ]
  },
  {
   "cell_type": "code",
   "execution_count": 19,
   "metadata": {},
   "outputs": [
    {
     "name": "stdout",
     "output_type": "stream",
     "text": [
      "enter dict   : {12:\"wqer\" , 67 :\"55\", 90:\"dfddf\"}\n",
      "{90: 'dfddf', 67: '55', 12: 'wqer'}\n",
      "<type 'dict'>\n",
      "[90, 67, 12]\n",
      "<type 'list'>\n"
     ]
    }
   ],
   "source": [
    "# dict ---> list()\n",
    "\n",
    "\n",
    "var = input(\"enter dict   : \")\n",
    "print var\n",
    "print type(var)\n",
    "\n",
    "var = list(var) # list()\n",
    "print var\n",
    "print type(var)\n",
    "\n"
   ]
  },
  {
   "cell_type": "code",
   "execution_count": null,
   "metadata": {},
   "outputs": [],
   "source": [
    "# int()  float() , complex() , bool() , str() , list()\n",
    "\n",
    "# tuple()\n",
    "# set()\n",
    "# dict()"
   ]
  }
 ],
 "metadata": {
  "kernelspec": {
   "display_name": "Python 2",
   "language": "python",
   "name": "python2"
  },
  "language_info": {
   "codemirror_mode": {
    "name": "ipython",
    "version": 2
   },
   "file_extension": ".py",
   "mimetype": "text/x-python",
   "name": "python",
   "nbconvert_exporter": "python",
   "pygments_lexer": "ipython2",
   "version": "2.7.16"
  }
 },
 "nbformat": 4,
 "nbformat_minor": 2
}
