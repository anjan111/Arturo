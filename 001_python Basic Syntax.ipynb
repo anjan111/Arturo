{
 "cells": [
  {
   "cell_type": "markdown",
   "metadata": {},
   "source": [
    "Python Basic Syntax\n",
    "\n",
    "--->  Syntax\n",
    "\n",
    "--->  Program\n",
    "\n",
    "\n",
    "---> Instruction\n",
    "\n",
    "--->  Types Of instruction\n",
    "\n",
    "--->  Comments\n",
    "\n",
    "\n",
    "--->  Statements\n",
    "\n",
    "---> Keywords\n",
    "\n",
    "\n",
    "-->  Identifiers\n",
    "\n",
    "\n",
    "--->  Variable\n",
    "\n",
    "\n",
    "---> Datatypes"
   ]
  },
  {
   "cell_type": "code",
   "execution_count": 1,
   "metadata": {},
   "outputs": [
    {
     "name": "stdout",
     "output_type": "stream",
     "text": [
      "hello\n",
      "hai\n",
      "bye\n",
      "123\n"
     ]
    }
   ],
   "source": [
    "print \"hello\"\n",
    "print \"hai\"\n",
    "print\"bye\"\n",
    "var =  123\n",
    "print var"
   ]
  },
  {
   "cell_type": "code",
   "execution_count": 2,
   "metadata": {},
   "outputs": [
    {
     "name": "stdout",
     "output_type": "stream",
     "text": [
      "Anjan\n",
      "Pavan\n",
      "Artur\n",
      "Pradarshan Kumar\n",
      "Harish \n"
     ]
    }
   ],
   "source": [
    "print \"Anjan\"\n",
    "print \"Pavan\"\n",
    "print \"Artur\"\n",
    "print \"Pradarshan Kumar\"\n",
    "print \"Harish \""
   ]
  },
  {
   "cell_type": "markdown",
   "metadata": {},
   "source": [
    "##### Syntax\n",
    "\n",
    "==>> The structure for writing a program\n",
    "\n",
    "##### Program\n",
    "\n",
    "==>>  Collection of Instruction to do any one specific task\n",
    "\n",
    "##### Instruction\n",
    "\n",
    "==>> A line of code with in the program\n",
    "\n",
    "==>> There are 2 types of instructions\n",
    "\n",
    "1. Comment \n",
    "\n",
    " --->>  An instruction which can't be executable\n",
    " \n",
    " --->>  Programmer can create the comments\n",
    " \n",
    " --->>  To give the brief explanation for each and every statement with in program\n",
    " \n",
    " --->>  Single line comment    #\n",
    " \n",
    " --->>  Multiline Comment      ''' '''\n",
    "\n",
    "2. Statement\n",
    "\n",
    " --->>   An Instruction which can be executable"
   ]
  },
  {
   "cell_type": "code",
   "execution_count": 1,
   "metadata": {},
   "outputs": [
    {
     "name": "stdout",
     "output_type": "stream",
     "text": [
      "hello\n",
      "hai\n",
      "bye\n"
     ]
    }
   ],
   "source": [
    "# This is single line comment\n",
    "'''\n",
    "This \n",
    "is \n",
    "Multiline \n",
    "Comment\n",
    "'''\n",
    "print \"hello\"# Displaying the hello on monitor\n",
    "print \"hai\"\n",
    "print \"bye\""
   ]
  },
  {
   "cell_type": "markdown",
   "metadata": {},
   "source": [
    "##### Keywords\n",
    "\n",
    "==>>  Pre defined words\n",
    "\n",
    "==>>  Which are already defined inside of python\n",
    "\n",
    "==>>  Each and every keyword which is having its own specific task\n",
    "\n",
    "Ex:-\n",
    "\n",
    "--->  as , assert , in , for , while , if , else, elif , break , continue, pass\n",
    "\n",
    "--->  except , try, raise , finally , import , print  , and , or , not , lambda"
   ]
  },
  {
   "cell_type": "code",
   "execution_count": 2,
   "metadata": {},
   "outputs": [
    {
     "name": "stdout",
     "output_type": "stream",
     "text": [
      "['and', 'as', 'assert', 'break', 'class', 'continue', 'def', 'del', 'elif', 'else', 'except', 'exec', 'finally', 'for', 'from', 'global', 'if', 'import', 'in', 'is', 'lambda', 'not', 'or', 'pass', 'print', 'raise', 'return', 'try', 'while', 'with', 'yield']\n",
      "31\n"
     ]
    }
   ],
   "source": [
    "import keyword\n",
    "print keyword.kwlist\n",
    "print len(keyword.kwlist)"
   ]
  },
  {
   "cell_type": "markdown",
   "metadata": {},
   "source": [
    "#####  Identifiers\n",
    "\n",
    "===>> User Defined words\n",
    "\n",
    "===>> To give the names for variables, functions, classes\n",
    "\n",
    "##### Rules\n",
    "\n",
    "===>> we can use alphabets\n",
    "\n",
    "===>> we can use digits \n",
    "\n",
    "===>> we can use underscore\n",
    "\n",
    "===>> don't start with digit\n",
    "\n",
    "===>> don't use keywords\n",
    "\n",
    "===>> don't use special character\n"
   ]
  },
  {
   "cell_type": "code",
   "execution_count": 4,
   "metadata": {},
   "outputs": [
    {
     "name": "stdout",
     "output_type": "stream",
     "text": [
      "123\n",
      "39356096\n"
     ]
    }
   ],
   "source": [
    "#### Variables\n",
    "\n",
    "'''\n",
    "===>>> To hold the data with in memory loc\n",
    "===>>> In python we can directly assign the data to names\n",
    "'''\n",
    "var = 123\n",
    "print var\n",
    "print id(var)"
   ]
  },
  {
   "cell_type": "code",
   "execution_count": 5,
   "metadata": {},
   "outputs": [
    {
     "name": "stdout",
     "output_type": "stream",
     "text": [
      "34.34\n"
     ]
    }
   ],
   "source": [
    "_vaY6 = 34.34\n",
    "print _vaY6"
   ]
  },
  {
   "cell_type": "code",
   "execution_count": 6,
   "metadata": {},
   "outputs": [
    {
     "ename": "SyntaxError",
     "evalue": "invalid syntax (<ipython-input-6-3af46aa61d72>, line 1)",
     "output_type": "error",
     "traceback": [
      "\u001b[1;36m  File \u001b[1;32m\"<ipython-input-6-3af46aa61d72>\"\u001b[1;36m, line \u001b[1;32m1\u001b[0m\n\u001b[1;33m    5var = 234\u001b[0m\n\u001b[1;37m       ^\u001b[0m\n\u001b[1;31mSyntaxError\u001b[0m\u001b[1;31m:\u001b[0m invalid syntax\n"
     ]
    }
   ],
   "source": [
    "5var = 234 # i got error  , BCZ i started with digit"
   ]
  },
  {
   "cell_type": "code",
   "execution_count": 7,
   "metadata": {},
   "outputs": [
    {
     "ename": "SyntaxError",
     "evalue": "invalid syntax (<ipython-input-7-1f440ea3afd4>, line 1)",
     "output_type": "error",
     "traceback": [
      "\u001b[1;36m  File \u001b[1;32m\"<ipython-input-7-1f440ea3afd4>\"\u001b[1;36m, line \u001b[1;32m1\u001b[0m\n\u001b[1;33m    while = 123\u001b[0m\n\u001b[1;37m          ^\u001b[0m\n\u001b[1;31mSyntaxError\u001b[0m\u001b[1;31m:\u001b[0m invalid syntax\n"
     ]
    }
   ],
   "source": [
    "while = 123# i got error  , BCZ i used keyword\n",
    "print while"
   ]
  },
  {
   "cell_type": "code",
   "execution_count": 8,
   "metadata": {},
   "outputs": [
    {
     "ename": "SyntaxError",
     "evalue": "invalid syntax (<ipython-input-8-44867e939f07>, line 1)",
     "output_type": "error",
     "traceback": [
      "\u001b[1;36m  File \u001b[1;32m\"<ipython-input-8-44867e939f07>\"\u001b[1;36m, line \u001b[1;32m1\u001b[0m\n\u001b[1;33m    v@t = 123\u001b[0m\n\u001b[1;37m     ^\u001b[0m\n\u001b[1;31mSyntaxError\u001b[0m\u001b[1;31m:\u001b[0m invalid syntax\n"
     ]
    }
   ],
   "source": [
    "v@t = 123 # i got error  , BCZ i used special character\n",
    "print v@t"
   ]
  },
  {
   "cell_type": "code",
   "execution_count": null,
   "metadata": {},
   "outputs": [],
   "source": [
    "# Datatypes with Built -in functions\n",
    "\n",
    "--->> what is datatype\n",
    "--->> Types of Datatypes\n",
    "--->> What is function\n",
    "--->> input()\n",
    "--->> raw_input()\n",
    "--->> type()\n",
    "--->> Datatype convertion functions\n",
    "\n",
    "#####  +91 9640  987  960  --->> what's app number"
   ]
  }
 ],
 "metadata": {
  "kernelspec": {
   "display_name": "Python 2",
   "language": "python",
   "name": "python2"
  },
  "language_info": {
   "codemirror_mode": {
    "name": "ipython",
    "version": 2
   },
   "file_extension": ".py",
   "mimetype": "text/x-python",
   "name": "python",
   "nbconvert_exporter": "python",
   "pygments_lexer": "ipython2",
   "version": "2.7.16"
  }
 },
 "nbformat": 4,
 "nbformat_minor": 2
}
