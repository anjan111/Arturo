{
 "cells": [
  {
   "cell_type": "code",
   "execution_count": 1,
   "metadata": {},
   "outputs": [
    {
     "name": "stdout",
     "output_type": "stream",
     "text": [
      "(2, 1.23, (3+4j), True, None, 'soc', [1, 2], (1, 2, 3), set([1, 2]), {12: 34})\n",
      "<type 'tuple'>\n"
     ]
    }
   ],
   "source": [
    "# tuple is collection of elements with in ()\n",
    "# Hetrogenious datatype\n",
    "var = (2,1.23 ,3+4j ,True ,None ,\"soc\",[1,2],(1,2,3),{1,2},{12:34})\n",
    "print var\n",
    "print type(var)"
   ]
  },
  {
   "cell_type": "code",
   "execution_count": 2,
   "metadata": {},
   "outputs": [
    {
     "name": "stdout",
     "output_type": "stream",
     "text": [
      "2\n",
      "1.23\n",
      "(3+4j)\n",
      "True\n",
      "None\n"
     ]
    }
   ],
   "source": [
    "# we have to access the elements from tuple\n",
    "'''\n",
    "==>>>  Indexing  --->> we can access only one elements\n",
    "\n",
    "===>>> Slicing \n",
    "\n",
    "===>>> Dicing \n",
    "'''\n",
    "var = (2,1.23 ,3+4j ,True ,None ,\"soc\",[1,2],(1,2,3),{1,2},{12:34})\n",
    "# Positive indexing  / Forward Indexiinf \n",
    "print var[0]\n",
    "print var[1]\n",
    "print var[2]\n",
    "print var[3]\n",
    "print var[4]"
   ]
  },
  {
   "cell_type": "code",
   "execution_count": null,
   "metadata": {},
   "outputs": [],
   "source": [
    "var = (2,1.23 ,3+4j ,True ,None ,\"soc\",[1,2],(1,2,3),{1,2},{12:34})\n",
    "# Negative  indexing  / Backward Indexiinf \n",
    "print var[-1]\n",
    "print var[-2]\n",
    "print var[-3]\n",
    "print var[-4]"
   ]
  },
  {
   "cell_type": "code",
   "execution_count": 3,
   "metadata": {},
   "outputs": [
    {
     "name": "stdout",
     "output_type": "stream",
     "text": [
      "(True, None, 'soc', [1, 2])\n",
      "(2, 1.23, (3+4j), True, None, 'soc', [1, 2])\n",
      "(2, 1.23, (3+4j), True, None, 'soc', [1, 2])\n",
      "(True, None, 'soc', [1, 2], (1, 2, 3), set([1, 2]), {12: 34})\n",
      "(True, None, 'soc', [1, 2], (1, 2, 3), set([1, 2]), {12: 34})\n"
     ]
    }
   ],
   "source": [
    "# tuple slicing ---> var[ start : stop ]\n",
    "var = (2,1.23 ,3+4j ,True ,None ,\"soc\",[1,2],(1,2,3),{1,2},{12:34})\n",
    "print var[3 : 7]# 3,4,5,6\n",
    "print var[  : 7]# 0,1,2,3,4,5,6\n",
    "print var[0 : 7]# 0,1,2,3,4,5,6\n",
    "print var[3 :  ] # 3,4,5,6,7,8,9\n",
    "print var[3 : 10]# 3,4,5,6,7,8,9"
   ]
  },
  {
   "cell_type": "code",
   "execution_count": 4,
   "metadata": {},
   "outputs": [
    {
     "name": "stdout",
     "output_type": "stream",
     "text": [
      "((3+4j), 'soc', set([1, 2]))\n",
      "(2, True, [1, 2])\n",
      "(1.23, True, 'soc', (1, 2, 3), {12: 34})\n",
      "(1.23, True, 'soc', (1, 2, 3), {12: 34})\n",
      "((3+4j), True, None, 'soc')\n"
     ]
    }
   ],
   "source": [
    "# tuple dicing  ---> var [ start  :  stop  : step ]\n",
    "var = (2,1.23 ,3+4j ,True ,None ,\"soc\",[1,2],(1,2,3),{1,2},{12:34})\n",
    "print var[2 : 9 : 3]  # 2,5,8\n",
    "print var[  : 9 : 3]  # 0,3,6\n",
    "print var[1 :   : 2]  # 1,3,5,7,9\n",
    "print var[1 : 10: 2]  # 1,3,5,7,9\n",
    "print var[2 : 6 : ]   # 2,3,4,5"
   ]
  },
  {
   "cell_type": "code",
   "execution_count": 5,
   "metadata": {},
   "outputs": [
    {
     "name": "stdout",
     "output_type": "stream",
     "text": [
      "12\n",
      "[14, 90, 34, 67]\n",
      "(1, 2, 3)\n",
      "34\n",
      "2\n"
     ]
    }
   ],
   "source": [
    "# nested indexing \n",
    "var = [12 , [14,90,34,67],(1,2,3)]\n",
    "print var[0] # 12\n",
    "print var[1] # [14,90,34,67]\n",
    "print var[2] #(1,2,3)\n",
    "print var[1][2] # 34\n",
    "print var[2][1] # 2"
   ]
  },
  {
   "cell_type": "code",
   "execution_count": 6,
   "metadata": {},
   "outputs": [
    {
     "name": "stdout",
     "output_type": "stream",
     "text": [
      "12\n",
      "[14, 90, 34, 67]\n",
      "(1, 2, 3)\n",
      "34\n",
      "2\n"
     ]
    }
   ],
   "source": [
    "# nested indexing \n",
    "var = (12 , [14,90,34,67],(1,2,3))\n",
    "print var[0] # 12\n",
    "print var[1] # [14,90,34,67]\n",
    "print var[2] #(1,2,3)\n",
    "print var[1][2] # 34\n",
    "print var[2][1] # 2"
   ]
  },
  {
   "cell_type": "code",
   "execution_count": 7,
   "metadata": {},
   "outputs": [
    {
     "name": "stdout",
     "output_type": "stream",
     "text": [
      "[12, 989, 23]\n",
      "[12, 101, 23]\n"
     ]
    }
   ],
   "source": [
    "# list mutable datatype -->> Previous elemenets we can modify\n",
    "var = [12,989,23]\n",
    "print var\n",
    "var[1] = 101\n",
    "print var\n",
    "\n"
   ]
  },
  {
   "cell_type": "code",
   "execution_count": 8,
   "metadata": {},
   "outputs": [
    {
     "name": "stdout",
     "output_type": "stream",
     "text": [
      "(12, 989, 23)\n"
     ]
    },
    {
     "ename": "TypeError",
     "evalue": "'tuple' object does not support item assignment",
     "output_type": "error",
     "traceback": [
      "\u001b[1;31m---------------------------------------------------------------------------\u001b[0m",
      "\u001b[1;31mTypeError\u001b[0m                                 Traceback (most recent call last)",
      "\u001b[1;32m<ipython-input-8-3049d0de8613>\u001b[0m in \u001b[0;36m<module>\u001b[1;34m()\u001b[0m\n\u001b[0;32m      1\u001b[0m \u001b[0mvar\u001b[0m \u001b[1;33m=\u001b[0m \u001b[1;33m(\u001b[0m\u001b[1;36m12\u001b[0m\u001b[1;33m,\u001b[0m\u001b[1;36m989\u001b[0m\u001b[1;33m,\u001b[0m\u001b[1;36m23\u001b[0m\u001b[1;33m)\u001b[0m\u001b[1;33m\u001b[0m\u001b[0m\n\u001b[0;32m      2\u001b[0m \u001b[1;32mprint\u001b[0m \u001b[0mvar\u001b[0m\u001b[1;33m\u001b[0m\u001b[0m\n\u001b[1;32m----> 3\u001b[1;33m \u001b[0mvar\u001b[0m\u001b[1;33m[\u001b[0m\u001b[1;36m1\u001b[0m\u001b[1;33m]\u001b[0m \u001b[1;33m=\u001b[0m \u001b[1;36m101\u001b[0m\u001b[1;33m\u001b[0m\u001b[0m\n\u001b[0m\u001b[0;32m      4\u001b[0m \u001b[1;32mprint\u001b[0m \u001b[0mvar\u001b[0m\u001b[1;33m\u001b[0m\u001b[0m\n",
      "\u001b[1;31mTypeError\u001b[0m: 'tuple' object does not support item assignment"
     ]
    }
   ],
   "source": [
    "# Tuple is Immutable datatyoe --> We can't modify existing data\n",
    "var = (12,989,23)\n",
    "print var\n",
    "var[1] = 101\n",
    "print var"
   ]
  },
  {
   "cell_type": "code",
   "execution_count": 9,
   "metadata": {},
   "outputs": [
    {
     "name": "stdout",
     "output_type": "stream",
     "text": [
      "10\n"
     ]
    }
   ],
   "source": [
    "var = (2,1.23 ,3+4j ,True ,None ,\"soc\",[1,2],(1,2,3),{1,2},{12:34})\n",
    "print len(var) # 10"
   ]
  },
  {
   "cell_type": "code",
   "execution_count": 10,
   "metadata": {},
   "outputs": [
    {
     "name": "stdout",
     "output_type": "stream",
     "text": [
      "125.9\n",
      "90\n",
      "12\n"
     ]
    }
   ],
   "source": [
    "var = (12,90,23.90)\n",
    "print sum(var)\n",
    "print max(var)\n",
    "print min(var)"
   ]
  },
  {
   "cell_type": "code",
   "execution_count": 11,
   "metadata": {},
   "outputs": [
    {
     "name": "stdout",
     "output_type": "stream",
     "text": [
      "(12, 78, 23, 34, 67, 22)\n",
      "(12, 78, 23, 34, 67, 22)\n"
     ]
    }
   ],
   "source": [
    "# special methods  __methodname__  \n",
    "a = (12,78,23)\n",
    "b = (34,67,22)\n",
    "print a + b\n",
    "print a.__add__(b)"
   ]
  },
  {
   "cell_type": "code",
   "execution_count": 12,
   "metadata": {},
   "outputs": [
    {
     "name": "stdout",
     "output_type": "stream",
     "text": [
      "(12, 67, 33, 12, 67, 33, 12, 67, 33, 12, 67, 33, 12, 67, 33)\n",
      "(12, 67, 33, 12, 67, 33, 12, 67, 33, 12, 67, 33, 12, 67, 33)\n"
     ]
    }
   ],
   "source": [
    "a  = (12,67,33)\n",
    "print a * 5\n",
    "print a.__mul__(5)"
   ]
  },
  {
   "cell_type": "code",
   "execution_count": 13,
   "metadata": {},
   "outputs": [
    {
     "name": "stdout",
     "output_type": "stream",
     "text": [
      "True\n",
      "True\n"
     ]
    }
   ],
   "source": [
    "a = (12,78,23)\n",
    "b = (34,67,22)\n",
    "print a < b #  a.__lt__(b)\n",
    "print a.__lt__(b)"
   ]
  },
  {
   "cell_type": "code",
   "execution_count": 14,
   "metadata": {},
   "outputs": [
    {
     "name": "stdout",
     "output_type": "stream",
     "text": [
      "True\n",
      "False\n",
      "False\n",
      "True\n",
      "True\n",
      "False\n"
     ]
    }
   ],
   "source": [
    "a = (12,78,23)\n",
    "b = (34,67,22)\n",
    "#print a < b #  a.__lt__(b)\n",
    "print a.__lt__(b)\n",
    "print a.__gt__(b) # a > b\n",
    "print a.__eq__(b)# a == b\n",
    "print a.__ne__(b)# a != b\n",
    "print a.__le__(b) # a<= b\n",
    "print a.__ge__(b) # a>=b"
   ]
  },
  {
   "cell_type": "code",
   "execution_count": 15,
   "metadata": {},
   "outputs": [
    {
     "name": "stdout",
     "output_type": "stream",
     "text": [
      "3\n",
      "1\n",
      "0\n"
     ]
    }
   ],
   "source": [
    "# count\n",
    "a = (12,90,12,89,12)\n",
    "print a.count(12) # 3\n",
    "print a.count(89) # 1\n",
    "print a.count(678) # 0\n"
   ]
  },
  {
   "cell_type": "code",
   "execution_count": 16,
   "metadata": {},
   "outputs": [
    {
     "name": "stdout",
     "output_type": "stream",
     "text": [
      "0\n",
      "3\n"
     ]
    },
    {
     "ename": "ValueError",
     "evalue": "tuple.index(x): x not in tuple",
     "output_type": "error",
     "traceback": [
      "\u001b[1;31m---------------------------------------------------------------------------\u001b[0m",
      "\u001b[1;31mValueError\u001b[0m                                Traceback (most recent call last)",
      "\u001b[1;32m<ipython-input-16-2c978286c1ef>\u001b[0m in \u001b[0;36m<module>\u001b[1;34m()\u001b[0m\n\u001b[0;32m      3\u001b[0m \u001b[1;32mprint\u001b[0m \u001b[0ma\u001b[0m\u001b[1;33m.\u001b[0m\u001b[0mindex\u001b[0m\u001b[1;33m(\u001b[0m\u001b[1;36m12\u001b[0m\u001b[1;33m)\u001b[0m \u001b[1;31m# 0\u001b[0m\u001b[1;33m\u001b[0m\u001b[0m\n\u001b[0;32m      4\u001b[0m \u001b[1;32mprint\u001b[0m \u001b[0ma\u001b[0m\u001b[1;33m.\u001b[0m\u001b[0mindex\u001b[0m\u001b[1;33m(\u001b[0m\u001b[1;36m89\u001b[0m\u001b[1;33m)\u001b[0m \u001b[1;31m# 3\u001b[0m\u001b[1;33m\u001b[0m\u001b[0m\n\u001b[1;32m----> 5\u001b[1;33m \u001b[1;32mprint\u001b[0m \u001b[0ma\u001b[0m\u001b[1;33m.\u001b[0m\u001b[0mindex\u001b[0m\u001b[1;33m(\u001b[0m\u001b[1;36m678\u001b[0m\u001b[1;33m)\u001b[0m \u001b[1;31m# Error\u001b[0m\u001b[1;33m\u001b[0m\u001b[0m\n\u001b[0m",
      "\u001b[1;31mValueError\u001b[0m: tuple.index(x): x not in tuple"
     ]
    }
   ],
   "source": [
    "# index \n",
    "a = (12,90,12,89,12)\n",
    "print a.index(12) # 0\n",
    "print a.index(89) # 3\n",
    "print a.index(678) # Error\n"
   ]
  },
  {
   "cell_type": "code",
   "execution_count": null,
   "metadata": {},
   "outputs": [],
   "source": []
  }
 ],
 "metadata": {
  "kernelspec": {
   "display_name": "Python 2",
   "language": "python",
   "name": "python2"
  },
  "language_info": {
   "codemirror_mode": {
    "name": "ipython",
    "version": 2
   },
   "file_extension": ".py",
   "mimetype": "text/x-python",
   "name": "python",
   "nbconvert_exporter": "python",
   "pygments_lexer": "ipython2",
   "version": "2.7.16"
  }
 },
 "nbformat": 4,
 "nbformat_minor": 2
}
