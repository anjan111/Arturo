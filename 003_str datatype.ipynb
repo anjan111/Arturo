{
 "cells": [
  {
   "cell_type": "code",
   "execution_count": 1,
   "metadata": {},
   "outputs": [
    {
     "name": "stdout",
     "output_type": "stream",
     "text": [
      "<type 'str'>\n",
      "<type 'str'>\n",
      "<type 'str'>\n",
      "<type 'str'>\n"
     ]
    }
   ],
   "source": [
    "# str --->> collection of characters \n",
    "# 4 ways representation\n",
    "var = 'single quotes'\n",
    "print type(var)\n",
    "var = \"doble quotes\"\n",
    "print type(var)\n",
    "var ='''single quotes 3 times'''\n",
    "print type(var)\n",
    "var = \"\"\"dobles quotes 3 times\"\"\"\n",
    "print type(var)"
   ]
  },
  {
   "cell_type": "code",
   "execution_count": 2,
   "metadata": {},
   "outputs": [
    {
     "ename": "SyntaxError",
     "evalue": "invalid syntax (<ipython-input-2-2cec44a7b52a>, line 2)",
     "output_type": "error",
     "traceback": [
      "\u001b[1;36m  File \u001b[1;32m\"<ipython-input-2-2cec44a7b52a>\"\u001b[1;36m, line \u001b[1;32m2\u001b[0m\n\u001b[1;33m    var = 'i don't want it'\u001b[0m\n\u001b[1;37m                 ^\u001b[0m\n\u001b[1;31mSyntaxError\u001b[0m\u001b[1;31m:\u001b[0m invalid syntax\n"
     ]
    }
   ],
   "source": [
    "# i don't want it\n",
    "var = 'i don't want it' # single & double quote storing group of character with in single line "
   ]
  },
  {
   "cell_type": "code",
   "execution_count": 3,
   "metadata": {},
   "outputs": [
    {
     "name": "stdout",
     "output_type": "stream",
     "text": [
      "i don't want it\n",
      "<type 'str'>\n"
     ]
    }
   ],
   "source": [
    "# i don't want it\n",
    "var = \"i don't want it\" # single & double quote storing group of character with in single line \n",
    "print var\n",
    "print type(var)"
   ]
  },
  {
   "cell_type": "code",
   "execution_count": 4,
   "metadata": {},
   "outputs": [
    {
     "ename": "SyntaxError",
     "evalue": "EOL while scanning string literal (<ipython-input-4-a674d87988ce>, line 2)",
     "output_type": "error",
     "traceback": [
      "\u001b[1;36m  File \u001b[1;32m\"<ipython-input-4-a674d87988ce>\"\u001b[1;36m, line \u001b[1;32m2\u001b[0m\n\u001b[1;33m    var = \"i am\u001b[0m\n\u001b[1;37m               ^\u001b[0m\n\u001b[1;31mSyntaxError\u001b[0m\u001b[1;31m:\u001b[0m EOL while scanning string literal\n"
     ]
    }
   ],
   "source": [
    "# store multiple lines as a documents\n",
    "var = \"i am \n",
    "from hyderabad\""
   ]
  },
  {
   "cell_type": "code",
   "execution_count": 5,
   "metadata": {},
   "outputs": [
    {
     "name": "stdout",
     "output_type": "stream",
     "text": [
      " i am \n",
      "from hyderabad\n",
      "<type 'str'>\n"
     ]
    }
   ],
   "source": [
    "var = ''' i am \n",
    "from hyderabad'''\n",
    "print var\n",
    "print type(var)"
   ]
  },
  {
   "cell_type": "code",
   "execution_count": 7,
   "metadata": {
    "scrolled": true
   },
   "outputs": [
    {
     "name": "stdout",
     "output_type": "stream",
     "text": [
      "a\n",
      "a\n",
      "*****\n",
      "z\n",
      "z\n",
      "******\n",
      "y\n",
      "y\n",
      "*****\n",
      "r\n",
      "r\n",
      "*****\n",
      "o\n",
      "o\n"
     ]
    }
   ],
   "source": [
    "# Access the characters from str\n",
    "'''\n",
    "1. indexing \n",
    "2. slicing \n",
    "3. dicing \n",
    "'''\n",
    "# Index ---> Integer\n",
    "a =\"azyro\"\n",
    "print a[0]\n",
    "print a[-5]\n",
    "print \"*****\"\n",
    "print a[1]\n",
    "print a[-4]\n",
    "print \"******\"\n",
    "print a[2]\n",
    "print a[-3]\n",
    "print \"*****\"\n",
    "print a[3]\n",
    "print a[-2]\n",
    "print \"*****\"\n",
    "print a[4]\n",
    "print a[-1]"
   ]
  },
  {
   "cell_type": "code",
   "execution_count": 13,
   "metadata": {},
   "outputs": [
    {
     "name": "stdout",
     "output_type": "stream",
     "text": [
      "am An\n",
      " Anjan\n",
      "I am Anjan\n",
      "I am Anjan\n",
      " Anjan Kumar\n",
      " Anjan Kumar\n"
     ]
    }
   ],
   "source": [
    "# str slicing ==>>  var[start  : stop]\n",
    "'''\n",
    "==>> We can access group of characters\n",
    "from start index to till (stop - 1) index \n",
    "'''\n",
    "var =\"I am Anjan Kumar\"\n",
    "print var[2 : 7]# 2 3 4 5 6\n",
    "print var[4 :10]#4 5 6 7 8 9\n",
    "print var[:10] # start ---> 0\n",
    "print var[0:10]#\n",
    "print var[4:] # stop ---> len\n",
    "print var[4:16]"
   ]
  },
  {
   "cell_type": "code",
   "execution_count": 14,
   "metadata": {},
   "outputs": [
    {
     "name": "stdout",
     "output_type": "stream",
     "text": [
      "nja\n",
      "anj\n"
     ]
    }
   ],
   "source": [
    "var = \"anjan\"\n",
    "print var[-4 : -1]#-4 -3 -2 \n",
    "# start --> -4\n",
    "# stop  --> -1\n",
    "print var[-5 : -2]#-5 -4 -3 "
   ]
  },
  {
   "cell_type": "code",
   "execution_count": 16,
   "metadata": {},
   "outputs": [
    {
     "name": "stdout",
     "output_type": "stream",
     "text": [
      "oPgmnLg\n",
      "on Programming Langau\n",
      "on Programming Langau\n"
     ]
    }
   ],
   "source": [
    "# dicing ==> var[ start  : stop : step]\n",
    "'''\n",
    "==>> We access the group of characters\n",
    "\n",
    "from start  to  stop -1 with  step wise elements\n",
    "'''\n",
    "var = \"python Programming Langauge\" \n",
    "print var[4 : 25 : 3] #4  7   10  13   16   19   22  \n",
    "print var[4:25:] # step --> 1\n",
    "print var[4:25:1]"
   ]
  },
  {
   "cell_type": "code",
   "execution_count": 1,
   "metadata": {},
   "outputs": [
    {
     "name": "stdout",
     "output_type": "stream",
     "text": [
      "python\n"
     ]
    },
    {
     "ename": "TypeError",
     "evalue": "'str' object does not support item assignment",
     "output_type": "error",
     "traceback": [
      "\u001b[1;31m---------------------------------------------------------------------------\u001b[0m",
      "\u001b[1;31mTypeError\u001b[0m                                 Traceback (most recent call last)",
      "\u001b[1;32m<ipython-input-1-0ced77092db8>\u001b[0m in \u001b[0;36m<module>\u001b[1;34m()\u001b[0m\n\u001b[0;32m      2\u001b[0m \u001b[0mvar\u001b[0m \u001b[1;33m=\u001b[0m \u001b[1;34m\"python\"\u001b[0m\u001b[1;33m\u001b[0m\u001b[0m\n\u001b[0;32m      3\u001b[0m \u001b[1;32mprint\u001b[0m \u001b[0mvar\u001b[0m\u001b[1;33m\u001b[0m\u001b[0m\n\u001b[1;32m----> 4\u001b[1;33m \u001b[0mvar\u001b[0m\u001b[1;33m[\u001b[0m\u001b[1;36m0\u001b[0m\u001b[1;33m]\u001b[0m \u001b[1;33m=\u001b[0m\u001b[1;34m'Y'\u001b[0m\u001b[1;33m\u001b[0m\u001b[0m\n\u001b[0m\u001b[0;32m      5\u001b[0m \u001b[1;32mprint\u001b[0m \u001b[0mvar\u001b[0m\u001b[1;33m\u001b[0m\u001b[0m\n",
      "\u001b[1;31mTypeError\u001b[0m: 'str' object does not support item assignment"
     ]
    }
   ],
   "source": [
    "# str --->> Immutable datatype\n",
    "var = \"python\"\n",
    "print var\n",
    "var[0] ='Y'\n",
    "print var\n"
   ]
  },
  {
   "cell_type": "code",
   "execution_count": 2,
   "metadata": {},
   "outputs": [
    {
     "name": "stdout",
     "output_type": "stream",
     "text": [
      "17\n",
      "y\n",
      "P\n"
     ]
    }
   ],
   "source": [
    "# len() --->> To know the no of characters \n",
    "# min() --->> To return the smallest character from str\n",
    "# max() --->> To return the biggest character  from str\n",
    "var = \"PythonProgramming\"\n",
    "print len(var) # no of characters\n",
    "print max(var) # y\n",
    "print min(var) # P"
   ]
  },
  {
   "cell_type": "code",
   "execution_count": 3,
   "metadata": {},
   "outputs": [
    {
     "name": "stdout",
     "output_type": "stream",
     "text": [
      "97\n",
      "98\n",
      "99\n",
      "120\n",
      "121\n",
      "120\n"
     ]
    }
   ],
   "source": [
    "# ord()---> char --> ascii integer\n",
    "print ord('a') # 97\n",
    "print ord('b') # 98\n",
    "print ord('c') # 99\n",
    "print ord('x') #  120\n",
    "print ord('y') # 121\n",
    "print ord('z') # 122"
   ]
  },
  {
   "cell_type": "code",
   "execution_count": 4,
   "metadata": {},
   "outputs": [
    {
     "name": "stdout",
     "output_type": "stream",
     "text": [
      "65\n",
      "66\n",
      "67\n",
      "80\n",
      "89\n",
      "90\n"
     ]
    }
   ],
   "source": [
    "print ord('A')\n",
    "print ord('B')\n",
    "print ord('C')\n",
    "print ord('P')\n",
    "print ord('Y')\n",
    "print ord(\"Z\")"
   ]
  },
  {
   "cell_type": "code",
   "execution_count": 5,
   "metadata": {},
   "outputs": [
    {
     "name": "stdout",
     "output_type": "stream",
     "text": [
      "Z\n",
      "d\n",
      "z\n"
     ]
    }
   ],
   "source": [
    "# chr() --->> to return the character for ascii\n",
    "print chr(90)\n",
    "print chr(100)\n",
    "print chr(122)"
   ]
  },
  {
   "cell_type": "code",
   "execution_count": 6,
   "metadata": {},
   "outputs": [
    {
     "name": "stdout",
     "output_type": "stream",
     "text": [
      "['__add__', '__class__', '__contains__', '__delattr__', '__doc__', '__eq__', '__format__', '__ge__', '__getattribute__', '__getitem__', '__getnewargs__', '__getslice__', '__gt__', '__hash__', '__init__', '__le__', '__len__', '__lt__', '__mod__', '__mul__', '__ne__', '__new__', '__reduce__', '__reduce_ex__', '__repr__', '__rmod__', '__rmul__', '__setattr__', '__sizeof__', '__str__', '__subclasshook__', '_formatter_field_name_split', '_formatter_parser', 'capitalize', 'center', 'count', 'decode', 'encode', 'endswith', 'expandtabs', 'find', 'format', 'index', 'isalnum', 'isalpha', 'isdigit', 'islower', 'isspace', 'istitle', 'isupper', 'join', 'ljust', 'lower', 'lstrip', 'partition', 'replace', 'rfind', 'rindex', 'rjust', 'rpartition', 'rsplit', 'rstrip', 'split', 'splitlines', 'startswith', 'strip', 'swapcase', 'title', 'translate', 'upper', 'zfill']\n"
     ]
    }
   ],
   "source": [
    "print dir(str)"
   ]
  },
  {
   "cell_type": "code",
   "execution_count": 7,
   "metadata": {},
   "outputs": [
    {
     "name": "stdout",
     "output_type": "stream",
     "text": [
      "python program\n",
      "python program\n"
     ]
    }
   ],
   "source": [
    "a = \"python \"\n",
    "b = \"program\"\n",
    "print a + b\n",
    "print a.__add__(b)"
   ]
  },
  {
   "cell_type": "code",
   "execution_count": 8,
   "metadata": {},
   "outputs": [
    {
     "name": "stdout",
     "output_type": "stream",
     "text": [
      "Help on wrapper_descriptor:\n",
      "\n",
      "__add__(...)\n",
      "    x.__add__(y) <==> x+y\n",
      "\n"
     ]
    }
   ],
   "source": [
    "help(str.__add__)"
   ]
  },
  {
   "cell_type": "code",
   "execution_count": 9,
   "metadata": {},
   "outputs": [
    {
     "name": "stdout",
     "output_type": "stream",
     "text": [
      "True\n",
      "True\n"
     ]
    }
   ],
   "source": [
    "a = \"python\"\n",
    "b = \"th\"\n",
    "print b in a # True\n",
    "print a.__contains__(b) # True"
   ]
  },
  {
   "cell_type": "code",
   "execution_count": 10,
   "metadata": {},
   "outputs": [
    {
     "name": "stdout",
     "output_type": "stream",
     "text": [
      "h\n",
      "h\n"
     ]
    }
   ],
   "source": [
    "a = \"python\"\n",
    "print a[3]\n",
    "print a.__getitem__(3)"
   ]
  },
  {
   "cell_type": "code",
   "execution_count": 11,
   "metadata": {},
   "outputs": [
    {
     "name": "stdout",
     "output_type": "stream",
     "text": [
      "39\n"
     ]
    }
   ],
   "source": [
    "a = \"python\"\n",
    "print a.__sizeof__()"
   ]
  },
  {
   "cell_type": "code",
   "execution_count": 12,
   "metadata": {},
   "outputs": [
    {
     "name": "stdout",
     "output_type": "stream",
     "text": [
      "pythonpythonpythonpython\n",
      "pythonpythonpythonpython\n"
     ]
    }
   ],
   "source": [
    "a = \"python\"\n",
    "print a * 4\n",
    "print a.__mul__(4)"
   ]
  },
  {
   "cell_type": "code",
   "execution_count": 13,
   "metadata": {},
   "outputs": [
    {
     "name": "stdout",
     "output_type": "stream",
     "text": [
      "6\n",
      "6\n"
     ]
    }
   ],
   "source": [
    "a = \"python\"\n",
    "print  len(a)\n",
    "print a.__len__()"
   ]
  },
  {
   "cell_type": "code",
   "execution_count": 14,
   "metadata": {},
   "outputs": [
    {
     "name": "stdout",
     "output_type": "stream",
     "text": [
      "['__add__', '__class__', '__contains__', '__delattr__', '__doc__', '__eq__', '__format__', '__ge__', '__getattribute__', '__getitem__', '__getnewargs__', '__getslice__', '__gt__', '__hash__', '__init__', '__le__', '__len__', '__lt__', '__mod__', '__mul__', '__ne__', '__new__', '__reduce__', '__reduce_ex__', '__repr__', '__rmod__', '__rmul__', '__setattr__', '__sizeof__', '__str__', '__subclasshook__', '_formatter_field_name_split', '_formatter_parser', 'capitalize', 'center', 'count', 'decode', 'encode', 'endswith', 'expandtabs', 'find', 'format', 'index', 'isalnum', 'isalpha', 'isdigit', 'islower', 'isspace', 'istitle', 'isupper', 'join', 'ljust', 'lower', 'lstrip', 'partition', 'replace', 'rfind', 'rindex', 'rjust', 'rpartition', 'rsplit', 'rstrip', 'split', 'splitlines', 'startswith', 'strip', 'swapcase', 'title', 'translate', 'upper', 'zfill']\n"
     ]
    }
   ],
   "source": [
    "print dir(str)"
   ]
  },
  {
   "cell_type": "code",
   "execution_count": 15,
   "metadata": {},
   "outputs": [
    {
     "name": "stdout",
     "output_type": "stream",
     "text": [
      "True\n",
      "True\n",
      "True\n",
      "True\n",
      "True\n",
      "True\n",
      "False\n",
      "False\n",
      "False\n",
      "False\n",
      "False\n",
      "False\n"
     ]
    }
   ],
   "source": [
    "a = \"soc\"\n",
    "b =\"soc\"\n",
    "print a == b\n",
    "print a.__eq__(b)\n",
    "print a <= b\n",
    "print a.__le__(b)\n",
    "print a >= b\n",
    "print a.__ge__(b)\n",
    "print a < b\n",
    "print a.__lt__(b)\n",
    "print a > b\n",
    "print a.__gt__(b)\n",
    "print a != b\n",
    "print a.__ne__(b)"
   ]
  },
  {
   "cell_type": "code",
   "execution_count": 1,
   "metadata": {},
   "outputs": [
    {
     "name": "stdout",
     "output_type": "stream",
     "text": [
      "['__add__', '__class__', '__contains__', '__delattr__', '__doc__', '__eq__', '__format__', '__ge__', '__getattribute__', '__getitem__', '__getnewargs__', '__getslice__', '__gt__', '__hash__', '__init__', '__le__', '__len__', '__lt__', '__mod__', '__mul__', '__ne__', '__new__', '__reduce__', '__reduce_ex__', '__repr__', '__rmod__', '__rmul__', '__setattr__', '__sizeof__', '__str__', '__subclasshook__', '_formatter_field_name_split', '_formatter_parser', 'capitalize', 'center', 'count', 'decode', 'encode', 'endswith', 'expandtabs', 'find', 'format', 'index', 'isalnum', 'isalpha', 'isdigit', 'islower', 'isspace', 'istitle', 'isupper', 'join', 'ljust', 'lower', 'lstrip', 'partition', 'replace', 'rfind', 'rindex', 'rjust', 'rpartition', 'rsplit', 'rstrip', 'split', 'splitlines', 'startswith', 'strip', 'swapcase', 'title', 'translate', 'upper', 'zfill']\n"
     ]
    }
   ],
   "source": [
    "# str manipulation \n",
    "'''\n",
    "==>> TO manipulate the str data\n",
    "'''\n",
    "print dir(str)"
   ]
  },
  {
   "cell_type": "code",
   "execution_count": 2,
   "metadata": {},
   "outputs": [
    {
     "name": "stdout",
     "output_type": "stream",
     "text": [
      "Fghhghj hjhhjkhj hjhsghjg\n"
     ]
    }
   ],
   "source": [
    "a = \"FGHhghj HJHhjkhj hjhsGHJG\"\n",
    "print a.capitalize()"
   ]
  },
  {
   "cell_type": "code",
   "execution_count": 3,
   "metadata": {},
   "outputs": [
    {
     "name": "stdout",
     "output_type": "stream",
     "text": [
      "Fghhghj Hjhhjkhj Hjhsghjg\n"
     ]
    }
   ],
   "source": [
    "a = \"FGHhghj HJHhjkhj hjhsGHJG\"\n",
    "print a.title()"
   ]
  },
  {
   "cell_type": "code",
   "execution_count": 4,
   "metadata": {},
   "outputs": [
    {
     "name": "stdout",
     "output_type": "stream",
     "text": [
      "FGHHGHJ HJHHJKHJ HJHSGHJG\n"
     ]
    }
   ],
   "source": [
    "a = \"FGHhghj HJHhjkhj hjhsGHJG\"\n",
    "print a.upper()"
   ]
  },
  {
   "cell_type": "code",
   "execution_count": 5,
   "metadata": {},
   "outputs": [
    {
     "name": "stdout",
     "output_type": "stream",
     "text": [
      "fghhghj hjhhjkhj hjhsghjg\n"
     ]
    }
   ],
   "source": [
    "a = \"FGHhghj HJHhjkhj hjhsGHJG\"\n",
    "print a.lower()"
   ]
  },
  {
   "cell_type": "code",
   "execution_count": 6,
   "metadata": {},
   "outputs": [
    {
     "name": "stdout",
     "output_type": "stream",
     "text": [
      "fghHGHJ hjhHJKHJ HJHSghjg\n"
     ]
    }
   ],
   "source": [
    "a = \"FGHhghj HJHhjkhj hjhsGHJG\"\n",
    "print a.swapcase()"
   ]
  },
  {
   "cell_type": "code",
   "execution_count": 8,
   "metadata": {},
   "outputs": [
    {
     "name": "stdout",
     "output_type": "stream",
     "text": [
      "00python00\n",
      "python\n",
      "xxpythonxx\n"
     ]
    }
   ],
   "source": [
    "a = \"python\"\n",
    "print a.center(10,'0')\n",
    "print a.center(5,'0')\n",
    "print a.center(10,'x')"
   ]
  },
  {
   "cell_type": "code",
   "execution_count": 9,
   "metadata": {},
   "outputs": [
    {
     "name": "stdout",
     "output_type": "stream",
     "text": [
      "0000python\n",
      "python\n"
     ]
    }
   ],
   "source": [
    "a = \"python\"\n",
    "print a.zfill(10)\n",
    "print a.zfill(5)"
   ]
  },
  {
   "cell_type": "code",
   "execution_count": 10,
   "metadata": {},
   "outputs": [
    {
     "name": "stdout",
     "output_type": "stream",
     "text": [
      "2\n",
      "2\n",
      "2\n",
      "0\n"
     ]
    }
   ],
   "source": [
    "a = \"python programming trainer\"\n",
    "print a.count('p')\n",
    "print a.count('t')\n",
    "print a.count(' ')\n",
    "print a.count('z')"
   ]
  },
  {
   "cell_type": "code",
   "execution_count": 11,
   "metadata": {},
   "outputs": [
    {
     "name": "stdout",
     "output_type": "stream",
     "text": [
      "5\n",
      "0\n",
      "-1\n"
     ]
    }
   ],
   "source": [
    "a=\"python\"\n",
    "print a.find('n')# 5\n",
    "print a.find('p')# 0\n",
    "print a.find('z')# -1"
   ]
  },
  {
   "cell_type": "code",
   "execution_count": 12,
   "metadata": {},
   "outputs": [
    {
     "name": "stdout",
     "output_type": "stream",
     "text": [
      "5\n",
      "0\n"
     ]
    },
    {
     "ename": "ValueError",
     "evalue": "substring not found",
     "output_type": "error",
     "traceback": [
      "\u001b[1;31m---------------------------------------------------------------------------\u001b[0m",
      "\u001b[1;31mValueError\u001b[0m                                Traceback (most recent call last)",
      "\u001b[1;32m<ipython-input-12-a253e2146892>\u001b[0m in \u001b[0;36m<module>\u001b[1;34m()\u001b[0m\n\u001b[0;32m      2\u001b[0m \u001b[1;32mprint\u001b[0m \u001b[0ma\u001b[0m\u001b[1;33m.\u001b[0m\u001b[0mindex\u001b[0m\u001b[1;33m(\u001b[0m\u001b[1;34m'n'\u001b[0m\u001b[1;33m)\u001b[0m\u001b[1;31m# 5\u001b[0m\u001b[1;33m\u001b[0m\u001b[0m\n\u001b[0;32m      3\u001b[0m \u001b[1;32mprint\u001b[0m \u001b[0ma\u001b[0m\u001b[1;33m.\u001b[0m\u001b[0mindex\u001b[0m\u001b[1;33m(\u001b[0m\u001b[1;34m'p'\u001b[0m\u001b[1;33m)\u001b[0m\u001b[1;31m# 0\u001b[0m\u001b[1;33m\u001b[0m\u001b[0m\n\u001b[1;32m----> 4\u001b[1;33m \u001b[1;32mprint\u001b[0m \u001b[0ma\u001b[0m\u001b[1;33m.\u001b[0m\u001b[0mindex\u001b[0m\u001b[1;33m(\u001b[0m\u001b[1;34m'z'\u001b[0m\u001b[1;33m)\u001b[0m\u001b[1;31m# error\u001b[0m\u001b[1;33m\u001b[0m\u001b[0m\n\u001b[0m",
      "\u001b[1;31mValueError\u001b[0m: substring not found"
     ]
    }
   ],
   "source": [
    "a=\"python\"\n",
    "print a.index('n')# 5\n",
    "print a.index('p')# 0\n",
    "print a.index('z')# error"
   ]
  },
  {
   "cell_type": "code",
   "execution_count": 14,
   "metadata": {},
   "outputs": [
    {
     "name": "stdout",
     "output_type": "stream",
     "text": [
      "C programming language\n"
     ]
    }
   ],
   "source": [
    "a = \"python programming language\"\n",
    "print a.replace(\"python\",\"C\")"
   ]
  },
  {
   "cell_type": "code",
   "execution_count": 16,
   "metadata": {},
   "outputs": [
    {
     "name": "stdout",
     "output_type": "stream",
     "text": [
      "['python', 'programming', 'language']\n",
      "python programming language\n"
     ]
    }
   ],
   "source": [
    "a = \"python programming language\"\n",
    "print a.split()\n",
    "b = ['python', 'programming', 'language']\n",
    "print \" \".join(b)"
   ]
  },
  {
   "cell_type": "code",
   "execution_count": 17,
   "metadata": {},
   "outputs": [
    {
     "name": "stdout",
     "output_type": "stream",
     "text": [
      "True\n",
      "False\n"
     ]
    }
   ],
   "source": [
    "# isalpha  --->> True  ( all character either upper or lower)\n",
    "a = \"PyhtinJHG\"\n",
    "print a.isalpha()\n",
    "a = \"TYghg HJ\"\n",
    "print a.isalpha()"
   ]
  },
  {
   "cell_type": "code",
   "execution_count": 18,
   "metadata": {},
   "outputs": [
    {
     "name": "stdout",
     "output_type": "stream",
     "text": [
      "True\n",
      "False\n"
     ]
    }
   ],
   "source": [
    "#isdigit ---> True ( all characters digits)\n",
    "a = \"43456786\"\n",
    "print a.isdigit()\n",
    "a = \"4345 6786\"\n",
    "print a.isdigit()\n"
   ]
  },
  {
   "cell_type": "code",
   "execution_count": 19,
   "metadata": {},
   "outputs": [
    {
     "name": "stdout",
     "output_type": "stream",
     "text": [
      "True\n",
      "True\n",
      "True\n",
      "False\n"
     ]
    }
   ],
   "source": [
    "# isalnum  --> True ( Either alphabet or digits)\n",
    "a = \"IIUYoii\"\n",
    "print a.isalnum()\n",
    "a = \"555646\"\n",
    "print a.isalnum()\n",
    "a = \"555igjfdi646\"\n",
    "print a.isalnum()\n",
    "a = \"555  646\"\n",
    "print a.isalnum()"
   ]
  },
  {
   "cell_type": "code",
   "execution_count": 20,
   "metadata": {},
   "outputs": [
    {
     "name": "stdout",
     "output_type": "stream",
     "text": [
      "True\n",
      "True\n",
      "True\n"
     ]
    }
   ],
   "source": [
    "a = \"eiouiyoty\"\n",
    "print a.islower()\n",
    "a = \"FGHJHGFFGH\"\n",
    "print a.isupper()\n",
    "a = \"Yjhfjf Gfjgjf Ykdjfk\"\n",
    "print a.istitle()"
   ]
  },
  {
   "cell_type": "code",
   "execution_count": null,
   "metadata": {},
   "outputs": [],
   "source": []
  }
 ],
 "metadata": {
  "kernelspec": {
   "display_name": "Python 2",
   "language": "python",
   "name": "python2"
  },
  "language_info": {
   "codemirror_mode": {
    "name": "ipython",
    "version": 2
   },
   "file_extension": ".py",
   "mimetype": "text/x-python",
   "name": "python",
   "nbconvert_exporter": "python",
   "pygments_lexer": "ipython2",
   "version": "2.7.16"
  }
 },
 "nbformat": 4,
 "nbformat_minor": 2
}
