{
 "cells": [
  {
   "cell_type": "code",
   "execution_count": 1,
   "metadata": {},
   "outputs": [
    {
     "name": "stdout",
     "output_type": "stream",
     "text": [
      "<type 'str'>\n",
      "<type 'str'>\n",
      "<type 'str'>\n",
      "<type 'str'>\n"
     ]
    }
   ],
   "source": [
    "# str --->> collection of characters \n",
    "# 4 ways representation\n",
    "var = 'single quotes'\n",
    "print type(var)\n",
    "var = \"doble quotes\"\n",
    "print type(var)\n",
    "var ='''single quotes 3 times'''\n",
    "print type(var)\n",
    "var = \"\"\"dobles quotes 3 times\"\"\"\n",
    "print type(var)"
   ]
  },
  {
   "cell_type": "code",
   "execution_count": 2,
   "metadata": {},
   "outputs": [
    {
     "ename": "SyntaxError",
     "evalue": "invalid syntax (<ipython-input-2-2cec44a7b52a>, line 2)",
     "output_type": "error",
     "traceback": [
      "\u001b[1;36m  File \u001b[1;32m\"<ipython-input-2-2cec44a7b52a>\"\u001b[1;36m, line \u001b[1;32m2\u001b[0m\n\u001b[1;33m    var = 'i don't want it'\u001b[0m\n\u001b[1;37m                 ^\u001b[0m\n\u001b[1;31mSyntaxError\u001b[0m\u001b[1;31m:\u001b[0m invalid syntax\n"
     ]
    }
   ],
   "source": [
    "# i don't want it\n",
    "var = 'i don't want it' # single & double quote storing group of character with in single line "
   ]
  },
  {
   "cell_type": "code",
   "execution_count": 3,
   "metadata": {},
   "outputs": [
    {
     "name": "stdout",
     "output_type": "stream",
     "text": [
      "i don't want it\n",
      "<type 'str'>\n"
     ]
    }
   ],
   "source": [
    "# i don't want it\n",
    "var = \"i don't want it\" # single & double quote storing group of character with in single line \n",
    "print var\n",
    "print type(var)"
   ]
  },
  {
   "cell_type": "code",
   "execution_count": 4,
   "metadata": {},
   "outputs": [
    {
     "ename": "SyntaxError",
     "evalue": "EOL while scanning string literal (<ipython-input-4-a674d87988ce>, line 2)",
     "output_type": "error",
     "traceback": [
      "\u001b[1;36m  File \u001b[1;32m\"<ipython-input-4-a674d87988ce>\"\u001b[1;36m, line \u001b[1;32m2\u001b[0m\n\u001b[1;33m    var = \"i am\u001b[0m\n\u001b[1;37m               ^\u001b[0m\n\u001b[1;31mSyntaxError\u001b[0m\u001b[1;31m:\u001b[0m EOL while scanning string literal\n"
     ]
    }
   ],
   "source": [
    "# store multiple lines as a documents\n",
    "var = \"i am \n",
    "from hyderabad\""
   ]
  },
  {
   "cell_type": "code",
   "execution_count": 5,
   "metadata": {},
   "outputs": [
    {
     "name": "stdout",
     "output_type": "stream",
     "text": [
      " i am \n",
      "from hyderabad\n",
      "<type 'str'>\n"
     ]
    }
   ],
   "source": [
    "var = ''' i am \n",
    "from hyderabad'''\n",
    "print var\n",
    "print type(var)"
   ]
  },
  {
   "cell_type": "code",
   "execution_count": 7,
   "metadata": {
    "scrolled": true
   },
   "outputs": [
    {
     "name": "stdout",
     "output_type": "stream",
     "text": [
      "a\n",
      "a\n",
      "*****\n",
      "z\n",
      "z\n",
      "******\n",
      "y\n",
      "y\n",
      "*****\n",
      "r\n",
      "r\n",
      "*****\n",
      "o\n",
      "o\n"
     ]
    }
   ],
   "source": [
    "# Access the characters from str\n",
    "'''\n",
    "1. indexing \n",
    "2. slicing \n",
    "3. dicing \n",
    "'''\n",
    "# Index ---> Integer\n",
    "a =\"azyro\"\n",
    "print a[0]\n",
    "print a[-5]\n",
    "print \"*****\"\n",
    "print a[1]\n",
    "print a[-4]\n",
    "print \"******\"\n",
    "print a[2]\n",
    "print a[-3]\n",
    "print \"*****\"\n",
    "print a[3]\n",
    "print a[-2]\n",
    "print \"*****\"\n",
    "print a[4]\n",
    "print a[-1]"
   ]
  },
  {
   "cell_type": "code",
   "execution_count": 13,
   "metadata": {},
   "outputs": [
    {
     "name": "stdout",
     "output_type": "stream",
     "text": [
      "am An\n",
      " Anjan\n",
      "I am Anjan\n",
      "I am Anjan\n",
      " Anjan Kumar\n",
      " Anjan Kumar\n"
     ]
    }
   ],
   "source": [
    "# str slicing ==>>  var[start  : stop]\n",
    "'''\n",
    "==>> We can access group of characters\n",
    "from start index to till (stop - 1) index \n",
    "'''\n",
    "var =\"I am Anjan Kumar\"\n",
    "print var[2 : 7]# 2 3 4 5 6\n",
    "print var[4 :10]#4 5 6 7 8 9\n",
    "print var[:10] # start ---> 0\n",
    "print var[0:10]#\n",
    "print var[4:] # stop ---> len\n",
    "print var[4:16]"
   ]
  },
  {
   "cell_type": "code",
   "execution_count": 14,
   "metadata": {},
   "outputs": [
    {
     "name": "stdout",
     "output_type": "stream",
     "text": [
      "nja\n",
      "anj\n"
     ]
    }
   ],
   "source": [
    "var = \"anjan\"\n",
    "print var[-4 : -1]#-4 -3 -2 \n",
    "# start --> -4\n",
    "# stop  --> -1\n",
    "print var[-5 : -2]#-5 -4 -3 "
   ]
  },
  {
   "cell_type": "code",
   "execution_count": 16,
   "metadata": {},
   "outputs": [
    {
     "name": "stdout",
     "output_type": "stream",
     "text": [
      "oPgmnLg\n",
      "on Programming Langau\n",
      "on Programming Langau\n"
     ]
    }
   ],
   "source": [
    "# dicing ==> var[ start  : stop : step]\n",
    "'''\n",
    "==>> We access the group of characters\n",
    "\n",
    "from start  to  stop -1 with  step wise elements\n",
    "'''\n",
    "var = \"python Programming Langauge\" \n",
    "print var[4 : 25 : 3] #4  7   10  13   16   19   22  \n",
    "print var[4:25:] # step --> 1\n",
    "print var[4:25:1]"
   ]
  },
  {
   "cell_type": "code",
   "execution_count": null,
   "metadata": {},
   "outputs": [],
   "source": []
  }
 ],
 "metadata": {
  "kernelspec": {
   "display_name": "Python 2",
   "language": "python",
   "name": "python2"
  },
  "language_info": {
   "codemirror_mode": {
    "name": "ipython",
    "version": 2
   },
   "file_extension": ".py",
   "mimetype": "text/x-python",
   "name": "python",
   "nbconvert_exporter": "python",
   "pygments_lexer": "ipython2",
   "version": "2.7.16"
  }
 },
 "nbformat": 4,
 "nbformat_minor": 2
}
