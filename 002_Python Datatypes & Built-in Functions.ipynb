{
 "cells": [
  {
   "cell_type": "markdown",
   "metadata": {},
   "source": [
    "### Datatype\n",
    "\n",
    "===>> To Specify the what type of data holded by variables\n",
    "\n",
    "===>> There are 2 types\n",
    "\n",
    "===>>  type() ---->> to know the datatype of any variable\n",
    "\n",
    "1. Fundamental Datatypes\n",
    "\n",
    "===>>>  A single variable can hold the single data element\n",
    "\n",
    "        1. int ----->>   real numbers ( -ve / +ve / 0)\n",
    "        \n",
    "        2. float --->>  real floating numbers ( -ve/+ve /0.0)\n",
    "        \n",
    "        3. complex--->>  real  + img   (   X  +  Yj)\n",
    "        \n",
    "        4. bool  ---->>   True  / False\n",
    "        \n",
    "        5. NOne    --->>  None\n",
    "\n",
    "2. Sequencial Datatypes\n",
    "\n",
    "===>>>  A single variable can hold the multiple data elements\n",
    "\n",
    "        1. str  -->> group of characters \" \"\n",
    "        \n",
    "        2. list --->> group of elements []\n",
    "        \n",
    "        3. tuple -->> group of elements ()\n",
    "        \n",
    "        4. set  --->> group of elements {}\n",
    "        \n",
    "        5. dict --->> group of items  {}\n"
   ]
  },
  {
   "cell_type": "code",
   "execution_count": 1,
   "metadata": {},
   "outputs": [
    {
     "name": "stdout",
     "output_type": "stream",
     "text": [
      "<type 'int'>\n",
      "<type 'int'>\n",
      "<type 'int'>\n"
     ]
    }
   ],
   "source": [
    "# int datatype\n",
    "var = 1234\n",
    "print type(var) # int\n",
    "var = -12367\n",
    "print type(var)\n",
    "var = 0\n",
    "print type(var)"
   ]
  },
  {
   "cell_type": "code",
   "execution_count": 2,
   "metadata": {},
   "outputs": [
    {
     "name": "stdout",
     "output_type": "stream",
     "text": [
      "<type 'float'>\n",
      "<type 'float'>\n",
      "<type 'float'>\n"
     ]
    }
   ],
   "source": [
    "# float datatype\n",
    "var = 12.34\n",
    "print type(var) # int\n",
    "var = -123.67\n",
    "print type(var)\n",
    "var = 0.0\n",
    "print type(var)"
   ]
  },
  {
   "cell_type": "code",
   "execution_count": 3,
   "metadata": {},
   "outputs": [
    {
     "name": "stdout",
     "output_type": "stream",
     "text": [
      "<type 'complex'>\n",
      "<type 'complex'>\n",
      "<type 'complex'>\n"
     ]
    }
   ],
   "source": [
    "# complex datatype\n",
    "var = 12 + 34j\n",
    "print type(var) # int\n",
    "var = -12.0 + 36.7j\n",
    "print type(var)\n",
    "var = 0 + 0j\n",
    "print type(var)"
   ]
  },
  {
   "cell_type": "code",
   "execution_count": 4,
   "metadata": {},
   "outputs": [
    {
     "name": "stdout",
     "output_type": "stream",
     "text": [
      "<type 'bool'>\n",
      "<type 'bool'>\n",
      "<type 'NoneType'>\n"
     ]
    }
   ],
   "source": [
    "# bool Datatype\n",
    "var = True\n",
    "print type(var) # int\n",
    "var = False\n",
    "print type(var)\n",
    "# None type\n",
    "var = None\n",
    "print type(var)"
   ]
  },
  {
   "cell_type": "code",
   "execution_count": 5,
   "metadata": {},
   "outputs": [
    {
     "name": "stdout",
     "output_type": "stream",
     "text": [
      "<type 'str'>\n",
      "<type 'list'>\n",
      "<type 'tuple'>\n",
      "<type 'set'>\n",
      "<type 'dict'>\n"
     ]
    }
   ],
   "source": [
    "# str datatype\n",
    "var = \"python\"\n",
    "print type(var)\n",
    "\n",
    "# list datatype\n",
    "var = [12,3.3 , 5+3j]  # all datatype element    ####  list we can modify list\n",
    "print type(var)\n",
    "\n",
    "# tuple datatype\n",
    "var = (12,3.3 , 5+3j) # all datatype elements    ##### we can't modify tuple\n",
    "print type(var)\n",
    "\n",
    "# set datatype\n",
    "var = {12,3.3 , 5+3j} # list , set , dict\n",
    "print type(var)\n",
    "\n",
    "#dict datatype \n",
    "\n",
    "var ={ 455 : \"Mohd Ayaz\"  , 567 : \"Preethi\"}\n",
    "print type(var)"
   ]
  },
  {
   "cell_type": "code",
   "execution_count": 7,
   "metadata": {},
   "outputs": [
    {
     "name": "stdout",
     "output_type": "stream",
     "text": [
      "enter int  : 789\n",
      "data :  789\n",
      "memory :  72829120\n",
      "datatype:  <type 'int'>\n"
     ]
    }
   ],
   "source": [
    "# input() ---> to read the data from keyword\n",
    "# print   ---> to display data on monitor\n",
    "# id()    ---> memory loc \n",
    "# type()  --->> To know the daatatype any variable\n",
    "\n",
    "##### wap read int by input  and display data, memory , type\n",
    "\n",
    "var = input(\"enter int  : \")\n",
    "print \"data : \",var\n",
    "print \"memory : \",id(var)\n",
    "print \"datatype: \",type(var)"
   ]
  },
  {
   "cell_type": "code",
   "execution_count": null,
   "metadata": {},
   "outputs": [],
   "source": [
    "##### wap read float by input  and display data, memory , type\n",
    "##### wap read complex by input  and display data, memory , type\n",
    "##### wap read bool by input  and display data, memory , type\n",
    "##### wap read None by input  and display data, memory , type\n",
    "##### wap read str by input  and display data, memory , type\n",
    "##### wap read list by input  and display data, memory , type\n",
    "##### wap read tuple by input  and display data, memory , type\n",
    "##### wap read set by input  and display data, memory , type\n",
    "##### wap read dict by input  and display data, memory , type"
   ]
  },
  {
   "cell_type": "code",
   "execution_count": null,
   "metadata": {},
   "outputs": [],
   "source": []
  }
 ],
 "metadata": {
  "kernelspec": {
   "display_name": "Python 2",
   "language": "python",
   "name": "python2"
  },
  "language_info": {
   "codemirror_mode": {
    "name": "ipython",
    "version": 2
   },
   "file_extension": ".py",
   "mimetype": "text/x-python",
   "name": "python",
   "nbconvert_exporter": "python",
   "pygments_lexer": "ipython2",
   "version": "2.7.16"
  }
 },
 "nbformat": 4,
 "nbformat_minor": 2
}
