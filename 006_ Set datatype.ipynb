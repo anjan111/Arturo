{
 "cells": [
  {
   "cell_type": "code",
   "execution_count": 1,
   "metadata": {},
   "outputs": [
    {
     "name": "stdout",
     "output_type": "stream",
     "text": [
      "set([True, 'soc', None, 12, (1, 2, 3), (4+5j), 78.34])\n",
      "<type 'set'>\n"
     ]
    }
   ],
   "source": [
    "# set datatype\n",
    "'''\n",
    "==>> Collection of elements with in {}\n",
    "==>> Set is unorder daatatype\n",
    "==>> So it won't support indexing, slicing, dicing for access the elements from set\n",
    "==>> Set support few datatypes ( int , float, complex, bool ,None ,str, tuple)\n",
    "'''\n",
    "var = {12,78.34,True ,None, 4+5j,\"soc\",(1,2,3)}\n",
    "print var\n",
    "print type(var)"
   ]
  },
  {
   "cell_type": "code",
   "execution_count": 2,
   "metadata": {},
   "outputs": [
    {
     "name": "stdout",
     "output_type": "stream",
     "text": [
      "set([True, 'soc', None, 12, (1, 2, 3), (4+5j), 78.34])\n"
     ]
    },
    {
     "ename": "TypeError",
     "evalue": "'set' object does not support indexing",
     "output_type": "error",
     "traceback": [
      "\u001b[1;31m---------------------------------------------------------------------------\u001b[0m",
      "\u001b[1;31mTypeError\u001b[0m                                 Traceback (most recent call last)",
      "\u001b[1;32m<ipython-input-2-56237ae93565>\u001b[0m in \u001b[0;36m<module>\u001b[1;34m()\u001b[0m\n\u001b[0;32m      1\u001b[0m \u001b[0mvar\u001b[0m \u001b[1;33m=\u001b[0m \u001b[1;33m{\u001b[0m\u001b[1;36m12\u001b[0m\u001b[1;33m,\u001b[0m\u001b[1;36m78.34\u001b[0m\u001b[1;33m,\u001b[0m\u001b[0mTrue\u001b[0m \u001b[1;33m,\u001b[0m\u001b[0mNone\u001b[0m\u001b[1;33m,\u001b[0m \u001b[1;36m4\u001b[0m\u001b[1;33m+\u001b[0m\u001b[1;36m5j\u001b[0m\u001b[1;33m,\u001b[0m\u001b[1;34m\"soc\"\u001b[0m\u001b[1;33m,\u001b[0m\u001b[1;33m(\u001b[0m\u001b[1;36m1\u001b[0m\u001b[1;33m,\u001b[0m\u001b[1;36m2\u001b[0m\u001b[1;33m,\u001b[0m\u001b[1;36m3\u001b[0m\u001b[1;33m)\u001b[0m\u001b[1;33m}\u001b[0m\u001b[1;33m\u001b[0m\u001b[0m\n\u001b[0;32m      2\u001b[0m \u001b[1;32mprint\u001b[0m \u001b[0mvar\u001b[0m\u001b[1;33m\u001b[0m\u001b[0m\n\u001b[1;32m----> 3\u001b[1;33m \u001b[1;32mprint\u001b[0m \u001b[0mvar\u001b[0m\u001b[1;33m[\u001b[0m\u001b[1;36m0\u001b[0m\u001b[1;33m]\u001b[0m\u001b[1;33m\u001b[0m\u001b[0m\n\u001b[0m\u001b[0;32m      4\u001b[0m \u001b[1;32mprint\u001b[0m \u001b[0mvar\u001b[0m\u001b[1;33m[\u001b[0m\u001b[1;36m1\u001b[0m\u001b[1;33m]\u001b[0m\u001b[1;33m\u001b[0m\u001b[0m\n",
      "\u001b[1;31mTypeError\u001b[0m: 'set' object does not support indexing"
     ]
    }
   ],
   "source": [
    "var = {12,78.34,True ,None, 4+5j,\"soc\",(1,2,3)}\n",
    "print var\n",
    "print var[0]\n",
    "print var[1]\n"
   ]
  },
  {
   "cell_type": "code",
   "execution_count": 3,
   "metadata": {},
   "outputs": [
    {
     "name": "stdout",
     "output_type": "stream",
     "text": [
      "set([True, 'soc', None, 12, (1, 2, 3), (4+5j), 78.34])\n"
     ]
    },
    {
     "ename": "TypeError",
     "evalue": "'set' object has no attribute '__getitem__'",
     "output_type": "error",
     "traceback": [
      "\u001b[1;31m---------------------------------------------------------------------------\u001b[0m",
      "\u001b[1;31mTypeError\u001b[0m                                 Traceback (most recent call last)",
      "\u001b[1;32m<ipython-input-3-f6ecd0fd2068>\u001b[0m in \u001b[0;36m<module>\u001b[1;34m()\u001b[0m\n\u001b[0;32m      1\u001b[0m \u001b[0mvar\u001b[0m \u001b[1;33m=\u001b[0m \u001b[1;33m{\u001b[0m\u001b[1;36m12\u001b[0m\u001b[1;33m,\u001b[0m\u001b[1;36m78.34\u001b[0m\u001b[1;33m,\u001b[0m\u001b[0mTrue\u001b[0m \u001b[1;33m,\u001b[0m\u001b[0mNone\u001b[0m\u001b[1;33m,\u001b[0m \u001b[1;36m4\u001b[0m\u001b[1;33m+\u001b[0m\u001b[1;36m5j\u001b[0m\u001b[1;33m,\u001b[0m\u001b[1;34m\"soc\"\u001b[0m\u001b[1;33m,\u001b[0m\u001b[1;33m(\u001b[0m\u001b[1;36m1\u001b[0m\u001b[1;33m,\u001b[0m\u001b[1;36m2\u001b[0m\u001b[1;33m,\u001b[0m\u001b[1;36m3\u001b[0m\u001b[1;33m)\u001b[0m\u001b[1;33m}\u001b[0m\u001b[1;33m\u001b[0m\u001b[0m\n\u001b[0;32m      2\u001b[0m \u001b[1;32mprint\u001b[0m \u001b[0mvar\u001b[0m\u001b[1;33m\u001b[0m\u001b[0m\n\u001b[1;32m----> 3\u001b[1;33m \u001b[1;32mprint\u001b[0m \u001b[0mvar\u001b[0m\u001b[1;33m[\u001b[0m\u001b[1;36m0\u001b[0m \u001b[1;33m:\u001b[0m\u001b[1;36m4\u001b[0m\u001b[1;33m]\u001b[0m\u001b[1;33m\u001b[0m\u001b[0m\n\u001b[0m\u001b[0;32m      4\u001b[0m \u001b[1;32mprint\u001b[0m \u001b[0mvar\u001b[0m\u001b[1;33m[\u001b[0m\u001b[1;36m1\u001b[0m\u001b[1;33m]\u001b[0m\u001b[1;33m\u001b[0m\u001b[0m\n",
      "\u001b[1;31mTypeError\u001b[0m: 'set' object has no attribute '__getitem__'"
     ]
    }
   ],
   "source": [
    "var = {12,78.34,True ,None, 4+5j,\"soc\",(1,2,3)}\n",
    "print var\n",
    "print var[0 :4]\n",
    "print var[1]\n"
   ]
  },
  {
   "cell_type": "code",
   "execution_count": 5,
   "metadata": {},
   "outputs": [
    {
     "ename": "TypeError",
     "evalue": "unhashable type: 'list'",
     "output_type": "error",
     "traceback": [
      "\u001b[1;31m---------------------------------------------------------------------------\u001b[0m",
      "\u001b[1;31mTypeError\u001b[0m                                 Traceback (most recent call last)",
      "\u001b[1;32m<ipython-input-5-ac8ddf216410>\u001b[0m in \u001b[0;36m<module>\u001b[1;34m()\u001b[0m\n\u001b[0;32m      1\u001b[0m \u001b[1;31m# unhashable daatatype mean its mutable datatype\u001b[0m\u001b[1;33m\u001b[0m\u001b[1;33m\u001b[0m\u001b[0m\n\u001b[1;32m----> 2\u001b[1;33m \u001b[0mvar\u001b[0m \u001b[1;33m=\u001b[0m \u001b[1;33m{\u001b[0m\u001b[1;36m45\u001b[0m\u001b[1;33m,\u001b[0m\u001b[1;33m[\u001b[0m\u001b[1;36m1\u001b[0m\u001b[1;33m,\u001b[0m\u001b[1;36m2\u001b[0m\u001b[1;33m,\u001b[0m\u001b[1;36m3\u001b[0m\u001b[1;33m]\u001b[0m\u001b[1;33m}\u001b[0m\u001b[1;33m\u001b[0m\u001b[0m\n\u001b[0m\u001b[0;32m      3\u001b[0m \u001b[1;32mprint\u001b[0m \u001b[0mvar\u001b[0m\u001b[1;33m\u001b[0m\u001b[0m\n",
      "\u001b[1;31mTypeError\u001b[0m: unhashable type: 'list'"
     ]
    }
   ],
   "source": [
    "# unhashable daatatype mean its mutable datatype\n",
    "var = {45,[1,2,3]}\n",
    "print var"
   ]
  },
  {
   "cell_type": "code",
   "execution_count": 6,
   "metadata": {},
   "outputs": [
    {
     "ename": "TypeError",
     "evalue": "unhashable type: 'set'",
     "output_type": "error",
     "traceback": [
      "\u001b[1;31m---------------------------------------------------------------------------\u001b[0m",
      "\u001b[1;31mTypeError\u001b[0m                                 Traceback (most recent call last)",
      "\u001b[1;32m<ipython-input-6-92efe533d3e9>\u001b[0m in \u001b[0;36m<module>\u001b[1;34m()\u001b[0m\n\u001b[0;32m      1\u001b[0m \u001b[1;31m# unhashable daatatype mean its mutable datatype\u001b[0m\u001b[1;33m\u001b[0m\u001b[1;33m\u001b[0m\u001b[0m\n\u001b[1;32m----> 2\u001b[1;33m \u001b[0mvar\u001b[0m \u001b[1;33m=\u001b[0m \u001b[1;33m{\u001b[0m\u001b[1;36m45\u001b[0m\u001b[1;33m,\u001b[0m\u001b[1;33m{\u001b[0m\u001b[1;36m1\u001b[0m\u001b[1;33m,\u001b[0m\u001b[1;36m2\u001b[0m\u001b[1;33m,\u001b[0m\u001b[1;36m3\u001b[0m\u001b[1;33m}\u001b[0m\u001b[1;33m}\u001b[0m\u001b[1;33m\u001b[0m\u001b[0m\n\u001b[0m\u001b[0;32m      3\u001b[0m \u001b[1;32mprint\u001b[0m \u001b[0mvar\u001b[0m\u001b[1;33m\u001b[0m\u001b[0m\n",
      "\u001b[1;31mTypeError\u001b[0m: unhashable type: 'set'"
     ]
    }
   ],
   "source": [
    "# unhashable daatatype mean its mutable datatype\n",
    "var = {45,{1,2,3}}\n",
    "print var"
   ]
  },
  {
   "cell_type": "code",
   "execution_count": 7,
   "metadata": {},
   "outputs": [
    {
     "ename": "TypeError",
     "evalue": "unhashable type: 'dict'",
     "output_type": "error",
     "traceback": [
      "\u001b[1;31m---------------------------------------------------------------------------\u001b[0m",
      "\u001b[1;31mTypeError\u001b[0m                                 Traceback (most recent call last)",
      "\u001b[1;32m<ipython-input-7-a3facef03ac1>\u001b[0m in \u001b[0;36m<module>\u001b[1;34m()\u001b[0m\n\u001b[0;32m      1\u001b[0m \u001b[1;31m# unhashable daatatype mean its mutable datatype\u001b[0m\u001b[1;33m\u001b[0m\u001b[1;33m\u001b[0m\u001b[0m\n\u001b[1;32m----> 2\u001b[1;33m \u001b[0mvar\u001b[0m \u001b[1;33m=\u001b[0m \u001b[1;33m{\u001b[0m\u001b[1;36m45\u001b[0m\u001b[1;33m,\u001b[0m\u001b[1;33m{\u001b[0m\u001b[1;36m1\u001b[0m \u001b[1;33m:\u001b[0m \u001b[1;36m34\u001b[0m\u001b[1;33m}\u001b[0m\u001b[1;33m}\u001b[0m\u001b[1;33m\u001b[0m\u001b[0m\n\u001b[0m\u001b[0;32m      3\u001b[0m \u001b[1;32mprint\u001b[0m \u001b[0mvar\u001b[0m\u001b[1;33m\u001b[0m\u001b[0m\n",
      "\u001b[1;31mTypeError\u001b[0m: unhashable type: 'dict'"
     ]
    }
   ],
   "source": [
    "# unhashable daatatype mean its mutable datatype\n",
    "var = {45,{1 : 34}}\n",
    "print var"
   ]
  },
  {
   "cell_type": "code",
   "execution_count": 8,
   "metadata": {},
   "outputs": [
    {
     "name": "stdout",
     "output_type": "stream",
     "text": [
      "set([90, 12, 78])\n"
     ]
    }
   ],
   "source": [
    "# It won't allow the duplicate elements\n",
    "var = {12,78,12,90,12}\n",
    "print var"
   ]
  },
  {
   "cell_type": "code",
   "execution_count": 9,
   "metadata": {},
   "outputs": [
    {
     "name": "stdout",
     "output_type": "stream",
     "text": [
      "346\n",
      "90\n",
      "12\n"
     ]
    }
   ],
   "source": [
    "a = {12,90,45,88,34,77}\n",
    "print sum(a)\n",
    "print max(a)\n",
    "print min(a)"
   ]
  },
  {
   "cell_type": "code",
   "execution_count": 10,
   "metadata": {},
   "outputs": [
    {
     "name": "stdout",
     "output_type": "stream",
     "text": [
      "set([34, 12, 45, 23, 56, 90])\n",
      "set([34, 12, 45, 23, 56, 90])\n",
      "set([34, 12, 45, 23, 56, 90])\n"
     ]
    }
   ],
   "source": [
    "#union , intersection ,difference , symmetric difference\n",
    "a = {12,45,90,23}\n",
    "b = {12,90,56,34}\n",
    "print a | b # or\n",
    "print a.__or__(b)\n",
    "print a.union(b)"
   ]
  },
  {
   "cell_type": "code",
   "execution_count": 11,
   "metadata": {},
   "outputs": [
    {
     "name": "stdout",
     "output_type": "stream",
     "text": [
      "set([90, 12])\n",
      "set([90, 12])\n",
      "set([90, 12])\n"
     ]
    }
   ],
   "source": [
    "a = {12,45,90,23}\n",
    "b = {12,90,56,34}\n",
    "print a & b\n",
    "print a.__and__(b)\n",
    "print a.intersection(b)"
   ]
  },
  {
   "cell_type": "code",
   "execution_count": 12,
   "metadata": {},
   "outputs": [
    {
     "name": "stdout",
     "output_type": "stream",
     "text": [
      "set([45, 23])\n",
      "set([45, 23])\n",
      "set([45, 23])\n",
      "********\n",
      "set([56, 34])\n",
      "set([56, 34])\n",
      "set([56, 34])\n"
     ]
    }
   ],
   "source": [
    "a = {12,45,90,23}\n",
    "b = {12,90,56,34}\n",
    "print a  -  b\n",
    "print a.__sub__(b)\n",
    "print a.difference(b)\n",
    "print \"********\"\n",
    "print b  -  a\n",
    "print b.__sub__(a)\n",
    "print b.difference(a)"
   ]
  },
  {
   "cell_type": "code",
   "execution_count": 13,
   "metadata": {},
   "outputs": [
    {
     "name": "stdout",
     "output_type": "stream",
     "text": [
      "set([34, 45, 23, 56])\n",
      "set([34, 45, 23, 56])\n",
      "set([34, 45, 23, 56])\n",
      "set([56, 34, 45, 23])\n"
     ]
    }
   ],
   "source": [
    "#symmetric difference    (  union   -  intersection)\n",
    "a = {12,45,90,23}\n",
    "b = {12,90,56,34}\n",
    "print a  ^ b\n",
    "print a.__xor__(b)\n",
    "print a.symmetric_difference(b)\n",
    "print (a | b) - (a &b)"
   ]
  },
  {
   "cell_type": "code",
   "execution_count": 14,
   "metadata": {},
   "outputs": [
    {
     "name": "stdout",
     "output_type": "stream",
     "text": [
      "set([12.5, 34, 78])\n",
      "set([12.5, 34, 100, 78])\n",
      "set([12.5, 34, 100, 78])\n",
      "set([12.5, 34, 67, 100, 78])\n"
     ]
    }
   ],
   "source": [
    "# set\n",
    "a = {12.5 , 78 ,34}\n",
    "print a\n",
    "a.add(100)\n",
    "print a\n",
    "a.add(34)\n",
    "print a\n",
    "a.add(67)\n",
    "print a\n"
   ]
  },
  {
   "cell_type": "code",
   "execution_count": 15,
   "metadata": {},
   "outputs": [
    {
     "name": "stdout",
     "output_type": "stream",
     "text": [
      "[1, 2, 4]\n",
      "[1, 2, 4, 100]\n",
      "[1, 2, 200, 4, 100]\n"
     ]
    }
   ],
   "source": [
    "# list\n",
    "a = [1,2,4]\n",
    "print a\n",
    "a.append(100)\n",
    "print a\n",
    "a.insert(2,200)\n",
    "print a"
   ]
  },
  {
   "cell_type": "code",
   "execution_count": 16,
   "metadata": {
    "scrolled": true
   },
   "outputs": [
    {
     "name": "stdout",
     "output_type": "stream",
     "text": [
      "set([67, 12, 45, 23, 89, 90])\n",
      "67\n",
      "set([12, 45, 23, 89, 90])\n",
      "12\n",
      "set([45, 23, 89, 90])\n"
     ]
    }
   ],
   "source": [
    "a = {12,90,67,45,89,23}\n",
    "print a\n",
    "print a.pop()\n",
    "print a\n",
    "print a.pop()\n",
    "print a"
   ]
  },
  {
   "cell_type": "code",
   "execution_count": 18,
   "metadata": {},
   "outputs": [
    {
     "name": "stdout",
     "output_type": "stream",
     "text": [
      "[12, 90, 67, 45, 89, 23]\n",
      "23\n",
      "[12, 90, 67, 45, 89]\n",
      "89\n",
      "[12, 90, 67, 45]\n",
      "67\n",
      "[12, 90, 45]\n"
     ]
    }
   ],
   "source": [
    "a = [12,90,67,45,89,23]\n",
    "print a\n",
    "print a.pop()\n",
    "print a\n",
    "print a.pop()\n",
    "print a\n",
    "print a.pop(2)\n",
    "print a"
   ]
  },
  {
   "cell_type": "code",
   "execution_count": 19,
   "metadata": {},
   "outputs": [
    {
     "name": "stdout",
     "output_type": "stream",
     "text": [
      "set([67, 12, 45, 23, 89, 90])\n",
      "set([67, 12, 45, 23, 89])\n"
     ]
    }
   ],
   "source": [
    "a = {12,90,67,45,89,23}\n",
    "print a\n",
    "a.discard(90)\n",
    "print a\n",
    "a.discard(100)\n"
   ]
  },
  {
   "cell_type": "code",
   "execution_count": 20,
   "metadata": {},
   "outputs": [
    {
     "name": "stdout",
     "output_type": "stream",
     "text": [
      "set([67, 12, 45, 23, 89, 90])\n",
      "set([67, 12, 45, 23, 89])\n"
     ]
    },
    {
     "ename": "KeyError",
     "evalue": "100",
     "output_type": "error",
     "traceback": [
      "\u001b[1;31m---------------------------------------------------------------------------\u001b[0m",
      "\u001b[1;31mKeyError\u001b[0m                                  Traceback (most recent call last)",
      "\u001b[1;32m<ipython-input-20-f77baa0ed482>\u001b[0m in \u001b[0;36m<module>\u001b[1;34m()\u001b[0m\n\u001b[0;32m      3\u001b[0m \u001b[0ma\u001b[0m\u001b[1;33m.\u001b[0m\u001b[0mremove\u001b[0m\u001b[1;33m(\u001b[0m\u001b[1;36m90\u001b[0m\u001b[1;33m)\u001b[0m\u001b[1;33m\u001b[0m\u001b[0m\n\u001b[0;32m      4\u001b[0m \u001b[1;32mprint\u001b[0m \u001b[0ma\u001b[0m\u001b[1;33m\u001b[0m\u001b[0m\n\u001b[1;32m----> 5\u001b[1;33m \u001b[0ma\u001b[0m\u001b[1;33m.\u001b[0m\u001b[0mremove\u001b[0m\u001b[1;33m(\u001b[0m\u001b[1;36m100\u001b[0m\u001b[1;33m)\u001b[0m\u001b[1;33m\u001b[0m\u001b[0m\n\u001b[0m",
      "\u001b[1;31mKeyError\u001b[0m: 100"
     ]
    }
   ],
   "source": [
    "a = {12,90,67,45,89,23}\n",
    "print a\n",
    "a.remove(90)\n",
    "print a\n",
    "a.remove(100)\n"
   ]
  },
  {
   "cell_type": "code",
   "execution_count": 21,
   "metadata": {},
   "outputs": [
    {
     "name": "stdout",
     "output_type": "stream",
     "text": [
      "set([90, 12, 23])\n",
      "set([])\n"
     ]
    }
   ],
   "source": [
    "a = {12,90,23}\n",
    "print a\n",
    "a.clear()\n",
    "print a"
   ]
  },
  {
   "cell_type": "code",
   "execution_count": 26,
   "metadata": {},
   "outputs": [
    {
     "name": "stdout",
     "output_type": "stream",
     "text": [
      "set([90, 12, 23])\n",
      "set([90, 12, 23])\n",
      "memory a :  77286536\n",
      "memory b :  68890184\n",
      "set([90, 123, 12, 23])\n",
      "set([90, 12, 23])\n",
      "set([90, 123, 12, 23])\n",
      "set([90, 103, 12, 23])\n"
     ]
    }
   ],
   "source": [
    "a = {12,90,23}\n",
    "print a\n",
    "b = a.copy()\n",
    "print b\n",
    "print \"memory a : \",id(a)\n",
    "print \"memory b : \",id(b)\n",
    "a.add(123)\n",
    "print a\n",
    "print b\n",
    "b.add(103)\n",
    "print a\n",
    "print b"
   ]
  },
  {
   "cell_type": "code",
   "execution_count": 27,
   "metadata": {},
   "outputs": [
    {
     "name": "stdout",
     "output_type": "stream",
     "text": [
      "set([90, 12, 23])\n",
      "set([90, 12, 23])\n",
      "memory a :  77286312\n",
      "memory b :  77286312\n",
      "set([90, 123, 12, 23])\n",
      "set([90, 123, 12, 23])\n",
      "set([103, 90, 123, 12, 23])\n",
      "set([103, 90, 123, 12, 23])\n"
     ]
    }
   ],
   "source": [
    "a = {12,90,23}\n",
    "print a\n",
    "b = a\n",
    "print b\n",
    "print \"memory a : \",id(a)\n",
    "print \"memory b : \",id(b)\n",
    "a.add(123)\n",
    "print a\n",
    "print b\n",
    "b.add(103)\n",
    "print a\n",
    "print b"
   ]
  },
  {
   "cell_type": "code",
   "execution_count": 28,
   "metadata": {},
   "outputs": [
    {
     "name": "stdout",
     "output_type": "stream",
     "text": [
      "set([34, 23, 90, 12])\n",
      "set([34, 90, 23])\n"
     ]
    }
   ],
   "source": [
    "a = {12,90,23}\n",
    "b = {34,90,23}\n",
    "a.update(b)\n",
    "print a\n",
    "print b"
   ]
  },
  {
   "cell_type": "code",
   "execution_count": null,
   "metadata": {},
   "outputs": [],
   "source": []
  }
 ],
 "metadata": {
  "kernelspec": {
   "display_name": "Python 2",
   "language": "python",
   "name": "python2"
  },
  "language_info": {
   "codemirror_mode": {
    "name": "ipython",
    "version": 2
   },
   "file_extension": ".py",
   "mimetype": "text/x-python",
   "name": "python",
   "nbconvert_exporter": "python",
   "pygments_lexer": "ipython2",
   "version": "2.7.16"
  }
 },
 "nbformat": 4,
 "nbformat_minor": 2
}
